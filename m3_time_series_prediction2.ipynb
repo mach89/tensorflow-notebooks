{
  "nbformat": 4,
  "nbformat_minor": 0,
  "metadata": {
    "colab": {
      "name": "m3-time-series-prediction2.ipynb",
      "version": "0.3.2",
      "provenance": [],
      "collapsed_sections": [],
      "include_colab_link": true
    },
    "kernelspec": {
      "name": "python3",
      "display_name": "Python 3"
    },
    "accelerator": "GPU"
  },
  "cells": [
    {
      "cell_type": "markdown",
      "metadata": {
        "id": "view-in-github",
        "colab_type": "text"
      },
      "source": [
        "<a href=\"https://colab.research.google.com/github/rawar/tensorflow-notebooks/blob/master/m3_time_series_prediction2.ipynb\" target=\"_parent\"><img src=\"https://colab.research.google.com/assets/colab-badge.svg\" alt=\"Open In Colab\"/></a>"
      ]
    },
    {
      "cell_type": "markdown",
      "metadata": {
        "id": "S2qaHlYbeDJE",
        "colab_type": "text"
      },
      "source": [
        "## Predict stock prices with Long short-term memory (LSTM)\n",
        "This simple example will show you how LSTM models predict time series data. Stock market data is a great choice for this because it's quite regular and widely available via the Internet.\n",
        "\n",
        "### Install requirements\n",
        "We install Tensorflow 2.0 nightly build with GPU and LSTM support first"
      ]
    },
    {
      "cell_type": "code",
      "metadata": {
        "id": "1w2RbZZbqOAV",
        "colab_type": "code",
        "colab": {
          "base_uri": "https://localhost:8080/",
          "height": 710
        },
        "outputId": "6822e193-93fb-4232-cc1c-081f43645ebd"
      },
      "source": [
        "#!pip install tensorflow-gpu==2.0.0-alpha0\n",
        "pip install tf-nightly-gpu"
      ],
      "execution_count": 1,
      "outputs": [
        {
          "output_type": "stream",
          "text": [
            "Collecting tf-nightly-gpu\n",
            "\u001b[?25l  Downloading https://files.pythonhosted.org/packages/d9/f3/f19fc837cccc486751613550ea3747844bec86ee85d3cab799edfcbe0ee5/tf_nightly_gpu-1.14.1.dev20190512-cp36-cp36m-manylinux1_x86_64.whl (375.3MB)\n",
            "\u001b[K     |████████████████████████████████| 375.3MB 42kB/s \n",
            "\u001b[?25hCollecting google-pasta>=0.1.6 (from tf-nightly-gpu)\n",
            "\u001b[?25l  Downloading https://files.pythonhosted.org/packages/f9/68/a14620bfb042691f532dcde8576ff82ee82e4c003cdc0a3dbee5f289cee6/google_pasta-0.1.6-py3-none-any.whl (51kB)\n",
            "\u001b[K     |████████████████████████████████| 61kB 27.9MB/s \n",
            "\u001b[?25hRequirement already satisfied: keras-applications>=1.0.6 in /usr/local/lib/python3.6/dist-packages (from tf-nightly-gpu) (1.0.7)\n",
            "Collecting tb-nightly<1.15.0a0,>=1.14.0a0 (from tf-nightly-gpu)\n",
            "\u001b[?25l  Downloading https://files.pythonhosted.org/packages/ca/84/bc3cd590124ab4adac1f46c5166cffe73c1b9b6b51300d3d57cd7e5b27e0/tb_nightly-1.14.0a20190511-py3-none-any.whl (3.1MB)\n",
            "\u001b[K     |████████████████████████████████| 3.1MB 30.9MB/s \n",
            "\u001b[?25hRequirement already satisfied: termcolor>=1.1.0 in /usr/local/lib/python3.6/dist-packages (from tf-nightly-gpu) (1.1.0)\n",
            "Requirement already satisfied: gast>=0.2.0 in /usr/local/lib/python3.6/dist-packages (from tf-nightly-gpu) (0.2.2)\n",
            "Requirement already satisfied: grpcio>=1.8.6 in /usr/local/lib/python3.6/dist-packages (from tf-nightly-gpu) (1.15.0)\n",
            "Requirement already satisfied: wheel>=0.26 in /usr/local/lib/python3.6/dist-packages (from tf-nightly-gpu) (0.33.1)\n",
            "Requirement already satisfied: astor>=0.6.0 in /usr/local/lib/python3.6/dist-packages (from tf-nightly-gpu) (0.7.1)\n",
            "Requirement already satisfied: six>=1.10.0 in /usr/local/lib/python3.6/dist-packages (from tf-nightly-gpu) (1.12.0)\n",
            "Requirement already satisfied: numpy<2.0,>=1.14.5 in /usr/local/lib/python3.6/dist-packages (from tf-nightly-gpu) (1.16.3)\n",
            "Collecting tf-estimator-nightly (from tf-nightly-gpu)\n",
            "\u001b[?25l  Downloading https://files.pythonhosted.org/packages/17/85/720c28b6ec6488b42d8df4d5085955bc132c73eb400b2037960a00383f80/tf_estimator_nightly-1.14.0.dev2019051201-py2.py3-none-any.whl (487kB)\n",
            "\u001b[K     |████████████████████████████████| 491kB 50.2MB/s \n",
            "\u001b[?25hRequirement already satisfied: protobuf>=3.6.1 in /usr/local/lib/python3.6/dist-packages (from tf-nightly-gpu) (3.7.1)\n",
            "Requirement already satisfied: keras-preprocessing>=1.0.5 in /usr/local/lib/python3.6/dist-packages (from tf-nightly-gpu) (1.0.9)\n",
            "Requirement already satisfied: absl-py>=0.7.0 in /usr/local/lib/python3.6/dist-packages (from tf-nightly-gpu) (0.7.1)\n",
            "Collecting wrapt>=1.11.1 (from tf-nightly-gpu)\n",
            "  Downloading https://files.pythonhosted.org/packages/67/b2/0f71ca90b0ade7fad27e3d20327c996c6252a2ffe88f50a95bba7434eda9/wrapt-1.11.1.tar.gz\n",
            "Requirement already satisfied: h5py in /usr/local/lib/python3.6/dist-packages (from keras-applications>=1.0.6->tf-nightly-gpu) (2.8.0)\n",
            "Requirement already satisfied: werkzeug>=0.11.15 in /usr/local/lib/python3.6/dist-packages (from tb-nightly<1.15.0a0,>=1.14.0a0->tf-nightly-gpu) (0.15.2)\n",
            "Requirement already satisfied: markdown>=2.6.8 in /usr/local/lib/python3.6/dist-packages (from tb-nightly<1.15.0a0,>=1.14.0a0->tf-nightly-gpu) (3.1)\n",
            "Requirement already satisfied: setuptools in /usr/local/lib/python3.6/dist-packages (from protobuf>=3.6.1->tf-nightly-gpu) (41.0.1)\n",
            "Building wheels for collected packages: wrapt\n",
            "  Building wheel for wrapt (setup.py) ... \u001b[?25l\u001b[?25hdone\n",
            "  Stored in directory: /root/.cache/pip/wheels/89/67/41/63cbf0f6ac0a6156588b9587be4db5565f8c6d8ccef98202fc\n",
            "Successfully built wrapt\n",
            "\u001b[31mERROR: thinc 6.12.1 has requirement wrapt<1.11.0,>=1.10.0, but you'll have wrapt 1.11.1 which is incompatible.\u001b[0m\n",
            "Installing collected packages: google-pasta, tb-nightly, tf-estimator-nightly, wrapt, tf-nightly-gpu\n",
            "  Found existing installation: wrapt 1.10.11\n",
            "    Uninstalling wrapt-1.10.11:\n",
            "      Successfully uninstalled wrapt-1.10.11\n",
            "Successfully installed google-pasta-0.1.6 tb-nightly-1.14.0a20190511 tf-estimator-nightly-1.14.0.dev2019051201 tf-nightly-gpu-1.14.1.dev20190512 wrapt-1.11.1\n"
          ],
          "name": "stdout"
        }
      ]
    },
    {
      "cell_type": "code",
      "metadata": {
        "id": "W4Z55fx7rLCa",
        "colab_type": "code",
        "colab": {}
      },
      "source": [
        "import pandas as pd\n",
        "import numpy as np\n",
        "%matplotlib inline\n",
        "import matplotlib.pyplot as plt\n",
        "\n",
        "from sklearn.preprocessing import MinMaxScaler\n",
        "from sklearn.metrics import r2_score"
      ],
      "execution_count": 0,
      "outputs": []
    },
    {
      "cell_type": "markdown",
      "metadata": {
        "id": "ptp8wVdHeuDm",
        "colab_type": "text"
      },
      "source": [
        "### Loading the dataset\n",
        "I use pandas-datareader to get the historical stock prices from Yahoo! finance. For this example, I get only the historical data till the end of training_end_data."
      ]
    },
    {
      "cell_type": "code",
      "metadata": {
        "id": "bPFEgO89rPH5",
        "colab_type": "code",
        "colab": {}
      },
      "source": [
        "from pandas_datareader import data"
      ],
      "execution_count": 0,
      "outputs": []
    },
    {
      "cell_type": "code",
      "metadata": {
        "id": "5Qap2yPEr9Di",
        "colab_type": "code",
        "colab": {}
      },
      "source": [
        "tickers = 'AAPL'\n",
        "\n",
        "#start_date = '1980-12-01'\n",
        "start_date = '2016-12-01'\n",
        "end_date = '2019-05-01'\n",
        "\n",
        "stock_data = data.get_data_yahoo(tickers, start_date, end_date)"
      ],
      "execution_count": 0,
      "outputs": []
    },
    {
      "cell_type": "code",
      "metadata": {
        "id": "3bGXK4XPsAHo",
        "colab_type": "code",
        "outputId": "511cdb23-d8c5-439b-eae9-efbb3be173d0",
        "colab": {
          "base_uri": "https://localhost:8080/",
          "height": 227
        }
      },
      "source": [
        "stock_data.head()"
      ],
      "execution_count": 5,
      "outputs": [
        {
          "output_type": "execute_result",
          "data": {
            "text/html": [
              "<div>\n",
              "<style scoped>\n",
              "    .dataframe tbody tr th:only-of-type {\n",
              "        vertical-align: middle;\n",
              "    }\n",
              "\n",
              "    .dataframe tbody tr th {\n",
              "        vertical-align: top;\n",
              "    }\n",
              "\n",
              "    .dataframe thead th {\n",
              "        text-align: right;\n",
              "    }\n",
              "</style>\n",
              "<table border=\"1\" class=\"dataframe\">\n",
              "  <thead>\n",
              "    <tr style=\"text-align: right;\">\n",
              "      <th></th>\n",
              "      <th>High</th>\n",
              "      <th>Low</th>\n",
              "      <th>Open</th>\n",
              "      <th>Close</th>\n",
              "      <th>Volume</th>\n",
              "      <th>Adj Close</th>\n",
              "    </tr>\n",
              "    <tr>\n",
              "      <th>Date</th>\n",
              "      <th></th>\n",
              "      <th></th>\n",
              "      <th></th>\n",
              "      <th></th>\n",
              "      <th></th>\n",
              "      <th></th>\n",
              "    </tr>\n",
              "  </thead>\n",
              "  <tbody>\n",
              "    <tr>\n",
              "      <th>2016-12-01</th>\n",
              "      <td>110.940002</td>\n",
              "      <td>109.029999</td>\n",
              "      <td>110.370003</td>\n",
              "      <td>109.489998</td>\n",
              "      <td>37086900.0</td>\n",
              "      <td>105.304413</td>\n",
              "    </tr>\n",
              "    <tr>\n",
              "      <th>2016-12-02</th>\n",
              "      <td>110.089996</td>\n",
              "      <td>108.849998</td>\n",
              "      <td>109.169998</td>\n",
              "      <td>109.900002</td>\n",
              "      <td>26528000.0</td>\n",
              "      <td>105.698738</td>\n",
              "    </tr>\n",
              "    <tr>\n",
              "      <th>2016-12-05</th>\n",
              "      <td>110.029999</td>\n",
              "      <td>108.250000</td>\n",
              "      <td>110.000000</td>\n",
              "      <td>109.110001</td>\n",
              "      <td>34324500.0</td>\n",
              "      <td>104.938942</td>\n",
              "    </tr>\n",
              "    <tr>\n",
              "      <th>2016-12-06</th>\n",
              "      <td>110.360001</td>\n",
              "      <td>109.190002</td>\n",
              "      <td>109.500000</td>\n",
              "      <td>109.949997</td>\n",
              "      <td>26195500.0</td>\n",
              "      <td>105.746819</td>\n",
              "    </tr>\n",
              "    <tr>\n",
              "      <th>2016-12-07</th>\n",
              "      <td>111.190002</td>\n",
              "      <td>109.160004</td>\n",
              "      <td>109.260002</td>\n",
              "      <td>111.029999</td>\n",
              "      <td>29998700.0</td>\n",
              "      <td>106.785538</td>\n",
              "    </tr>\n",
              "  </tbody>\n",
              "</table>\n",
              "</div>"
            ],
            "text/plain": [
              "                  High         Low        Open       Close      Volume  \\\n",
              "Date                                                                     \n",
              "2016-12-01  110.940002  109.029999  110.370003  109.489998  37086900.0   \n",
              "2016-12-02  110.089996  108.849998  109.169998  109.900002  26528000.0   \n",
              "2016-12-05  110.029999  108.250000  110.000000  109.110001  34324500.0   \n",
              "2016-12-06  110.360001  109.190002  109.500000  109.949997  26195500.0   \n",
              "2016-12-07  111.190002  109.160004  109.260002  111.029999  29998700.0   \n",
              "\n",
              "             Adj Close  \n",
              "Date                    \n",
              "2016-12-01  105.304413  \n",
              "2016-12-02  105.698738  \n",
              "2016-12-05  104.938942  \n",
              "2016-12-06  105.746819  \n",
              "2016-12-07  106.785538  "
            ]
          },
          "metadata": {
            "tags": []
          },
          "execution_count": 5
        }
      ]
    },
    {
      "cell_type": "markdown",
      "metadata": {
        "id": "cfTEDjl1e0K3",
        "colab_type": "text"
      },
      "source": [
        "### Plot the whole data set"
      ]
    },
    {
      "cell_type": "code",
      "metadata": {
        "id": "yb8qhsrvtOac",
        "colab_type": "code",
        "outputId": "69521dd7-8c42-4bc8-fd34-a1e6eb46fdb9",
        "colab": {
          "base_uri": "https://localhost:8080/",
          "height": 298
        }
      },
      "source": [
        "stock_data_frame = stock_data[[\"Close\"]]\n",
        "stock_data_frame.plot()"
      ],
      "execution_count": 10,
      "outputs": [
        {
          "output_type": "execute_result",
          "data": {
            "text/plain": [
              "<matplotlib.axes._subplots.AxesSubplot at 0x7f3fb948b128>"
            ]
          },
          "metadata": {
            "tags": []
          },
          "execution_count": 10
        },
        {
          "output_type": "display_data",
          "data": {
            "image/png": "[encoded data removed]",
            "text/plain": [
              "<Figure size 432x288 with 1 Axes>"
            ]
          },
          "metadata": {
            "tags": []
          }
        }
      ]
    },
    {
      "cell_type": "markdown",
      "metadata": {
        "id": "V195SMSif3-l",
        "colab_type": "text"
      },
      "source": [
        "### Reindex dataset\n",
        "\n",
        "Of course, some of the weekdays might be public holidays in which case no price will be available. For this reason, we will fill the missing prices with the latest available prices"
      ]
    },
    {
      "cell_type": "code",
      "metadata": {
        "id": "2Af_1yEkftPV",
        "colab_type": "code",
        "colab": {}
      },
      "source": [
        "all_businessdays = pd.date_range(start=start_date, end=end_date, freq='B')\n",
        "stock_businessdays_data_frame = stock_data_frame.reindex(all_businessdays)\n",
        "stock_businessdays_data_frame = stock_data_frame.fillna(method='ffill')"
      ],
      "execution_count": 0,
      "outputs": []
    },
    {
      "cell_type": "markdown",
      "metadata": {
        "id": "eP6vrHhGe3vl",
        "colab_type": "text"
      },
      "source": [
        "### Split the data set into training and test\n",
        "\n",
        "The following code split the whole dataset into two different sets. First, the major part for training and the minor part for testing."
      ]
    },
    {
      "cell_type": "code",
      "metadata": {
        "id": "5E4SpbFCteIJ",
        "colab_type": "code",
        "outputId": "693b6b16-f1c4-41c5-cff3-b2bf2ab593a1",
        "colab": {
          "base_uri": "https://localhost:8080/",
          "height": 298
        }
      },
      "source": [
        "split_date = pd.Timestamp('2018-09-15')\n",
        "train = stock_businessdays_data_frame.loc[:split_date]\n",
        "test = stock_businessdays_data_frame.loc[split_date:]\n",
        "ax = train.plot()\n",
        "test.plot(ax=ax)\n",
        "plt.legend(['train', 'test'])\n"
      ],
      "execution_count": 12,
      "outputs": [
        {
          "output_type": "execute_result",
          "data": {
            "text/plain": [
              "<matplotlib.legend.Legend at 0x7f3fb6a75748>"
            ]
          },
          "metadata": {
            "tags": []
          },
          "execution_count": 12
        },
        {
          "output_type": "display_data",
          "data": {
            "image/png": "[encoded data removed]",
            "text/plain": [
              "<Figure size 432x288 with 1 Axes>"
            ]
          },
          "metadata": {
            "tags": []
          }
        }
      ]
    },
    {
      "cell_type": "markdown",
      "metadata": {
        "id": "7RPiGyHRhDOW",
        "colab_type": "text"
      },
      "source": [
        "### Reshape input data"
      ]
    },
    {
      "cell_type": "code",
      "metadata": {
        "id": "Vvi98W5nt2VV",
        "colab_type": "code",
        "colab": {}
      },
      "source": [
        "sc = MinMaxScaler()\n",
        "train_sc = sc.fit_transform(train)\n",
        "test_sc = sc.transform(test)"
      ],
      "execution_count": 0,
      "outputs": []
    },
    {
      "cell_type": "code",
      "metadata": {
        "id": "sJK73kjKt9cB",
        "colab_type": "code",
        "colab": {}
      },
      "source": [
        "\n",
        "X_train = train_sc[:-1]\n",
        "y_train = train_sc[1:]\n",
        "\n",
        "X_test = test_sc[:-1]\n",
        "y_test = test_sc[1:]"
      ],
      "execution_count": 0,
      "outputs": []
    },
    {
      "cell_type": "code",
      "metadata": {
        "id": "nr_9rO6Ft-jR",
        "colab_type": "code",
        "colab": {}
      },
      "source": [
        "\n",
        "X_tr_t = X_train.reshape(X_train.shape[0], 1, X_train.shape[1])\n",
        "X_tst_t = X_test.reshape(X_test.shape[0], 1, X_test.shape[1])"
      ],
      "execution_count": 0,
      "outputs": []
    },
    {
      "cell_type": "markdown",
      "metadata": {
        "id": "vVKElDOPhJOH",
        "colab_type": "text"
      },
      "source": [
        "### Train the model\n",
        "\n",
        "We're using the EarlyStopping() callback function to stop the training if no improvement after 5 epochs will be find. "
      ]
    },
    {
      "cell_type": "code",
      "metadata": {
        "id": "FV2u32pnuDTz",
        "colab_type": "code",
        "colab": {}
      },
      "source": [
        "import tensorflow as tf"
      ],
      "execution_count": 0,
      "outputs": []
    },
    {
      "cell_type": "code",
      "metadata": {
        "id": "scD947_ruS9E",
        "colab_type": "code",
        "outputId": "7d679ecb-ca17-4f12-9277-606617606ca0",
        "colab": {
          "base_uri": "https://localhost:8080/",
          "height": 3538
        }
      },
      "source": [
        "model_lstm = tf.keras.Sequential()\n",
        "model_lstm.add(tf.keras.layers.LSTM(7, input_shape=(1, X_train.shape[1]), activation='relu', kernel_initializer='lecun_uniform', return_sequences=False))\n",
        "model_lstm.add(tf.keras.layers.Dense(1))\n",
        "model_lstm.compile(loss='mean_squared_error', optimizer='adam')\n",
        "early_stop = tf.keras.callbacks.EarlyStopping(monitor='loss', patience=5, verbose=1)\n",
        "history_model_lstm = model_lstm.fit(X_tr_t, y_train, epochs=200, batch_size=1, verbose=1, shuffle=False, callbacks=[early_stop])"
      ],
      "execution_count": 17,
      "outputs": [
        {
          "output_type": "stream",
          "text": [
            "WARNING: Logging before flag parsing goes to stderr.\n",
            "W0512 10:09:29.324509 139912364066688 deprecation.py:506] From /usr/local/lib/python3.6/dist-packages/tensorflow/python/ops/init_ops.py:1251: calling VarianceScaling.__init__ (from tensorflow.python.ops.init_ops) with dtype is deprecated and will be removed in a future version.\n",
            "Instructions for updating:\n",
            "Call initializer instance with the dtype argument instead of passing it to the constructor\n"
          ],
          "name": "stderr"
        },
        {
          "output_type": "stream",
          "text": [
            "Epoch 1/200\n",
            "449/449 [==============================] - 4s 10ms/sample - loss: 0.0100\n",
            "Epoch 2/200\n",
            "449/449 [==============================] - 2s 5ms/sample - loss: 0.0212\n",
            "Epoch 3/200\n",
            "449/449 [==============================] - 2s 4ms/sample - loss: 0.0121\n",
            "Epoch 4/200\n",
            "449/449 [==============================] - 2s 5ms/sample - loss: 0.0064\n",
            "Epoch 5/200\n",
            "449/449 [==============================] - 2s 4ms/sample - loss: 0.0032\n",
            "Epoch 6/200\n",
            "449/449 [==============================] - 2s 4ms/sample - loss: 0.0017\n",
            "Epoch 7/200\n",
            "449/449 [==============================] - 2s 5ms/sample - loss: 0.0011\n",
            "Epoch 8/200\n",
            "449/449 [==============================] - 2s 4ms/sample - loss: 8.2436e-04\n",
            "Epoch 9/200\n",
            "449/449 [==============================] - 2s 5ms/sample - loss: 7.0357e-04\n",
            "Epoch 10/200\n",
            "449/449 [==============================] - 2s 5ms/sample - loss: 6.4264e-04\n",
            "Epoch 11/200\n",
            "449/449 [==============================] - 2s 5ms/sample - loss: 6.0914e-04\n",
            "Epoch 12/200\n",
            "449/449 [==============================] - 2s 4ms/sample - loss: 5.8948e-04\n",
            "Epoch 13/200\n",
            "449/449 [==============================] - 2s 4ms/sample - loss: 5.7709e-04\n",
            "Epoch 14/200\n",
            "449/449 [==============================] - 2s 5ms/sample - loss: 5.6872e-04\n",
            "Epoch 15/200\n",
            "449/449 [==============================] - 2s 5ms/sample - loss: 5.6228e-04\n",
            "Epoch 16/200\n",
            "449/449 [==============================] - 2s 5ms/sample - loss: 5.5636e-04\n",
            "Epoch 17/200\n",
            "449/449 [==============================] - 2s 4ms/sample - loss: 5.4967e-04\n",
            "Epoch 18/200\n",
            "449/449 [==============================] - 2s 5ms/sample - loss: 5.4316e-04\n",
            "Epoch 19/200\n",
            "449/449 [==============================] - 2s 5ms/sample - loss: 5.3647e-04\n",
            "Epoch 20/200\n",
            "449/449 [==============================] - 2s 4ms/sample - loss: 5.2984e-04\n",
            "Epoch 21/200\n",
            "449/449 [==============================] - 2s 4ms/sample - loss: 5.2321e-04\n",
            "Epoch 22/200\n",
            "449/449 [==============================] - 2s 4ms/sample - loss: 5.1656e-04\n",
            "Epoch 23/200\n",
            "449/449 [==============================] - 2s 4ms/sample - loss: 5.0988e-04\n",
            "Epoch 24/200\n",
            "449/449 [==============================] - 2s 5ms/sample - loss: 5.0316e-04\n",
            "Epoch 25/200\n",
            "449/449 [==============================] - 2s 5ms/sample - loss: 4.9642e-04\n",
            "Epoch 26/200\n",
            "449/449 [==============================] - 2s 5ms/sample - loss: 4.8985e-04\n",
            "Epoch 27/200\n",
            "449/449 [==============================] - 2s 4ms/sample - loss: 4.8368e-04\n",
            "Epoch 28/200\n",
            "449/449 [==============================] - 2s 4ms/sample - loss: 4.7736e-04\n",
            "Epoch 29/200\n",
            "449/449 [==============================] - 2s 4ms/sample - loss: 4.7123e-04\n",
            "Epoch 30/200\n",
            "449/449 [==============================] - 2s 5ms/sample - loss: 4.6525e-04\n",
            "Epoch 31/200\n",
            "449/449 [==============================] - 2s 4ms/sample - loss: 4.5928e-04\n",
            "Epoch 32/200\n",
            "449/449 [==============================] - 2s 4ms/sample - loss: 4.5291e-04\n",
            "Epoch 33/200\n",
            "449/449 [==============================] - 2s 4ms/sample - loss: 4.4789e-04\n",
            "Epoch 34/200\n",
            "449/449 [==============================] - 2s 5ms/sample - loss: 4.4273e-04\n",
            "Epoch 35/200\n",
            "449/449 [==============================] - 2s 5ms/sample - loss: 4.3760e-04\n",
            "Epoch 36/200\n",
            "449/449 [==============================] - 2s 5ms/sample - loss: 4.3260e-04\n",
            "Epoch 37/200\n",
            "449/449 [==============================] - 2s 5ms/sample - loss: 4.2782e-04\n",
            "Epoch 38/200\n",
            "449/449 [==============================] - 2s 5ms/sample - loss: 4.2352e-04\n",
            "Epoch 39/200\n",
            "449/449 [==============================] - 2s 5ms/sample - loss: 4.1883e-04\n",
            "Epoch 40/200\n",
            "449/449 [==============================] - 2s 5ms/sample - loss: 4.1486e-04\n",
            "Epoch 41/200\n",
            "449/449 [==============================] - 2s 5ms/sample - loss: 4.1086e-04\n",
            "Epoch 42/200\n",
            "449/449 [==============================] - 2s 5ms/sample - loss: 4.0697e-04\n",
            "Epoch 43/200\n",
            "449/449 [==============================] - 2s 4ms/sample - loss: 4.0325e-04\n",
            "Epoch 44/200\n",
            "449/449 [==============================] - 2s 5ms/sample - loss: 3.9971e-04\n",
            "Epoch 45/200\n",
            "449/449 [==============================] - 2s 4ms/sample - loss: 3.9637e-04\n",
            "Epoch 46/200\n",
            "449/449 [==============================] - 2s 5ms/sample - loss: 3.9322e-04\n",
            "Epoch 47/200\n",
            "449/449 [==============================] - 2s 4ms/sample - loss: 3.9026e-04\n",
            "Epoch 48/200\n",
            "449/449 [==============================] - 2s 5ms/sample - loss: 3.8747e-04\n",
            "Epoch 49/200\n",
            "449/449 [==============================] - 2s 5ms/sample - loss: 3.8485e-04\n",
            "Epoch 50/200\n",
            "449/449 [==============================] - 2s 4ms/sample - loss: 3.8238e-04\n",
            "Epoch 51/200\n",
            "449/449 [==============================] - 2s 4ms/sample - loss: 3.8009e-04\n",
            "Epoch 52/200\n",
            "449/449 [==============================] - 2s 4ms/sample - loss: 3.7795e-04\n",
            "Epoch 53/200\n",
            "449/449 [==============================] - 2s 5ms/sample - loss: 3.7595e-04\n",
            "Epoch 54/200\n",
            "449/449 [==============================] - 2s 6ms/sample - loss: 3.7412e-04\n",
            "Epoch 55/200\n",
            "449/449 [==============================] - 2s 5ms/sample - loss: 3.7265e-04\n",
            "Epoch 56/200\n",
            "449/449 [==============================] - 2s 5ms/sample - loss: 3.7105e-04\n",
            "Epoch 57/200\n",
            "449/449 [==============================] - 2s 5ms/sample - loss: 3.6949e-04\n",
            "Epoch 58/200\n",
            "449/449 [==============================] - 2s 5ms/sample - loss: 3.6802e-04\n",
            "Epoch 59/200\n",
            "449/449 [==============================] - 2s 5ms/sample - loss: 3.6667e-04\n",
            "Epoch 60/200\n",
            "449/449 [==============================] - 2s 4ms/sample - loss: 3.6548e-04\n",
            "Epoch 61/200\n",
            "449/449 [==============================] - 2s 4ms/sample - loss: 3.6454e-04\n",
            "Epoch 62/200\n",
            "449/449 [==============================] - 2s 5ms/sample - loss: 3.6372e-04\n",
            "Epoch 63/200\n",
            "449/449 [==============================] - 2s 4ms/sample - loss: 3.6227e-04\n",
            "Epoch 64/200\n",
            "449/449 [==============================] - 2s 5ms/sample - loss: 3.6152e-04\n",
            "Epoch 65/200\n",
            "449/449 [==============================] - 2s 4ms/sample - loss: 3.6087e-04\n",
            "Epoch 66/200\n",
            "449/449 [==============================] - 2s 4ms/sample - loss: 3.5996e-04\n",
            "Epoch 67/200\n",
            "449/449 [==============================] - 2s 4ms/sample - loss: 3.5936e-04\n",
            "Epoch 68/200\n",
            "449/449 [==============================] - 2s 5ms/sample - loss: 3.5864e-04\n",
            "Epoch 69/200\n",
            "449/449 [==============================] - 2s 5ms/sample - loss: 3.5833e-04\n",
            "Epoch 70/200\n",
            "449/449 [==============================] - 2s 4ms/sample - loss: 3.5781e-04\n",
            "Epoch 71/200\n",
            "449/449 [==============================] - 2s 4ms/sample - loss: 3.5704e-04\n",
            "Epoch 72/200\n",
            "449/449 [==============================] - 2s 4ms/sample - loss: 3.5651e-04\n",
            "Epoch 73/200\n",
            "449/449 [==============================] - 2s 5ms/sample - loss: 3.5636e-04\n",
            "Epoch 74/200\n",
            "449/449 [==============================] - 2s 5ms/sample - loss: 3.5604e-04\n",
            "Epoch 75/200\n",
            "449/449 [==============================] - 2s 5ms/sample - loss: 3.5568e-04\n",
            "Epoch 76/200\n",
            "449/449 [==============================] - 2s 5ms/sample - loss: 3.5535e-04\n",
            "Epoch 77/200\n",
            "449/449 [==============================] - 2s 5ms/sample - loss: 3.5504e-04\n",
            "Epoch 78/200\n",
            "449/449 [==============================] - 2s 5ms/sample - loss: 3.5478e-04\n",
            "Epoch 79/200\n",
            "449/449 [==============================] - 2s 5ms/sample - loss: 3.5455e-04\n",
            "Epoch 80/200\n",
            "449/449 [==============================] - 2s 4ms/sample - loss: 3.5434e-04\n",
            "Epoch 81/200\n",
            "449/449 [==============================] - 2s 4ms/sample - loss: 3.5416e-04\n",
            "Epoch 82/200\n",
            "449/449 [==============================] - 2s 4ms/sample - loss: 3.5399e-04\n",
            "Epoch 83/200\n",
            "449/449 [==============================] - 2s 4ms/sample - loss: 3.5385e-04\n",
            "Epoch 84/200\n",
            "449/449 [==============================] - 2s 4ms/sample - loss: 3.5372e-04\n",
            "Epoch 85/200\n",
            "449/449 [==============================] - 2s 4ms/sample - loss: 3.5360e-04\n",
            "Epoch 86/200\n",
            "449/449 [==============================] - 2s 4ms/sample - loss: 3.5350e-04\n",
            "Epoch 87/200\n",
            "449/449 [==============================] - 2s 4ms/sample - loss: 3.5340e-04\n",
            "Epoch 88/200\n",
            "449/449 [==============================] - 2s 4ms/sample - loss: 3.5332e-04\n",
            "Epoch 89/200\n",
            "449/449 [==============================] - 2s 4ms/sample - loss: 3.5324e-04\n",
            "Epoch 90/200\n",
            "449/449 [==============================] - 2s 4ms/sample - loss: 3.5280e-04\n",
            "Epoch 91/200\n",
            "449/449 [==============================] - 2s 4ms/sample - loss: 3.5249e-04\n",
            "Epoch 92/200\n",
            "449/449 [==============================] - 2s 4ms/sample - loss: 3.5264e-04\n",
            "Epoch 93/200\n",
            "449/449 [==============================] - 2s 4ms/sample - loss: 3.5270e-04\n",
            "Epoch 94/200\n",
            "449/449 [==============================] - 2s 4ms/sample - loss: 3.5264e-04\n",
            "Epoch 95/200\n",
            "449/449 [==============================] - 2s 4ms/sample - loss: 3.5290e-04\n",
            "Epoch 96/200\n",
            "449/449 [==============================] - 2s 4ms/sample - loss: 3.5259e-04\n",
            "Epoch 00096: early stopping\n"
          ],
          "name": "stdout"
        }
      ]
    },
    {
      "cell_type": "markdown",
      "metadata": {
        "id": "J6gbSnWxh-Fy",
        "colab_type": "text"
      },
      "source": [
        "### Calculate the model quality\n",
        "\n",
        "We're using the R^2 to calculate the model quallity. R^2 is a quality measument to test regression models. If R^2 is  0 then there is no linear relationship between the data and the model, if R^2 is 1 then the model match perfectly"
      ]
    },
    {
      "cell_type": "code",
      "metadata": {
        "id": "fvnWhdM50mcB",
        "colab_type": "code",
        "colab": {}
      },
      "source": [
        "def adj_r2_score(r2, n, k):\n",
        "    return 1-((1-r2)*((n-1)/(n-k-1)))"
      ],
      "execution_count": 0,
      "outputs": []
    },
    {
      "cell_type": "code",
      "metadata": {
        "id": "RIPTkxI60imj",
        "colab_type": "code",
        "outputId": "14c8f739-c1d5-482f-897c-c9ffc416ce8c",
        "colab": {
          "base_uri": "https://localhost:8080/",
          "height": 105
        }
      },
      "source": [
        "y_pred_test_lstm = model_lstm.predict(X_tst_t)\n",
        "y_train_pred_lstm = model_lstm.predict(X_tr_t)\n",
        "print(\"The R2 score on the Train set is:\\t{:0.3f}\".format(r2_score(y_train, y_train_pred_lstm)))\n",
        "r2_train = r2_score(y_train, y_train_pred_lstm)\n",
        "print(\"The Adjusted R2 score on the Train set is:\\t{:0.3f}\\n\".format(adj_r2_score(r2_train, X_train.shape[0], X_train.shape[1])))\n",
        "print(\"The R2 score on the Test set is:\\t{:0.3f}\".format(r2_score(y_test, y_pred_test_lstm)))\n",
        "r2_test = r2_score(y_test, y_pred_test_lstm)\n",
        "print(\"The Adjusted R2 score on the Test set is:\\t{:0.3f}\".format(adj_r2_score(r2_test, X_test.shape[0], X_test.shape[1])))"
      ],
      "execution_count": 19,
      "outputs": [
        {
          "output_type": "stream",
          "text": [
            "The R2 score on the Train set is:\t0.974\n",
            "The Adjusted R2 score on the Train set is:\t0.974\n",
            "\n",
            "The R2 score on the Test set is:\t0.953\n",
            "The Adjusted R2 score on the Test set is:\t0.953\n"
          ],
          "name": "stdout"
        }
      ]
    },
    {
      "cell_type": "code",
      "metadata": {
        "id": "BrKTiWp91Apz",
        "colab_type": "code",
        "colab": {}
      },
      "source": [
        "model_lstm.save('LSTM_NonShift_v2.h5')"
      ],
      "execution_count": 0,
      "outputs": []
    },
    {
      "cell_type": "code",
      "metadata": {
        "id": "KXpWFiR_DIkr",
        "colab_type": "code",
        "colab": {
          "base_uri": "https://localhost:8080/",
          "height": 196
        },
        "outputId": "d619f6df-8552-4c19-82f3-3ff87332faae"
      },
      "source": [
        "model_lstm = tf.keras.models.load_model('LSTM_NonShift_v2.h5')"
      ],
      "execution_count": 21,
      "outputs": [
        {
          "output_type": "stream",
          "text": [
            "W0512 10:20:09.346816 139912364066688 deprecation.py:506] From /usr/local/lib/python3.6/dist-packages/tensorflow/python/ops/init_ops.py:97: calling Orthogonal.__init__ (from tensorflow.python.ops.init_ops) with dtype is deprecated and will be removed in a future version.\n",
            "Instructions for updating:\n",
            "Call initializer instance with the dtype argument instead of passing it to the constructor\n",
            "W0512 10:20:09.348794 139912364066688 deprecation.py:506] From /usr/local/lib/python3.6/dist-packages/tensorflow/python/ops/init_ops.py:97: calling Zeros.__init__ (from tensorflow.python.ops.init_ops) with dtype is deprecated and will be removed in a future version.\n",
            "Instructions for updating:\n",
            "Call initializer instance with the dtype argument instead of passing it to the constructor\n",
            "W0512 10:20:09.575395 139912364066688 deprecation.py:506] From /usr/local/lib/python3.6/dist-packages/tensorflow/python/ops/init_ops.py:97: calling GlorotUniform.__init__ (from tensorflow.python.ops.init_ops) with dtype is deprecated and will be removed in a future version.\n",
            "Instructions for updating:\n",
            "Call initializer instance with the dtype argument instead of passing it to the constructor\n"
          ],
          "name": "stderr"
        }
      ]
    },
    {
      "cell_type": "code",
      "metadata": {
        "id": "5EbO2lDSDWjT",
        "colab_type": "code",
        "outputId": "0d1a4744-ec4f-4471-8226-f61b0b3b4711",
        "colab": {
          "base_uri": "https://localhost:8080/",
          "height": 34
        }
      },
      "source": [
        "score_lstm= model_lstm.evaluate(X_tst_t, y_test, batch_size=1)"
      ],
      "execution_count": 22,
      "outputs": [
        {
          "output_type": "stream",
          "text": [
            "155/155 [==============================] - 1s 3ms/sample - loss: 0.0018\n"
          ],
          "name": "stdout"
        }
      ]
    },
    {
      "cell_type": "code",
      "metadata": {
        "id": "lPmdcY4YDbJA",
        "colab_type": "code",
        "outputId": "26fa7d32-f267-40d0-feb4-58f512528c33",
        "colab": {
          "base_uri": "https://localhost:8080/",
          "height": 34
        }
      },
      "source": [
        "print('LSTM: %f'%score_lstm)"
      ],
      "execution_count": 23,
      "outputs": [
        {
          "output_type": "stream",
          "text": [
            "LSTM: 0.001848\n"
          ],
          "name": "stdout"
        }
      ]
    },
    {
      "cell_type": "code",
      "metadata": {
        "id": "MqGkf5QJDef_",
        "colab_type": "code",
        "colab": {}
      },
      "source": [
        "y_pred_test_LSTM = model_lstm.predict(X_tst_t)"
      ],
      "execution_count": 0,
      "outputs": []
    },
    {
      "cell_type": "code",
      "metadata": {
        "id": "lWKY56aKDlLs",
        "colab_type": "code",
        "outputId": "13d8bd27-d5f3-4696-a9b8-7e19a358425a",
        "colab": {
          "base_uri": "https://localhost:8080/",
          "height": 294
        }
      },
      "source": [
        "plt.plot(y_test, label='True')\n",
        "plt.plot(y_pred_test_LSTM, label='LSTM')\n",
        "plt.title(\"LSTM's_Prediction\")\n",
        "plt.xlabel('Observation')\n",
        "plt.ylabel('INR_Scaled')\n",
        "plt.legend()\n",
        "plt.show()"
      ],
      "execution_count": 25,
      "outputs": [
        {
          "output_type": "display_data",
          "data": {
            "image/png": "[encoded data removed]",
            "text/plain": [
              "<Figure size 432x288 with 1 Axes>"
            ]
          },
          "metadata": {
            "tags": []
          }
        }
      ]
    }
  ]
}