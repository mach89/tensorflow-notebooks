{
  "nbformat": 4,
  "nbformat_minor": 0,
  "metadata": {
    "colab": {
      "name": "stock-price-prediction-keras.ipynb",
      "version": "0.3.2",
      "provenance": [],
      "include_colab_link": true
    },
    "kernelspec": {
      "name": "python3",
      "display_name": "Python 3"
    },
    "accelerator": "GPU"
  },
  "cells": [
    {
      "cell_type": "markdown",
      "metadata": {
        "id": "view-in-github",
        "colab_type": "text"
      },
      "source": [
        "<a href=\"https://colab.research.google.com/github/rawar/tensorflow-notebooks/blob/master/stock_price_prediction_keras.ipynb\" target=\"_parent\"><img src=\"https://colab.research.google.com/assets/colab-badge.svg\" alt=\"Open In Colab\"/></a>"
      ]
    },
    {
      "metadata": {
        "id": "EgaNRy_Rq0wx",
        "colab_type": "text"
      },
      "cell_type": "markdown",
      "source": [
        "# Predict stock prices  with Long short-term memory (LSTM)"
      ]
    },
    {
      "metadata": {
        "id": "S1WPMQ_LHNQU",
        "colab_type": "text"
      },
      "cell_type": "markdown",
      "source": [
        "This simple example will show you how LSTM models predict time series data. Stock market data is a great choice for this because it's quite regular and widely available via the Internet. "
      ]
    },
    {
      "metadata": {
        "id": "vurGbUjFwBFO",
        "colab_type": "text"
      },
      "cell_type": "markdown",
      "source": [
        "## Install requirements\n",
        "We install Tensorflow 2.0 with GPU support first"
      ]
    },
    {
      "metadata": {
        "id": "QSG622MbwEOJ",
        "colab_type": "code",
        "colab": {
          "base_uri": "https://localhost:8080/",
          "height": 440
        },
        "outputId": "ac4d71bd-9927-40fe-a909-9d30f5d279ed"
      },
      "cell_type": "code",
      "source": [
        "!pip install tensorflow-gpu==2.0.0-alpha0"
      ],
      "execution_count": 1,
      "outputs": [
        {
          "output_type": "stream",
          "text": [
            "Requirement already satisfied: tensorflow-gpu==2.0.0-alpha0 in /usr/local/lib/python3.6/dist-packages (2.0.0a0)\n",
            "Requirement already satisfied: keras-preprocessing>=1.0.5 in /usr/local/lib/python3.6/dist-packages (from tensorflow-gpu==2.0.0-alpha0) (1.0.9)\n",
            "Requirement already satisfied: astor>=0.6.0 in /usr/local/lib/python3.6/dist-packages (from tensorflow-gpu==2.0.0-alpha0) (0.7.1)\n",
            "Requirement already satisfied: tf-estimator-nightly<1.14.0.dev2019030116,>=1.14.0.dev2019030115 in /usr/local/lib/python3.6/dist-packages (from tensorflow-gpu==2.0.0-alpha0) (1.14.0.dev2019030115)\n",
            "Requirement already satisfied: keras-applications>=1.0.6 in /usr/local/lib/python3.6/dist-packages (from tensorflow-gpu==2.0.0-alpha0) (1.0.7)\n",
            "Requirement already satisfied: six>=1.10.0 in /usr/local/lib/python3.6/dist-packages (from tensorflow-gpu==2.0.0-alpha0) (1.11.0)\n",
            "Requirement already satisfied: protobuf>=3.6.1 in /usr/local/lib/python3.6/dist-packages (from tensorflow-gpu==2.0.0-alpha0) (3.7.0)\n",
            "Requirement already satisfied: gast>=0.2.0 in /usr/local/lib/python3.6/dist-packages (from tensorflow-gpu==2.0.0-alpha0) (0.2.2)\n",
            "Requirement already satisfied: wheel>=0.26 in /usr/local/lib/python3.6/dist-packages (from tensorflow-gpu==2.0.0-alpha0) (0.33.1)\n",
            "Requirement already satisfied: termcolor>=1.1.0 in /usr/local/lib/python3.6/dist-packages (from tensorflow-gpu==2.0.0-alpha0) (1.1.0)\n",
            "Requirement already satisfied: numpy<2.0,>=1.14.5 in /usr/local/lib/python3.6/dist-packages (from tensorflow-gpu==2.0.0-alpha0) (1.14.6)\n",
            "Requirement already satisfied: grpcio>=1.8.6 in /usr/local/lib/python3.6/dist-packages (from tensorflow-gpu==2.0.0-alpha0) (1.15.0)\n",
            "Requirement already satisfied: absl-py>=0.7.0 in /usr/local/lib/python3.6/dist-packages (from tensorflow-gpu==2.0.0-alpha0) (0.7.1)\n",
            "Requirement already satisfied: google-pasta>=0.1.2 in /usr/local/lib/python3.6/dist-packages (from tensorflow-gpu==2.0.0-alpha0) (0.1.4)\n",
            "Requirement already satisfied: tb-nightly<1.14.0a20190302,>=1.14.0a20190301 in /usr/local/lib/python3.6/dist-packages (from tensorflow-gpu==2.0.0-alpha0) (1.14.0a20190301)\n",
            "Requirement already satisfied: h5py in /usr/local/lib/python3.6/dist-packages (from keras-applications>=1.0.6->tensorflow-gpu==2.0.0-alpha0) (2.8.0)\n",
            "Requirement already satisfied: setuptools in /usr/local/lib/python3.6/dist-packages (from protobuf>=3.6.1->tensorflow-gpu==2.0.0-alpha0) (40.8.0)\n",
            "Requirement already satisfied: werkzeug>=0.11.15 in /usr/local/lib/python3.6/dist-packages (from tb-nightly<1.14.0a20190302,>=1.14.0a20190301->tensorflow-gpu==2.0.0-alpha0) (0.14.1)\n",
            "Requirement already satisfied: markdown>=2.6.8 in /usr/local/lib/python3.6/dist-packages (from tb-nightly<1.14.0a20190302,>=1.14.0a20190301->tensorflow-gpu==2.0.0-alpha0) (3.0.1)\n"
          ],
          "name": "stdout"
        }
      ]
    },
    {
      "metadata": {
        "id": "fmR4lwm81Vbr",
        "colab_type": "code",
        "colab": {
          "base_uri": "https://localhost:8080/",
          "height": 336
        },
        "outputId": "0fec97b4-9628-4764-dd7a-39c8843432be"
      },
      "cell_type": "code",
      "source": [
        "!pip install pandas-datareader"
      ],
      "execution_count": 4,
      "outputs": [
        {
          "output_type": "stream",
          "text": [
            "Requirement already satisfied: pandas-datareader in /usr/local/lib/python3.6/dist-packages (0.7.0)\n",
            "Requirement already satisfied: requests>=2.3.0 in /usr/local/lib/python3.6/dist-packages (from pandas-datareader) (2.18.4)\n",
            "Requirement already satisfied: lxml in /usr/local/lib/python3.6/dist-packages (from pandas-datareader) (4.2.6)\n",
            "Requirement already satisfied: pandas>=0.19.2 in /usr/local/lib/python3.6/dist-packages (from pandas-datareader) (0.22.0)\n",
            "Requirement already satisfied: wrapt in /usr/local/lib/python3.6/dist-packages (from pandas-datareader) (1.10.11)\n",
            "Requirement already satisfied: chardet<3.1.0,>=3.0.2 in /usr/local/lib/python3.6/dist-packages (from requests>=2.3.0->pandas-datareader) (3.0.4)\n",
            "Requirement already satisfied: certifi>=2017.4.17 in /usr/local/lib/python3.6/dist-packages (from requests>=2.3.0->pandas-datareader) (2019.3.9)\n",
            "Requirement already satisfied: idna<2.7,>=2.5 in /usr/local/lib/python3.6/dist-packages (from requests>=2.3.0->pandas-datareader) (2.6)\n",
            "Requirement already satisfied: urllib3<1.23,>=1.21.1 in /usr/local/lib/python3.6/dist-packages (from requests>=2.3.0->pandas-datareader) (1.22)\n",
            "Requirement already satisfied: python-dateutil>=2 in /usr/local/lib/python3.6/dist-packages (from pandas>=0.19.2->pandas-datareader) (2.5.3)\n",
            "Requirement already satisfied: pytz>=2011k in /usr/local/lib/python3.6/dist-packages (from pandas>=0.19.2->pandas-datareader) (2018.9)\n",
            "Requirement already satisfied: numpy>=1.9.0 in /usr/local/lib/python3.6/dist-packages (from pandas>=0.19.2->pandas-datareader) (1.14.6)\n",
            "Requirement already satisfied: six>=1.5 in /usr/local/lib/python3.6/dist-packages (from python-dateutil>=2->pandas>=0.19.2->pandas-datareader) (1.11.0)\n"
          ],
          "name": "stdout"
        }
      ]
    },
    {
      "metadata": {
        "id": "Fcl6EKdTv51W",
        "colab_type": "text"
      },
      "cell_type": "markdown",
      "source": [
        "## Introduction"
      ]
    },
    {
      "metadata": {
        "id": "Rui0kjzEvXTV",
        "colab_type": "text"
      },
      "cell_type": "markdown",
      "source": [
        "LSTMs are very powerful in sequence prediction problems. They can store past information."
      ]
    },
    {
      "metadata": {
        "id": "Ed7_c04-vz2f",
        "colab_type": "text"
      },
      "cell_type": "markdown",
      "source": [
        "## Loading the dataset\n",
        "I use pandas-datareader to get the historical stock prices from Yahoo! finance. For this example, I get only the historical data till the end of *training_end_data*.  "
      ]
    },
    {
      "metadata": {
        "id": "Hh-pO_QXqysJ",
        "colab_type": "code",
        "colab": {}
      },
      "cell_type": "code",
      "source": [
        "import numpy as np\n",
        "import matplotlib.pyplot as plt\n",
        "import pandas as pd\n",
        "from pandas_datareader import data"
      ],
      "execution_count": 0,
      "outputs": []
    },
    {
      "metadata": {
        "id": "D8-w0eEtwnaj",
        "colab_type": "code",
        "colab": {}
      },
      "cell_type": "code",
      "source": [
        "tickers = 'AAPL'\n",
        "\n",
        "training_start_date = '1980-12-01'\n",
        "training_end_date = '2018-12-31'\n",
        "\n",
        "training_stock_data = data.get_data_yahoo(tickers, training_start_date, training_end_date)"
      ],
      "execution_count": 0,
      "outputs": []
    },
    {
      "metadata": {
        "id": "Y2HpcDRd38on",
        "colab_type": "code",
        "colab": {
          "base_uri": "https://localhost:8080/",
          "height": 437
        },
        "outputId": "834931f2-98ef-4cc2-c017-a8d30c086c4c"
      },
      "cell_type": "code",
      "source": [
        "training_stock_data.head(10)"
      ],
      "execution_count": 105,
      "outputs": [
        {
          "output_type": "execute_result",
          "data": {
            "text/html": [
              "<div>\n",
              "<style scoped>\n",
              "    .dataframe tbody tr th:only-of-type {\n",
              "        vertical-align: middle;\n",
              "    }\n",
              "\n",
              "    .dataframe tbody tr th {\n",
              "        vertical-align: top;\n",
              "    }\n",
              "\n",
              "    .dataframe thead th {\n",
              "        text-align: right;\n",
              "    }\n",
              "</style>\n",
              "<table border=\"1\" class=\"dataframe\">\n",
              "  <thead>\n",
              "    <tr style=\"text-align: right;\">\n",
              "      <th></th>\n",
              "      <th>High</th>\n",
              "      <th>Low</th>\n",
              "      <th>Open</th>\n",
              "      <th>Close</th>\n",
              "      <th>Volume</th>\n",
              "      <th>Adj Close</th>\n",
              "    </tr>\n",
              "    <tr>\n",
              "      <th>Date</th>\n",
              "      <th></th>\n",
              "      <th></th>\n",
              "      <th></th>\n",
              "      <th></th>\n",
              "      <th></th>\n",
              "      <th></th>\n",
              "    </tr>\n",
              "  </thead>\n",
              "  <tbody>\n",
              "    <tr>\n",
              "      <th>1980-12-12</th>\n",
              "      <td>0.515625</td>\n",
              "      <td>0.513393</td>\n",
              "      <td>0.513393</td>\n",
              "      <td>0.513393</td>\n",
              "      <td>117258400.0</td>\n",
              "      <td>0.023007</td>\n",
              "    </tr>\n",
              "    <tr>\n",
              "      <th>1980-12-15</th>\n",
              "      <td>0.488839</td>\n",
              "      <td>0.486607</td>\n",
              "      <td>0.488839</td>\n",
              "      <td>0.486607</td>\n",
              "      <td>43971200.0</td>\n",
              "      <td>0.021807</td>\n",
              "    </tr>\n",
              "    <tr>\n",
              "      <th>1980-12-16</th>\n",
              "      <td>0.453125</td>\n",
              "      <td>0.450893</td>\n",
              "      <td>0.453125</td>\n",
              "      <td>0.450893</td>\n",
              "      <td>26432000.0</td>\n",
              "      <td>0.020206</td>\n",
              "    </tr>\n",
              "    <tr>\n",
              "      <th>1980-12-17</th>\n",
              "      <td>0.464286</td>\n",
              "      <td>0.462054</td>\n",
              "      <td>0.462054</td>\n",
              "      <td>0.462054</td>\n",
              "      <td>21610400.0</td>\n",
              "      <td>0.020706</td>\n",
              "    </tr>\n",
              "    <tr>\n",
              "      <th>1980-12-18</th>\n",
              "      <td>0.477679</td>\n",
              "      <td>0.475446</td>\n",
              "      <td>0.475446</td>\n",
              "      <td>0.475446</td>\n",
              "      <td>18362400.0</td>\n",
              "      <td>0.021307</td>\n",
              "    </tr>\n",
              "    <tr>\n",
              "      <th>1980-12-19</th>\n",
              "      <td>0.506696</td>\n",
              "      <td>0.504464</td>\n",
              "      <td>0.504464</td>\n",
              "      <td>0.504464</td>\n",
              "      <td>12157600.0</td>\n",
              "      <td>0.022607</td>\n",
              "    </tr>\n",
              "    <tr>\n",
              "      <th>1980-12-22</th>\n",
              "      <td>0.531250</td>\n",
              "      <td>0.529018</td>\n",
              "      <td>0.529018</td>\n",
              "      <td>0.529018</td>\n",
              "      <td>9340800.0</td>\n",
              "      <td>0.023707</td>\n",
              "    </tr>\n",
              "    <tr>\n",
              "      <th>1980-12-23</th>\n",
              "      <td>0.553571</td>\n",
              "      <td>0.551339</td>\n",
              "      <td>0.551339</td>\n",
              "      <td>0.551339</td>\n",
              "      <td>11737600.0</td>\n",
              "      <td>0.024708</td>\n",
              "    </tr>\n",
              "    <tr>\n",
              "      <th>1980-12-24</th>\n",
              "      <td>0.582589</td>\n",
              "      <td>0.580357</td>\n",
              "      <td>0.580357</td>\n",
              "      <td>0.580357</td>\n",
              "      <td>12000800.0</td>\n",
              "      <td>0.026008</td>\n",
              "    </tr>\n",
              "    <tr>\n",
              "      <th>1980-12-26</th>\n",
              "      <td>0.636161</td>\n",
              "      <td>0.633929</td>\n",
              "      <td>0.633929</td>\n",
              "      <td>0.633929</td>\n",
              "      <td>13893600.0</td>\n",
              "      <td>0.028409</td>\n",
              "    </tr>\n",
              "  </tbody>\n",
              "</table>\n",
              "</div>"
            ],
            "text/plain": [
              "                High       Low      Open     Close       Volume  Adj Close\n",
              "Date                                                                      \n",
              "1980-12-12  0.515625  0.513393  0.513393  0.513393  117258400.0   0.023007\n",
              "1980-12-15  0.488839  0.486607  0.488839  0.486607   43971200.0   0.021807\n",
              "1980-12-16  0.453125  0.450893  0.453125  0.450893   26432000.0   0.020206\n",
              "1980-12-17  0.464286  0.462054  0.462054  0.462054   21610400.0   0.020706\n",
              "1980-12-18  0.477679  0.475446  0.475446  0.475446   18362400.0   0.021307\n",
              "1980-12-19  0.506696  0.504464  0.504464  0.504464   12157600.0   0.022607\n",
              "1980-12-22  0.531250  0.529018  0.529018  0.529018    9340800.0   0.023707\n",
              "1980-12-23  0.553571  0.551339  0.551339  0.551339   11737600.0   0.024708\n",
              "1980-12-24  0.582589  0.580357  0.580357  0.580357   12000800.0   0.026008\n",
              "1980-12-26  0.636161  0.633929  0.633929  0.633929   13893600.0   0.028409"
            ]
          },
          "metadata": {
            "tags": []
          },
          "execution_count": 105
        }
      ]
    },
    {
      "metadata": {
        "id": "_0UQ1jU7MHYi",
        "colab_type": "code",
        "colab": {
          "base_uri": "https://localhost:8080/",
          "height": 344
        },
        "outputId": "e88c73b5-fcc3-44bb-95da-6602c155e9c3"
      },
      "cell_type": "code",
      "source": [
        "training_stock_data.describe()"
      ],
      "execution_count": 108,
      "outputs": [
        {
          "output_type": "execute_result",
          "data": {
            "text/html": [
              "<div>\n",
              "<style scoped>\n",
              "    .dataframe tbody tr th:only-of-type {\n",
              "        vertical-align: middle;\n",
              "    }\n",
              "\n",
              "    .dataframe tbody tr th {\n",
              "        vertical-align: top;\n",
              "    }\n",
              "\n",
              "    .dataframe thead th {\n",
              "        text-align: right;\n",
              "    }\n",
              "</style>\n",
              "<table border=\"1\" class=\"dataframe\">\n",
              "  <thead>\n",
              "    <tr style=\"text-align: right;\">\n",
              "      <th></th>\n",
              "      <th>High</th>\n",
              "      <th>Low</th>\n",
              "      <th>Open</th>\n",
              "      <th>Close</th>\n",
              "      <th>Volume</th>\n",
              "      <th>Adj Close</th>\n",
              "    </tr>\n",
              "  </thead>\n",
              "  <tbody>\n",
              "    <tr>\n",
              "      <th>count</th>\n",
              "      <td>9594.000000</td>\n",
              "      <td>9594.000000</td>\n",
              "      <td>9594.000000</td>\n",
              "      <td>9594.000000</td>\n",
              "      <td>9.594000e+03</td>\n",
              "      <td>9594.000000</td>\n",
              "    </tr>\n",
              "    <tr>\n",
              "      <th>mean</th>\n",
              "      <td>26.549240</td>\n",
              "      <td>26.026566</td>\n",
              "      <td>26.297032</td>\n",
              "      <td>26.292735</td>\n",
              "      <td>8.758689e+07</td>\n",
              "      <td>22.587725</td>\n",
              "    </tr>\n",
              "    <tr>\n",
              "      <th>std</th>\n",
              "      <td>47.280499</td>\n",
              "      <td>46.462657</td>\n",
              "      <td>46.880676</td>\n",
              "      <td>46.878276</td>\n",
              "      <td>8.676282e+07</td>\n",
              "      <td>44.664584</td>\n",
              "    </tr>\n",
              "    <tr>\n",
              "      <th>min</th>\n",
              "      <td>0.198661</td>\n",
              "      <td>0.196429</td>\n",
              "      <td>0.198661</td>\n",
              "      <td>0.196429</td>\n",
              "      <td>3.472000e+05</td>\n",
              "      <td>0.008803</td>\n",
              "    </tr>\n",
              "    <tr>\n",
              "      <th>25%</th>\n",
              "      <td>1.071429</td>\n",
              "      <td>1.031295</td>\n",
              "      <td>1.049464</td>\n",
              "      <td>1.051429</td>\n",
              "      <td>3.407435e+07</td>\n",
              "      <td>0.148196</td>\n",
              "    </tr>\n",
              "    <tr>\n",
              "      <th>50%</th>\n",
              "      <td>1.696429</td>\n",
              "      <td>1.633929</td>\n",
              "      <td>1.664286</td>\n",
              "      <td>1.665179</td>\n",
              "      <td>5.944890e+07</td>\n",
              "      <td>0.879176</td>\n",
              "    </tr>\n",
              "    <tr>\n",
              "      <th>75%</th>\n",
              "      <td>26.317500</td>\n",
              "      <td>25.404285</td>\n",
              "      <td>25.910000</td>\n",
              "      <td>25.841429</td>\n",
              "      <td>1.091926e+08</td>\n",
              "      <td>17.231145</td>\n",
              "    </tr>\n",
              "    <tr>\n",
              "      <th>max</th>\n",
              "      <td>233.470001</td>\n",
              "      <td>229.779999</td>\n",
              "      <td>230.779999</td>\n",
              "      <td>232.070007</td>\n",
              "      <td>1.855410e+09</td>\n",
              "      <td>230.275482</td>\n",
              "    </tr>\n",
              "  </tbody>\n",
              "</table>\n",
              "</div>"
            ],
            "text/plain": [
              "              High          Low         Open        Close        Volume  \\\n",
              "count  9594.000000  9594.000000  9594.000000  9594.000000  9.594000e+03   \n",
              "mean     26.549240    26.026566    26.297032    26.292735  8.758689e+07   \n",
              "std      47.280499    46.462657    46.880676    46.878276  8.676282e+07   \n",
              "min       0.198661     0.196429     0.198661     0.196429  3.472000e+05   \n",
              "25%       1.071429     1.031295     1.049464     1.051429  3.407435e+07   \n",
              "50%       1.696429     1.633929     1.664286     1.665179  5.944890e+07   \n",
              "75%      26.317500    25.404285    25.910000    25.841429  1.091926e+08   \n",
              "max     233.470001   229.779999   230.779999   232.070007  1.855410e+09   \n",
              "\n",
              "         Adj Close  \n",
              "count  9594.000000  \n",
              "mean     22.587725  \n",
              "std      44.664584  \n",
              "min       0.008803  \n",
              "25%       0.148196  \n",
              "50%       0.879176  \n",
              "75%      17.231145  \n",
              "max     230.275482  "
            ]
          },
          "metadata": {
            "tags": []
          },
          "execution_count": 108
        }
      ]
    },
    {
      "metadata": {
        "id": "dFKhZw-YMM0w",
        "colab_type": "code",
        "colab": {}
      },
      "cell_type": "code",
      "source": [
        "training_len = training_stock_data['Close'].count()"
      ],
      "execution_count": 0,
      "outputs": []
    },
    {
      "metadata": {
        "id": "6jzF16Qr4qOA",
        "colab_type": "text"
      },
      "cell_type": "markdown",
      "source": [
        "I'm only interested in *close* prices"
      ]
    },
    {
      "metadata": {
        "id": "Ns7Zcn2ZClZS",
        "colab_type": "code",
        "colab": {}
      },
      "cell_type": "code",
      "source": [
        "training_close_prices = training_stock_data.iloc[:, 1:2].values"
      ],
      "execution_count": 0,
      "outputs": []
    },
    {
      "metadata": {
        "id": "KNaLuS1X5IVA",
        "colab_type": "text"
      },
      "cell_type": "markdown",
      "source": [
        "Of course, some of the weekdays might be public holidays in which case no price will be available. For this reason, we will fill the missing prices with the latest available prices"
      ]
    },
    {
      "metadata": {
        "id": "P6GTsn7N5Nf2",
        "colab_type": "code",
        "colab": {}
      },
      "cell_type": "code",
      "source": [
        "#all_weekdays = pd.date_range(start=start_date, end=end_date, freq='B')\n",
        "#close_prices = close_prices.reindex(all_weekdays)\n",
        "#close_prices = close_prices.fillna(method='ffill')"
      ],
      "execution_count": 0,
      "outputs": []
    },
    {
      "metadata": {
        "id": "xTieT-gC5e-p",
        "colab_type": "code",
        "colab": {}
      },
      "cell_type": "code",
      "source": [
        "#print(all_weekdays)"
      ],
      "execution_count": 0,
      "outputs": []
    },
    {
      "metadata": {
        "id": "06xfVbrD51Id",
        "colab_type": "text"
      },
      "cell_type": "markdown",
      "source": [
        "The dataset is now complete and free of missing values. Let's have a look to the data frame summary:"
      ]
    },
    {
      "metadata": {
        "id": "TR3_R4OF8pNo",
        "colab_type": "text"
      },
      "cell_type": "markdown",
      "source": [
        "## Feature scaling"
      ]
    },
    {
      "metadata": {
        "id": "hFwPXHiU8rDv",
        "colab_type": "code",
        "colab": {}
      },
      "cell_type": "code",
      "source": [
        "#training_set = stock_data.loc[:, 'Close']"
      ],
      "execution_count": 0,
      "outputs": []
    },
    {
      "metadata": {
        "id": "c9TpiTPs9QtF",
        "colab_type": "code",
        "colab": {}
      },
      "cell_type": "code",
      "source": [
        "from sklearn.preprocessing import MinMaxScaler\n",
        "sc = MinMaxScaler(feature_range = (0, 1))\n",
        "training_set_scaled = sc.fit_transform(training_close_prices)"
      ],
      "execution_count": 0,
      "outputs": []
    },
    {
      "metadata": {
        "id": "NmYp53pYHeQu",
        "colab_type": "text"
      },
      "cell_type": "markdown",
      "source": [
        "LSTMs expect the data in a specific format, usually a 3D array (tensor). I start by creating data with 60 days and converting it into an array using NumPy. Next, I convert the data into a 3D dimension array with feature_set samples, 60 days and one feature at each step."
      ]
    },
    {
      "metadata": {
        "id": "HSZBYUcIDfWV",
        "colab_type": "code",
        "colab": {}
      },
      "cell_type": "code",
      "source": [
        "features_set = []\n",
        "labels = []\n",
        "for i in range(60, training_len):\n",
        "    features_set.append(training_set_scaled[i-60:i, 0])\n",
        "    labels.append(training_set_scaled[i, 0])\n",
        "\n",
        "features_set, labels = np.array(features_set), np.array(labels)\n",
        "\n",
        "features_set = np.reshape(features_set, (features_set.shape[0], features_set.shape[1], 1))"
      ],
      "execution_count": 0,
      "outputs": []
    },
    {
      "metadata": {
        "id": "VlzVripUIyCb",
        "colab_type": "code",
        "colab": {}
      },
      "cell_type": "code",
      "source": [
        "#print(X_train)\n",
        "#print(y_train)"
      ],
      "execution_count": 0,
      "outputs": []
    },
    {
      "metadata": {
        "id": "-MQYJqsDGFYA",
        "colab_type": "text"
      },
      "cell_type": "markdown",
      "source": [
        "## Create the LSTM network\n",
        "Let's create a sequenced LSTM network with 50 units. Also the net includes some dropout layers with 0.2 which means that 20% of the neurons will be dropped."
      ]
    },
    {
      "metadata": {
        "id": "057FLdkzDk1t",
        "colab_type": "code",
        "colab": {}
      },
      "cell_type": "code",
      "source": [
        "import tensorflow as tf"
      ],
      "execution_count": 0,
      "outputs": []
    },
    {
      "metadata": {
        "id": "Tel113HiEcYE",
        "colab_type": "code",
        "colab": {
          "base_uri": "https://localhost:8080/",
          "height": 128
        },
        "outputId": "97c767aa-c9ab-4980-b28b-144074951f5a"
      },
      "cell_type": "code",
      "source": [
        "model = tf.keras.models.Sequential([\n",
        "    tf.keras.layers.LSTM(units = 50, return_sequences = True, input_shape = (features_set.shape[1], 1)),\n",
        "    tf.keras.layers.Dropout(0.2),\n",
        "    tf.keras.layers.LSTM(units = 50, return_sequences = True),\n",
        "    tf.keras.layers.Dropout(0.2),\n",
        "    tf.keras.layers.LSTM(units = 50, return_sequences = True),\n",
        "    tf.keras.layers.Dropout(0.2),\n",
        "    tf.keras.layers.LSTM(units = 50),\n",
        "    tf.keras.layers.Dropout(0.2),\n",
        "    tf.keras.layers.Dense(units = 1)\n",
        "])"
      ],
      "execution_count": 130,
      "outputs": [
        {
          "output_type": "stream",
          "text": [
            "W0329 16:16:34.419621 140264946407296 tf_logging.py:161] <tensorflow.python.keras.layers.recurrent.UnifiedLSTM object at 0x7f913d2a1748>: Note that this layer is not optimized for performance. Please use tf.keras.layers.CuDNNLSTM for better performance on GPU.\n",
            "W0329 16:16:34.435001 140264946407296 tf_logging.py:161] <tensorflow.python.keras.layers.recurrent.UnifiedLSTM object at 0x7f913d2a1da0>: Note that this layer is not optimized for performance. Please use tf.keras.layers.CuDNNLSTM for better performance on GPU.\n",
            "W0329 16:16:34.439998 140264946407296 tf_logging.py:161] <tensorflow.python.keras.layers.recurrent.UnifiedLSTM object at 0x7f913d2ddf60>: Note that this layer is not optimized for performance. Please use tf.keras.layers.CuDNNLSTM for better performance on GPU.\n",
            "W0329 16:16:34.445515 140264946407296 tf_logging.py:161] <tensorflow.python.keras.layers.recurrent.UnifiedLSTM object at 0x7f913cf36a90>: Note that this layer is not optimized for performance. Please use tf.keras.layers.CuDNNLSTM for better performance on GPU.\n"
          ],
          "name": "stderr"
        }
      ]
    },
    {
      "metadata": {
        "id": "7nlzkKHiPuaR",
        "colab_type": "code",
        "colab": {
          "base_uri": "https://localhost:8080/",
          "height": 532
        },
        "outputId": "bcfb0ad9-dc97-4cbe-b9e4-c8f04c9e8c16"
      },
      "cell_type": "code",
      "source": [
        "print(model.summary())"
      ],
      "execution_count": 132,
      "outputs": [
        {
          "output_type": "stream",
          "text": [
            "Model: \"sequential_3\"\n",
            "_________________________________________________________________\n",
            "Layer (type)                 Output Shape              Param #   \n",
            "=================================================================\n",
            "unified_lstm_12 (UnifiedLSTM (None, 60, 50)            10400     \n",
            "_________________________________________________________________\n",
            "dropout_12 (Dropout)         (None, 60, 50)            0         \n",
            "_________________________________________________________________\n",
            "unified_lstm_13 (UnifiedLSTM (None, 60, 50)            20200     \n",
            "_________________________________________________________________\n",
            "dropout_13 (Dropout)         (None, 60, 50)            0         \n",
            "_________________________________________________________________\n",
            "unified_lstm_14 (UnifiedLSTM (None, 60, 50)            20200     \n",
            "_________________________________________________________________\n",
            "dropout_14 (Dropout)         (None, 60, 50)            0         \n",
            "_________________________________________________________________\n",
            "unified_lstm_15 (UnifiedLSTM (None, 50)                20200     \n",
            "_________________________________________________________________\n",
            "dropout_15 (Dropout)         (None, 50)                0         \n",
            "_________________________________________________________________\n",
            "dense_3 (Dense)              (None, 1)                 51        \n",
            "=================================================================\n",
            "Total params: 71,051\n",
            "Trainable params: 71,051\n",
            "Non-trainable params: 0\n",
            "_________________________________________________________________\n",
            "None\n"
          ],
          "name": "stdout"
        }
      ]
    },
    {
      "metadata": {
        "id": "TVtDPeEZGmqP",
        "colab_type": "text"
      },
      "cell_type": "markdown",
      "source": [
        "The model will be compiled and optimize by the adam optimizer and set the loss function as mean_squarred_error"
      ]
    },
    {
      "metadata": {
        "id": "lj9k7R5UFrqO",
        "colab_type": "code",
        "colab": {
          "base_uri": "https://localhost:8080/",
          "height": 3575
        },
        "outputId": "fa60a7c1-0dd7-4ee3-bdb4-d0895e8c0616"
      },
      "cell_type": "code",
      "source": [
        "model.compile(optimizer = 'adam', loss = 'mean_squared_error')\n",
        "model.fit(features_set, labels, epochs = 100, batch_size = 32)"
      ],
      "execution_count": 131,
      "outputs": [
        {
          "output_type": "stream",
          "text": [
            "Epoch 1/100\n",
            "9534/9534 [==============================] - 19s 2ms/sample - loss: 0.0018\n",
            "Epoch 2/100\n",
            "9534/9534 [==============================] - 18s 2ms/sample - loss: 7.8260e-04\n",
            "Epoch 3/100\n",
            "9534/9534 [==============================] - 18s 2ms/sample - loss: 7.1043e-04\n",
            "Epoch 4/100\n",
            "9534/9534 [==============================] - 18s 2ms/sample - loss: 5.5695e-04\n",
            "Epoch 5/100\n",
            "9534/9534 [==============================] - 18s 2ms/sample - loss: 6.9583e-04\n",
            "Epoch 6/100\n",
            "9534/9534 [==============================] - 18s 2ms/sample - loss: 5.1591e-04\n",
            "Epoch 7/100\n",
            "9534/9534 [==============================] - 18s 2ms/sample - loss: 5.4808e-04\n",
            "Epoch 8/100\n",
            "9534/9534 [==============================] - 18s 2ms/sample - loss: 5.4563e-04\n",
            "Epoch 9/100\n",
            "9534/9534 [==============================] - 18s 2ms/sample - loss: 4.7326e-04\n",
            "Epoch 10/100\n",
            "9534/9534 [==============================] - 18s 2ms/sample - loss: 5.2747e-04\n",
            "Epoch 11/100\n",
            "9534/9534 [==============================] - 18s 2ms/sample - loss: 5.1215e-04\n",
            "Epoch 12/100\n",
            "9534/9534 [==============================] - 18s 2ms/sample - loss: 5.0172e-04\n",
            "Epoch 13/100\n",
            "9534/9534 [==============================] - 18s 2ms/sample - loss: 4.5443e-04\n",
            "Epoch 14/100\n",
            "9534/9534 [==============================] - 18s 2ms/sample - loss: 4.7760e-04\n",
            "Epoch 15/100\n",
            "9534/9534 [==============================] - 18s 2ms/sample - loss: 4.6666e-04\n",
            "Epoch 16/100\n",
            "9534/9534 [==============================] - 18s 2ms/sample - loss: 4.7042e-04\n",
            "Epoch 17/100\n",
            "9534/9534 [==============================] - 18s 2ms/sample - loss: 4.7410e-04\n",
            "Epoch 18/100\n",
            "9534/9534 [==============================] - 18s 2ms/sample - loss: 4.6642e-04\n",
            "Epoch 19/100\n",
            "9534/9534 [==============================] - 18s 2ms/sample - loss: 4.0415e-04\n",
            "Epoch 20/100\n",
            "9534/9534 [==============================] - 18s 2ms/sample - loss: 4.7543e-04\n",
            "Epoch 21/100\n",
            "9534/9534 [==============================] - 18s 2ms/sample - loss: 4.5204e-04\n",
            "Epoch 22/100\n",
            "9534/9534 [==============================] - 18s 2ms/sample - loss: 4.7869e-04\n",
            "Epoch 23/100\n",
            "9534/9534 [==============================] - 17s 2ms/sample - loss: 4.0644e-04\n",
            "Epoch 24/100\n",
            "9534/9534 [==============================] - 18s 2ms/sample - loss: 4.5154e-04\n",
            "Epoch 25/100\n",
            "9534/9534 [==============================] - 18s 2ms/sample - loss: 4.1517e-04\n",
            "Epoch 26/100\n",
            "9534/9534 [==============================] - 18s 2ms/sample - loss: 4.3375e-04\n",
            "Epoch 27/100\n",
            "9534/9534 [==============================] - 18s 2ms/sample - loss: 4.3622e-04\n",
            "Epoch 28/100\n",
            "9534/9534 [==============================] - 18s 2ms/sample - loss: 4.1241e-04\n",
            "Epoch 29/100\n",
            "9534/9534 [==============================] - 18s 2ms/sample - loss: 4.3936e-04\n",
            "Epoch 30/100\n",
            "9534/9534 [==============================] - 18s 2ms/sample - loss: 4.0729e-04\n",
            "Epoch 31/100\n",
            "9534/9534 [==============================] - 18s 2ms/sample - loss: 4.3974e-04\n",
            "Epoch 32/100\n",
            "9534/9534 [==============================] - 18s 2ms/sample - loss: 3.9640e-04\n",
            "Epoch 33/100\n",
            "9534/9534 [==============================] - 18s 2ms/sample - loss: 3.9781e-04\n",
            "Epoch 34/100\n",
            "9534/9534 [==============================] - 18s 2ms/sample - loss: 3.6804e-04\n",
            "Epoch 35/100\n",
            "9534/9534 [==============================] - 18s 2ms/sample - loss: 4.3153e-04\n",
            "Epoch 36/100\n",
            "9534/9534 [==============================] - 18s 2ms/sample - loss: 4.0771e-04\n",
            "Epoch 37/100\n",
            "9534/9534 [==============================] - 18s 2ms/sample - loss: 3.8794e-04\n",
            "Epoch 38/100\n",
            "9534/9534 [==============================] - 18s 2ms/sample - loss: 3.7810e-04\n",
            "Epoch 39/100\n",
            "9534/9534 [==============================] - 18s 2ms/sample - loss: 4.2096e-04\n",
            "Epoch 40/100\n",
            "9534/9534 [==============================] - 18s 2ms/sample - loss: 3.6067e-04\n",
            "Epoch 41/100\n",
            "9534/9534 [==============================] - 18s 2ms/sample - loss: 3.7793e-04\n",
            "Epoch 42/100\n",
            "9534/9534 [==============================] - 18s 2ms/sample - loss: 4.0814e-04\n",
            "Epoch 43/100\n",
            "9534/9534 [==============================] - 18s 2ms/sample - loss: 3.8130e-04\n",
            "Epoch 44/100\n",
            "9534/9534 [==============================] - 18s 2ms/sample - loss: 3.8006e-04\n",
            "Epoch 45/100\n",
            "9534/9534 [==============================] - 18s 2ms/sample - loss: 3.6407e-04\n",
            "Epoch 46/100\n",
            "9534/9534 [==============================] - 18s 2ms/sample - loss: 3.6831e-04\n",
            "Epoch 47/100\n",
            "9534/9534 [==============================] - 18s 2ms/sample - loss: 3.9136e-04\n",
            "Epoch 48/100\n",
            "9534/9534 [==============================] - 18s 2ms/sample - loss: 4.3510e-04\n",
            "Epoch 49/100\n",
            "9534/9534 [==============================] - 18s 2ms/sample - loss: 3.4892e-04\n",
            "Epoch 50/100\n",
            "9534/9534 [==============================] - 18s 2ms/sample - loss: 3.6959e-04\n",
            "Epoch 51/100\n",
            "9534/9534 [==============================] - 18s 2ms/sample - loss: 3.4075e-04\n",
            "Epoch 52/100\n",
            "9534/9534 [==============================] - 18s 2ms/sample - loss: 3.5392e-04\n",
            "Epoch 53/100\n",
            "9534/9534 [==============================] - 18s 2ms/sample - loss: 3.6970e-04\n",
            "Epoch 54/100\n",
            "9534/9534 [==============================] - 18s 2ms/sample - loss: 3.6073e-04\n",
            "Epoch 55/100\n",
            "9534/9534 [==============================] - 18s 2ms/sample - loss: 3.5393e-04\n",
            "Epoch 56/100\n",
            "9534/9534 [==============================] - 18s 2ms/sample - loss: 3.7882e-04\n",
            "Epoch 57/100\n",
            "9534/9534 [==============================] - 18s 2ms/sample - loss: 3.7538e-04\n",
            "Epoch 58/100\n",
            "9534/9534 [==============================] - 18s 2ms/sample - loss: 3.5605e-04\n",
            "Epoch 59/100\n",
            "9534/9534 [==============================] - 18s 2ms/sample - loss: 3.5590e-04\n",
            "Epoch 60/100\n",
            "9534/9534 [==============================] - 18s 2ms/sample - loss: 3.6226e-04\n",
            "Epoch 61/100\n",
            "9534/9534 [==============================] - 18s 2ms/sample - loss: 3.5938e-04\n",
            "Epoch 62/100\n",
            "9534/9534 [==============================] - 18s 2ms/sample - loss: 3.5886e-04\n",
            "Epoch 63/100\n",
            "9534/9534 [==============================] - 18s 2ms/sample - loss: 3.6193e-04\n",
            "Epoch 64/100\n",
            "9534/9534 [==============================] - 18s 2ms/sample - loss: 3.4039e-04\n",
            "Epoch 65/100\n",
            "9534/9534 [==============================] - 18s 2ms/sample - loss: 3.3563e-04\n",
            "Epoch 66/100\n",
            "9534/9534 [==============================] - 18s 2ms/sample - loss: 3.4635e-04\n",
            "Epoch 67/100\n",
            "9534/9534 [==============================] - 18s 2ms/sample - loss: 3.5004e-04\n",
            "Epoch 68/100\n",
            "9534/9534 [==============================] - 18s 2ms/sample - loss: 3.3094e-04\n",
            "Epoch 69/100\n",
            "9534/9534 [==============================] - 18s 2ms/sample - loss: 3.4577e-04\n",
            "Epoch 70/100\n",
            "9534/9534 [==============================] - 18s 2ms/sample - loss: 3.6539e-04\n",
            "Epoch 71/100\n",
            "9534/9534 [==============================] - 18s 2ms/sample - loss: 3.3802e-04\n",
            "Epoch 72/100\n",
            "9534/9534 [==============================] - 18s 2ms/sample - loss: 3.3169e-04\n",
            "Epoch 73/100\n",
            "9534/9534 [==============================] - 18s 2ms/sample - loss: 4.0881e-04\n",
            "Epoch 74/100\n",
            "9534/9534 [==============================] - 18s 2ms/sample - loss: 3.2070e-04\n",
            "Epoch 75/100\n",
            "9534/9534 [==============================] - 18s 2ms/sample - loss: 3.1030e-04\n",
            "Epoch 76/100\n",
            "9534/9534 [==============================] - 18s 2ms/sample - loss: 3.4514e-04\n",
            "Epoch 77/100\n",
            "9534/9534 [==============================] - 18s 2ms/sample - loss: 3.6425e-04\n",
            "Epoch 78/100\n",
            "9534/9534 [==============================] - 18s 2ms/sample - loss: 3.3726e-04\n",
            "Epoch 79/100\n",
            "9534/9534 [==============================] - 18s 2ms/sample - loss: 3.5518e-04\n",
            "Epoch 80/100\n",
            "9534/9534 [==============================] - 18s 2ms/sample - loss: 3.2561e-04\n",
            "Epoch 81/100\n",
            "9534/9534 [==============================] - 18s 2ms/sample - loss: 3.4987e-04\n",
            "Epoch 82/100\n",
            "9534/9534 [==============================] - 18s 2ms/sample - loss: 3.3995e-04\n",
            "Epoch 83/100\n",
            "9534/9534 [==============================] - 18s 2ms/sample - loss: 3.6085e-04\n",
            "Epoch 84/100\n",
            "9534/9534 [==============================] - 18s 2ms/sample - loss: 3.4234e-04\n",
            "Epoch 85/100\n",
            "9534/9534 [==============================] - 18s 2ms/sample - loss: 3.4053e-04\n",
            "Epoch 86/100\n",
            "9534/9534 [==============================] - 18s 2ms/sample - loss: 3.1841e-04\n",
            "Epoch 87/100\n",
            "9534/9534 [==============================] - 18s 2ms/sample - loss: 3.1662e-04\n",
            "Epoch 88/100\n",
            "9534/9534 [==============================] - 18s 2ms/sample - loss: 3.0274e-04\n",
            "Epoch 89/100\n",
            "9534/9534 [==============================] - 18s 2ms/sample - loss: 3.4370e-04\n",
            "Epoch 90/100\n",
            "9534/9534 [==============================] - 18s 2ms/sample - loss: 3.4174e-04\n",
            "Epoch 91/100\n",
            "9534/9534 [==============================] - 18s 2ms/sample - loss: 3.3438e-04\n",
            "Epoch 92/100\n",
            "9534/9534 [==============================] - 18s 2ms/sample - loss: 3.2828e-04\n",
            "Epoch 93/100\n",
            "9534/9534 [==============================] - 18s 2ms/sample - loss: 3.2688e-04\n",
            "Epoch 94/100\n",
            "9534/9534 [==============================] - 18s 2ms/sample - loss: 3.0982e-04\n",
            "Epoch 95/100\n",
            "9534/9534 [==============================] - 18s 2ms/sample - loss: 3.1266e-04\n",
            "Epoch 96/100\n",
            "9534/9534 [==============================] - 18s 2ms/sample - loss: 3.6136e-04\n",
            "Epoch 97/100\n",
            "9534/9534 [==============================] - 18s 2ms/sample - loss: 3.2478e-04\n",
            "Epoch 98/100\n",
            "9534/9534 [==============================] - 18s 2ms/sample - loss: 3.4657e-04\n",
            "Epoch 99/100\n",
            "9534/9534 [==============================] - 18s 2ms/sample - loss: 3.1892e-04\n",
            "Epoch 100/100\n",
            "9534/9534 [==============================] - 18s 2ms/sample - loss: 3.0094e-04\n"
          ],
          "name": "stdout"
        },
        {
          "output_type": "execute_result",
          "data": {
            "text/plain": [
              "<tensorflow.python.keras.callbacks.History at 0x7f9135dbc390>"
            ]
          },
          "metadata": {
            "tags": []
          },
          "execution_count": 131
        }
      ]
    },
    {
      "metadata": {
        "id": "0jX-nM6dfJSp",
        "colab_type": "code",
        "colab": {
          "base_uri": "https://localhost:8080/",
          "height": 116
        },
        "outputId": "d1e7271c-7cfe-4502-90df-409d5d6b293f"
      },
      "cell_type": "code",
      "source": [
        "#  [samples, days, features]\n",
        "print(features_set.shape)"
      ],
      "execution_count": 213,
      "outputs": [
        {
          "output_type": "stream",
          "text": [
            "(9534, 60, 1)\n"
          ],
          "name": "stdout"
        }
      ]
    },
    {
      "metadata": {
        "id": "yztm7-PfI_zx",
        "colab_type": "code",
        "colab": {}
      },
      "cell_type": "code",
      "source": [
        "testing_start_date = '2018-01-01'\n",
        "testing_end_date = '2019-03-28'\n",
        "\n",
        "test_stock_data = data.get_data_yahoo(tickers, testing_start_date, testing_end_date)"
      ],
      "execution_count": 0,
      "outputs": []
    },
    {
      "metadata": {
        "id": "1iaY63cEJzTD",
        "colab_type": "code",
        "colab": {}
      },
      "cell_type": "code",
      "source": [
        "test_stock_data_processed = test_stock_data.iloc[:, 1:2].values\n"
      ],
      "execution_count": 0,
      "outputs": []
    },
    {
      "metadata": {
        "id": "QdBH51wlaost",
        "colab_type": "code",
        "colab": {
          "base_uri": "https://localhost:8080/",
          "height": 76
        },
        "outputId": "d9104d29-2d21-41d3-8557-44aae52aa09d"
      },
      "cell_type": "code",
      "source": [
        "print(test_stock_data_processed.shape)"
      ],
      "execution_count": 216,
      "outputs": [
        {
          "output_type": "stream",
          "text": [
            "(311, 1)\n"
          ],
          "name": "stdout"
        }
      ]
    },
    {
      "metadata": {
        "id": "IgIl5LKMKgU4",
        "colab_type": "code",
        "colab": {
          "base_uri": "https://localhost:8080/",
          "height": 76
        },
        "outputId": "5b8f237f-3015-40b7-f07b-6e3edcbd8b96"
      },
      "cell_type": "code",
      "source": [
        "test_inputs = test_stock_data_processed.reshape(-1,1)\n",
        "test_inputs = sc.transform(test_inputs)\n",
        "print(test_inputs.shape)"
      ],
      "execution_count": 217,
      "outputs": [
        {
          "output_type": "stream",
          "text": [
            "(311, 1)\n"
          ],
          "name": "stdout"
        }
      ]
    },
    {
      "metadata": {
        "id": "1o-fpVjsdPiR",
        "colab_type": "code",
        "colab": {}
      },
      "cell_type": "code",
      "source": [
        "test_features = []\n",
        "for i in range(60, 311):\n",
        "    test_features.append(test_inputs[i-60:i, 0])\n",
        "    \n",
        "test_features = np.array(test_features)"
      ],
      "execution_count": 0,
      "outputs": []
    },
    {
      "metadata": {
        "id": "EFQQ4Hkhcp2b",
        "colab_type": "code",
        "colab": {
          "base_uri": "https://localhost:8080/",
          "height": 76
        },
        "outputId": "4d4805ff-5bba-41bb-e418-27b4b1b31d69"
      },
      "cell_type": "code",
      "source": [
        "test_features = np.reshape(test_features, (test_features.shape[0], test_features.shape[1], 1))  \n",
        "print(test_features.shape)"
      ],
      "execution_count": 220,
      "outputs": [
        {
          "output_type": "stream",
          "text": [
            "(251, 60, 1)\n"
          ],
          "name": "stdout"
        }
      ]
    },
    {
      "metadata": {
        "id": "TkGzHUBzKuGl",
        "colab_type": "code",
        "colab": {}
      },
      "cell_type": "code",
      "source": [
        "predicted_stock_price = model.predict(test_features)"
      ],
      "execution_count": 0,
      "outputs": []
    },
    {
      "metadata": {
        "id": "FZ4hDjOXgmBX",
        "colab_type": "code",
        "colab": {}
      },
      "cell_type": "code",
      "source": [
        "predicted_stock_price = sc.inverse_transform(predicted_stock_price)"
      ],
      "execution_count": 0,
      "outputs": []
    },
    {
      "metadata": {
        "id": "Alsqt3-lgsfj",
        "colab_type": "code",
        "colab": {
          "base_uri": "https://localhost:8080/",
          "height": 423
        },
        "outputId": "74fecc70-4be7-456b-e8e3-4ff420438504"
      },
      "cell_type": "code",
      "source": [
        "plt.figure(figsize=(10,6))  \n",
        "plt.plot(test_stock_data_processed, color='blue', label='Actual Apple Stock Price')  \n",
        "plt.plot(predicted_stock_price , color='red', label='Predicted Apple Stock Price')  \n",
        "plt.title('Apple Stock Price Prediction')  \n",
        "plt.xlabel('Date')  \n",
        "plt.ylabel('Apple Stock Price')  \n",
        "plt.legend()  \n",
        "plt.show()  "
      ],
      "execution_count": 224,
      "outputs": [
        {
          "output_type": "display_data",
          "data": {
            "image/png": "[encoded data removed]",
            "text/plain": [
              "<Figure size 720x432 with 1 Axes>"
            ]
          },
          "metadata": {
            "tags": []
          }
        }
      ]
    }
  ]
}