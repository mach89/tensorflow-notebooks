{
  "nbformat": 4,
  "nbformat_minor": 0,
  "metadata": {
    "colab": {
      "name": "lstm-text-generator.ipynb",
      "version": "0.3.2",
      "provenance": [],
      "include_colab_link": true
    },
    "kernelspec": {
      "name": "python3",
      "display_name": "Python 3"
    },
    "accelerator": "GPU"
  },
  "cells": [
    {
      "cell_type": "markdown",
      "metadata": {
        "id": "view-in-github",
        "colab_type": "text"
      },
      "source": [
        "<a href=\"https://colab.research.google.com/github/rawar/tensorflow-notebooks/blob/master/lstm_text_generator.ipynb\" target=\"_parent\"><img src=\"https://colab.research.google.com/assets/colab-badge.svg\" alt=\"Open In Colab\"/></a>"
      ]
    },
    {
      "cell_type": "markdown",
      "metadata": {
        "id": "6OYiIvNaLpaQ",
        "colab_type": "text"
      },
      "source": [
        "## Textgenerator based on news\n",
        "\n",
        "Based on Enriques work of an [Word-level LSTM text generator](https://medium.com/coinmonks/word-level-lstm-text-generator-creating-automatic-song-lyrics-with-neural-networks-b8a1617104fb)"
      ]
    },
    {
      "cell_type": "code",
      "metadata": {
        "id": "fAfKbq7RLj5a",
        "colab_type": "code",
        "outputId": "0984b14a-b386-4cb3-94d5-3a6bab81b2cb",
        "colab": {
          "base_uri": "https://localhost:8080/",
          "height": 700
        }
      },
      "source": [
        "!pip install tf-nightly-gpu"
      ],
      "execution_count": 1,
      "outputs": [
        {
          "output_type": "stream",
          "text": [
            "Collecting tf-nightly-gpu\n",
            "\u001b[?25l  Downloading https://files.pythonhosted.org/packages/50/3c/96b405d4370401b5de71a29280bd3ca9744bb0a2e163977c7e55e5172aa6/tf_nightly_gpu-1.14.1.dev20190514-cp36-cp36m-manylinux1_x86_64.whl (375.4MB)\n",
            "\u001b[K     |████████████████████████████████| 375.4MB 43kB/s \n",
            "\u001b[?25hCollecting google-pasta>=0.1.6 (from tf-nightly-gpu)\n",
            "\u001b[?25l  Downloading https://files.pythonhosted.org/packages/f9/68/a14620bfb042691f532dcde8576ff82ee82e4c003cdc0a3dbee5f289cee6/google_pasta-0.1.6-py3-none-any.whl (51kB)\n",
            "\u001b[K     |████████████████████████████████| 61kB 26.2MB/s \n",
            "\u001b[?25hCollecting tf-estimator-nightly (from tf-nightly-gpu)\n",
            "\u001b[?25l  Downloading https://files.pythonhosted.org/packages/4c/53/8ac21f29ced2ad85bf079bc1d1022e98c0bb3d07adacb0da28e498c64402/tf_estimator_nightly-1.14.0.dev2019051401-py2.py3-none-any.whl (487kB)\n",
            "\u001b[K     |████████████████████████████████| 491kB 27.3MB/s \n",
            "\u001b[?25hRequirement already satisfied: keras-applications>=1.0.6 in /usr/local/lib/python3.6/dist-packages (from tf-nightly-gpu) (1.0.7)\n",
            "Requirement already satisfied: gast>=0.2.0 in /usr/local/lib/python3.6/dist-packages (from tf-nightly-gpu) (0.2.2)\n",
            "Requirement already satisfied: wheel>=0.26 in /usr/local/lib/python3.6/dist-packages (from tf-nightly-gpu) (0.33.4)\n",
            "Collecting tb-nightly<1.15.0a0,>=1.14.0a0 (from tf-nightly-gpu)\n",
            "\u001b[?25l  Downloading https://files.pythonhosted.org/packages/0f/37/7ddf6bffbc6df5cbb6f2d7d39691b852b238d00bc32f134f546db6e820ee/tb_nightly-1.14.0a20190514-py3-none-any.whl (3.1MB)\n",
            "\u001b[K     |████████████████████████████████| 3.1MB 48.3MB/s \n",
            "\u001b[?25hRequirement already satisfied: termcolor>=1.1.0 in /usr/local/lib/python3.6/dist-packages (from tf-nightly-gpu) (1.1.0)\n",
            "Requirement already satisfied: protobuf>=3.6.1 in /usr/local/lib/python3.6/dist-packages (from tf-nightly-gpu) (3.7.1)\n",
            "Requirement already satisfied: grpcio>=1.8.6 in /usr/local/lib/python3.6/dist-packages (from tf-nightly-gpu) (1.15.0)\n",
            "Requirement already satisfied: numpy<2.0,>=1.14.5 in /usr/local/lib/python3.6/dist-packages (from tf-nightly-gpu) (1.16.3)\n",
            "Collecting wrapt>=1.11.1 (from tf-nightly-gpu)\n",
            "  Downloading https://files.pythonhosted.org/packages/67/b2/0f71ca90b0ade7fad27e3d20327c996c6252a2ffe88f50a95bba7434eda9/wrapt-1.11.1.tar.gz\n",
            "Requirement already satisfied: six>=1.10.0 in /usr/local/lib/python3.6/dist-packages (from tf-nightly-gpu) (1.12.0)\n",
            "Requirement already satisfied: keras-preprocessing>=1.0.5 in /usr/local/lib/python3.6/dist-packages (from tf-nightly-gpu) (1.0.9)\n",
            "Requirement already satisfied: astor>=0.6.0 in /usr/local/lib/python3.6/dist-packages (from tf-nightly-gpu) (0.7.1)\n",
            "Requirement already satisfied: absl-py>=0.7.0 in /usr/local/lib/python3.6/dist-packages (from tf-nightly-gpu) (0.7.1)\n",
            "Requirement already satisfied: h5py in /usr/local/lib/python3.6/dist-packages (from keras-applications>=1.0.6->tf-nightly-gpu) (2.8.0)\n",
            "Requirement already satisfied: werkzeug>=0.11.15 in /usr/local/lib/python3.6/dist-packages (from tb-nightly<1.15.0a0,>=1.14.0a0->tf-nightly-gpu) (0.15.2)\n",
            "Requirement already satisfied: markdown>=2.6.8 in /usr/local/lib/python3.6/dist-packages (from tb-nightly<1.15.0a0,>=1.14.0a0->tf-nightly-gpu) (3.1)\n",
            "Requirement already satisfied: setuptools in /usr/local/lib/python3.6/dist-packages (from protobuf>=3.6.1->tf-nightly-gpu) (41.0.1)\n",
            "Building wheels for collected packages: wrapt\n",
            "  Building wheel for wrapt (setup.py) ... \u001b[?25l\u001b[?25hdone\n",
            "  Stored in directory: /root/.cache/pip/wheels/89/67/41/63cbf0f6ac0a6156588b9587be4db5565f8c6d8ccef98202fc\n",
            "Successfully built wrapt\n",
            "\u001b[31mERROR: thinc 6.12.1 has requirement wrapt<1.11.0,>=1.10.0, but you'll have wrapt 1.11.1 which is incompatible.\u001b[0m\n",
            "Installing collected packages: google-pasta, tf-estimator-nightly, tb-nightly, wrapt, tf-nightly-gpu\n",
            "  Found existing installation: wrapt 1.10.11\n",
            "    Uninstalling wrapt-1.10.11:\n",
            "      Successfully uninstalled wrapt-1.10.11\n",
            "Successfully installed google-pasta-0.1.6 tb-nightly-1.14.0a20190514 tf-estimator-nightly-1.14.0.dev2019051401 tf-nightly-gpu-1.14.1.dev20190514 wrapt-1.11.1\n"
          ],
          "name": "stdout"
        }
      ]
    },
    {
      "cell_type": "code",
      "metadata": {
        "id": "QGDnESfOL59u",
        "colab_type": "code",
        "colab": {}
      },
      "source": [
        "import numpy as np\n",
        "import matplotlib.pyplot as plt\n",
        "import pandas as pd\n",
        "import tensorflow as tf"
      ],
      "execution_count": 0,
      "outputs": []
    },
    {
      "cell_type": "code",
      "metadata": {
        "id": "8KV-7cgQL9cC",
        "colab_type": "code",
        "colab": {}
      },
      "source": [
        "url = 'https://gist.githubusercontent.com/rawar/ae4cce269e29c2826163fbca60b544f4/raw/20594a832b44de4b4a5160fb2732399ba09a70e9/reco-content-data.csv'\n",
        "text_corpus = pd.read_csv(url)"
      ],
      "execution_count": 0,
      "outputs": []
    },
    {
      "cell_type": "code",
      "metadata": {
        "id": "isKcV3P-N1_M",
        "colab_type": "code",
        "outputId": "6afb23c1-8459-4b99-f9ba-22f122464ff0",
        "colab": {
          "base_uri": "https://localhost:8080/",
          "height": 119
        }
      },
      "source": [
        "headlines_data_frame = text_corpus['title']\n",
        "headlines_data_frame = headlines_data_frame.dropna()\n",
        "headlines_data_frame.head()"
      ],
      "execution_count": 4,
      "outputs": [
        {
          "output_type": "execute_result",
          "data": {
            "text/plain": [
              "0                             Google verkauft Motorola\n",
              "1    Touchscreen im Winter: Handy-Handschuhe selber...\n",
              "2    \\Bei WhatsApp als Kontakt blockiert: So merkt ...\n",
              "3    Paper: Facebook stellt neue App im Flipboard-S...\n",
              "4               WhatsApp: mehr Privatsphäre für Nutzer\n",
              "Name: title, dtype: object"
            ]
          },
          "metadata": {
            "tags": []
          },
          "execution_count": 4
        }
      ]
    },
    {
      "cell_type": "markdown",
      "metadata": {
        "id": "vC43S7xbmG0A",
        "colab_type": "text"
      },
      "source": [
        "### lower all words"
      ]
    },
    {
      "cell_type": "code",
      "metadata": {
        "id": "ljj0er7Ekp7H",
        "colab_type": "code",
        "colab": {
          "base_uri": "https://localhost:8080/",
          "height": 374
        },
        "outputId": "8b7cbf84-a7c1-47d2-ca9b-050cf698d748"
      },
      "source": [
        "headlines_data_frame = headlines_data_frame.str.lower()\n",
        "headlines_data_frame.head(20)"
      ],
      "execution_count": 7,
      "outputs": [
        {
          "output_type": "execute_result",
          "data": {
            "text/plain": [
              "0                              google verkauft motorola\n",
              "1     touchscreen im winter: handy-handschuhe selber...\n",
              "2     \\bei whatsapp als kontakt blockiert: so merkt ...\n",
              "3     paper: facebook stellt neue app im flipboard-s...\n",
              "4                whatsapp: mehr privatsphäre für nutzer\n",
              "5     tipps: schutz vor gefahren in sozialen netzwerken\n",
              "6     bluetooth-kopfhörer für sportler: darauf kommt...\n",
              "7                                     mobistel cynus t5\n",
              "8                speicherplatz auf ipad & iphone sparen\n",
              "9     sar-wert beim handy: was sagt er über strahlun...\n",
              "10    berlin-apps: mit dem smartphone die hauptstadt...\n",
              "11        beim iphone den sperrcode vergessen: was tun?\n",
              "12      whatsapp einrichten: einstellungen für anfänger\n",
              "13       candy crush saga: tipps für die spezialbonbons\n",
              "14    plants vs. zombies 2: hilfreiche tipps für anf...\n",
              "15    komfort-handgriffe: praktische shortcuts für a...\n",
              "16    app-empfehlungen: urlaub buchen mit dem smartp...\n",
              "17      mit android von smartphones und tablets drucken\n",
              "18    microsd-karte kaufen: wo liegen die unterschiede?\n",
              "19           ipad air: die veredelung des goldstandards\n",
              "Name: title, dtype: object"
            ]
          },
          "metadata": {
            "tags": []
          },
          "execution_count": 7
        }
      ]
    },
    {
      "cell_type": "code",
      "metadata": {
        "id": "HjoBmqq6ObR2",
        "colab_type": "code",
        "outputId": "15310502-abfa-4255-95d5-d3084c28c8bd",
        "colab": {
          "base_uri": "https://localhost:8080/",
          "height": 34
        }
      },
      "source": [
        "text_in_words = headlines_data_frame.str.split(' ').tolist()\n",
        "print('Number of sentences:', len(text_in_words))"
      ],
      "execution_count": 8,
      "outputs": [
        {
          "output_type": "stream",
          "text": [
            "Number of sentences: 15751\n"
          ],
          "name": "stdout"
        }
      ]
    },
    {
      "cell_type": "code",
      "metadata": {
        "id": "w2SedEtPRKn1",
        "colab_type": "code",
        "outputId": "abd0a5a5-c541-4ce7-8b1d-8bf59c9ac90d",
        "colab": {
          "base_uri": "https://localhost:8080/",
          "height": 34
        }
      },
      "source": [
        "print(text_in_words[15749:15750])"
      ],
      "execution_count": 9,
      "outputs": [
        {
          "output_type": "stream",
          "text": [
            "[['fatburner-training:', 'diese', 'übungen', 'sind', 'für', 'männer']]\n"
          ],
          "name": "stdout"
        }
      ]
    },
    {
      "cell_type": "code",
      "metadata": {
        "id": "S-ahG-H7WWEy",
        "colab_type": "code",
        "outputId": "3b953fda-1180-4395-8f26-0fcf840384ea",
        "colab": {
          "base_uri": "https://localhost:8080/",
          "height": 34
        }
      },
      "source": [
        "MAX_WORDS_PER_HEADLINE = 5\n",
        "for example in text_in_words:\n",
        "  new_max = len(example)\n",
        "  if new_max > MAX_WORDS_PER_HEADLINE:\n",
        "    MAX_WORDS_PER_HEADLINE = new_max\n",
        "    \n",
        "print(MAX_WORDS_PER_HEADLINE)"
      ],
      "execution_count": 10,
      "outputs": [
        {
          "output_type": "stream",
          "text": [
            "16\n"
          ],
          "name": "stdout"
        }
      ]
    },
    {
      "cell_type": "markdown",
      "metadata": {
        "id": "kVY70_0FlGfv",
        "colab_type": "text"
      },
      "source": [
        "### Build a set of (unique) words "
      ]
    },
    {
      "cell_type": "code",
      "metadata": {
        "id": "spfLX9jrptps",
        "colab_type": "code",
        "colab": {}
      },
      "source": [
        "words = set()\n",
        "for sentence in text_in_words:\n",
        "  for word in sentence:\n",
        "    words.add(word)"
      ],
      "execution_count": 0,
      "outputs": []
    },
    {
      "cell_type": "code",
      "metadata": {
        "id": "n0FZGXikqDdg",
        "colab_type": "code",
        "outputId": "2959a822-7907-4ed1-eed3-a8e7bdcaaa57",
        "colab": {
          "base_uri": "https://localhost:8080/",
          "height": 34
        }
      },
      "source": [
        "len(words)"
      ],
      "execution_count": 12,
      "outputs": [
        {
          "output_type": "execute_result",
          "data": {
            "text/plain": [
              "10274"
            ]
          },
          "metadata": {
            "tags": []
          },
          "execution_count": 12
        }
      ]
    },
    {
      "cell_type": "code",
      "metadata": {
        "id": "HktnI8lEszSd",
        "colab_type": "code",
        "colab": {}
      },
      "source": [
        "word_indices = dict((c, i) for i, c in enumerate(words))\n",
        "indices_word = dict((i, c) for i, c in enumerate(words))"
      ],
      "execution_count": 0,
      "outputs": []
    },
    {
      "cell_type": "code",
      "metadata": {
        "id": "IwSVSVf6W2rI",
        "colab_type": "code",
        "colab": {}
      },
      "source": [
        "SEQUENCE_LEN = 2\n",
        "MIN_WORD_FREQUENCY = 1\n",
        "STEP = 1\n",
        "BATCH_SIZE = 32\n",
        "EPOCHS = 50"
      ],
      "execution_count": 0,
      "outputs": []
    },
    {
      "cell_type": "code",
      "metadata": {
        "id": "TFcXCVdfeULj",
        "colab_type": "code",
        "colab": {}
      },
      "source": [
        "sentences = []\n",
        "next_words = []\n",
        "ignored = 0\n",
        "for sentence in text_in_words:\n",
        "  for i in range(0, len(sentence) - SEQUENCE_LEN, STEP):\n",
        "    sentences.append(sentence[i:i + SEQUENCE_LEN])\n",
        "    next_words.append(sentence[i + SEQUENCE_LEN])"
      ],
      "execution_count": 0,
      "outputs": []
    },
    {
      "cell_type": "code",
      "metadata": {
        "id": "bpV0b6qlgIGA",
        "colab_type": "code",
        "colab": {}
      },
      "source": [
        "#print(sentences[0])"
      ],
      "execution_count": 0,
      "outputs": []
    },
    {
      "cell_type": "code",
      "metadata": {
        "id": "vCA78RmVhIza",
        "colab_type": "code",
        "colab": {}
      },
      "source": [
        "#print(next_words[0])"
      ],
      "execution_count": 0,
      "outputs": []
    },
    {
      "cell_type": "code",
      "metadata": {
        "id": "QkJgWu4Mggsx",
        "colab_type": "code",
        "colab": {}
      },
      "source": [
        "#print(sentences[2])"
      ],
      "execution_count": 0,
      "outputs": []
    },
    {
      "cell_type": "code",
      "metadata": {
        "id": "69Y8tXc7gm3L",
        "colab_type": "code",
        "colab": {}
      },
      "source": [
        "#print(next_words[2])"
      ],
      "execution_count": 0,
      "outputs": []
    },
    {
      "cell_type": "code",
      "metadata": {
        "id": "iE5wwTTLXsT1",
        "colab_type": "code",
        "colab": {}
      },
      "source": [
        "def shuffle_and_split_training_set(sentences_original, next_original, percentage_test=2):\n",
        "    # shuffle at unison\n",
        "    print('Shuffling sentences')\n",
        "\n",
        "    tmp_sentences = []\n",
        "    tmp_next_word = []\n",
        "    for i in np.random.permutation(len(sentences_original)):\n",
        "        tmp_sentences.append(sentences_original[i])\n",
        "        tmp_next_word.append(next_original[i])\n",
        "\n",
        "    cut_index = int(len(sentences_original) * (1.-(percentage_test/100.)))\n",
        "    x_train, x_test = tmp_sentences[:cut_index], tmp_sentences[cut_index:]\n",
        "    y_train, y_test = tmp_next_word[:cut_index], tmp_next_word[cut_index:]\n",
        "\n",
        "    print(\"Size of training set = %d\" % len(x_train))\n",
        "    print(\"Size of test set = %d\" % len(y_test))\n",
        "    return (x_train, y_train), (x_test, y_test)"
      ],
      "execution_count": 0,
      "outputs": []
    },
    {
      "cell_type": "code",
      "metadata": {
        "id": "G57ukcEakHaY",
        "colab_type": "code",
        "outputId": "64c8c952-ff5c-4ddc-9aa7-986f945088c9",
        "colab": {
          "base_uri": "https://localhost:8080/",
          "height": 68
        }
      },
      "source": [
        "(sentences_train, next_words_train), (sentences_test, next_words_test) = shuffle_and_split_training_set(sentences, next_words)"
      ],
      "execution_count": 22,
      "outputs": [
        {
          "output_type": "stream",
          "text": [
            "Shuffling sentences\n",
            "Size of training set = 98214\n",
            "Size of test set = 2005\n"
          ],
          "name": "stdout"
        }
      ]
    },
    {
      "cell_type": "code",
      "metadata": {
        "id": "wQUYiObqlsN0",
        "colab_type": "code",
        "colab": {}
      },
      "source": [
        "model = tf.keras.models.Sequential([\n",
        "    tf.keras.layers.Embedding(input_dim=len(words), output_dim=1024),\n",
        "    tf.keras.layers.Bidirectional(tf.keras.layers.LSTM(units=128)),\n",
        "    tf.keras.layers.Dropout(0.1),\n",
        "    tf.keras.layers.Dense(len(words), activation='softmax')\n",
        "])"
      ],
      "execution_count": 0,
      "outputs": []
    },
    {
      "cell_type": "code",
      "metadata": {
        "id": "M8KqMMscqgXW",
        "colab_type": "code",
        "colab": {}
      },
      "source": [
        "def generator(sentence_list, next_word_list, batch_size):\n",
        "    index = 0\n",
        "    while True:\n",
        "        x = np.zeros((batch_size, SEQUENCE_LEN), dtype=np.int32)\n",
        "        y = np.zeros((batch_size), dtype=np.int32)\n",
        "        for i in range(batch_size):\n",
        "            for t, w in enumerate(sentence_list[index % len(sentence_list)]):\n",
        "                x[i, t] = word_indices[w]\n",
        "            y[i] = word_indices[next_word_list[index % len(sentence_list)]]\n",
        "            index = index + 1\n",
        "        yield x, y"
      ],
      "execution_count": 0,
      "outputs": []
    },
    {
      "cell_type": "code",
      "metadata": {
        "id": "dvN-MvovrFep",
        "colab_type": "code",
        "colab": {}
      },
      "source": [
        "#optimizer = tf.keras.optimizers.RMSprop(lr=0.01)\n",
        "#model.compile(loss='categorical_crossentropy', optimizer=optimizer)\n",
        "model.compile(loss='sparse_categorical_crossentropy', optimizer=\"adam\", metrics=['accuracy'])"
      ],
      "execution_count": 0,
      "outputs": []
    },
    {
      "cell_type": "code",
      "metadata": {
        "id": "xP3ek5GpsaxR",
        "colab_type": "code",
        "colab": {}
      },
      "source": [
        "!mkdir checkpoints"
      ],
      "execution_count": 0,
      "outputs": []
    },
    {
      "cell_type": "code",
      "metadata": {
        "id": "dkogyqHsrP69",
        "colab_type": "code",
        "colab": {}
      },
      "source": [
        "file_path = \"./checkpoints/lstm-text-gen-epoch{epoch:03d}-words%d-sequence%d-minfreq%d-\" \\\n",
        "                \"loss{loss:.4f}-acc{acc:.4f}-val_loss{val_loss:.4f}-val_acc{val_acc:.4f}\" % \\\n",
        "                (len(words), SEQUENCE_LEN, MIN_WORD_FREQUENCY)"
      ],
      "execution_count": 0,
      "outputs": []
    },
    {
      "cell_type": "code",
      "metadata": {
        "id": "fBpA9iQjt1vq",
        "colab_type": "code",
        "colab": {}
      },
      "source": [
        "def sample(preds, temperature=1.0):\n",
        "    # helper function to sample an index from a probability array\n",
        "    preds = np.asarray(preds).astype('float64')\n",
        "    preds = np.log(preds) / temperature\n",
        "    exp_preds = np.exp(preds)\n",
        "    preds = exp_preds / np.sum(exp_preds)\n",
        "    probas = np.random.multinomial(1, preds, 1)\n",
        "    return np.argmax(probas)"
      ],
      "execution_count": 0,
      "outputs": []
    },
    {
      "cell_type": "markdown",
      "metadata": {
        "id": "vkPkj6OBlYyE",
        "colab_type": "text"
      },
      "source": [
        "## Keras callback function\n",
        "Creates a text samples with different diversity values on a random sentence start."
      ]
    },
    {
      "cell_type": "code",
      "metadata": {
        "id": "G2wXHE9qrWx3",
        "colab_type": "code",
        "colab": {}
      },
      "source": [
        "def on_epoch_end(epoch, logs):\n",
        "    # Function invoked at end of each epoch. Prints generated text.\n",
        "    examples_file.write('\\n----- Generating text after Epoch: %d\\n' % epoch)\n",
        "\n",
        "    # Randomly pick a seed sequence\n",
        "    seed_index = np.random.randint(len(sentences+sentences_test))\n",
        "    seed = (sentences+sentences_test)[seed_index]\n",
        "\n",
        "    for diversity in [0.3, 0.4, 0.5, 0.6, 0.7]:\n",
        "        sentence = seed\n",
        "        examples_file.write('----- Diversity:' + str(diversity) + '\\n')\n",
        "        examples_file.write('----- Generating with seed:\\n\"' + ' '.join(sentence) + '\"\\n')\n",
        "        examples_file.write(' '.join(sentence))\n",
        "\n",
        "        for i in range(MAX_WORDS_PER_HEADLINE):\n",
        "            x_pred = np.zeros((1, SEQUENCE_LEN))\n",
        "            for t, word in enumerate(sentence):\n",
        "                x_pred[0, t] = word_indices[word]\n",
        "\n",
        "            preds = model.predict(x_pred, verbose=0)[0]\n",
        "            next_index = sample(preds, diversity)\n",
        "            next_word = indices_word[next_index]\n",
        "\n",
        "            sentence = sentence[1:]\n",
        "            sentence.append(next_word)\n",
        "\n",
        "            examples_file.write(\" \"+next_word)\n",
        "        examples_file.write('\\n')\n",
        "    examples_file.write('='*80 + '\\n')\n",
        "    examples_file.flush()\n"
      ],
      "execution_count": 0,
      "outputs": []
    },
    {
      "cell_type": "markdown",
      "metadata": {
        "id": "r3PF-0gblpM-",
        "colab_type": "text"
      },
      "source": [
        "Keras Callback functions to controll the training process"
      ]
    },
    {
      "cell_type": "code",
      "metadata": {
        "id": "t3EW8J5jreRl",
        "colab_type": "code",
        "colab": {}
      },
      "source": [
        "checkpoint = tf.keras.callbacks.ModelCheckpoint(file_path, monitor='val_acc', save_best_only=True)\n",
        "print_callback = tf.keras.callbacks.LambdaCallback(on_epoch_end=on_epoch_end)\n",
        "early_stopping = tf.keras.callbacks.EarlyStopping(monitor='val_acc', patience=20)\n",
        "callbacks_list = [checkpoint, print_callback, early_stopping]"
      ],
      "execution_count": 0,
      "outputs": []
    },
    {
      "cell_type": "markdown",
      "metadata": {
        "id": "fpCUJuS6l1Gw",
        "colab_type": "text"
      },
      "source": [
        "Sample file to write down the text samples during the training"
      ]
    },
    {
      "cell_type": "code",
      "metadata": {
        "id": "uWiB4lP_tZ8F",
        "colab_type": "code",
        "colab": {}
      },
      "source": [
        "examples_file = open('examples.txt', \"w\")"
      ],
      "execution_count": 0,
      "outputs": []
    },
    {
      "cell_type": "markdown",
      "metadata": {
        "id": "cyqco-rZl8yn",
        "colab_type": "text"
      },
      "source": [
        "### Model training"
      ]
    },
    {
      "cell_type": "code",
      "metadata": {
        "id": "GjRNhXT9r0jp",
        "colab_type": "code",
        "outputId": "5ba305b1-d13a-4316-9642-87adc77dad92",
        "colab": {
          "base_uri": "https://localhost:8080/",
          "height": 1717
        }
      },
      "source": [
        "history = model.fit_generator(generator(sentences, next_words, BATCH_SIZE),\n",
        "                    steps_per_epoch=int(len(sentences)/BATCH_SIZE) + 1,\n",
        "                    epochs=EPOCHS,\n",
        "                    callbacks=callbacks_list,\n",
        "                    validation_data=generator(sentences_test, next_words_test, BATCH_SIZE),\n",
        "                    validation_steps=int(len(sentences_test)/BATCH_SIZE) + 1)"
      ],
      "execution_count": 43,
      "outputs": [
        {
          "output_type": "stream",
          "text": [
            "Epoch 1/50\n",
            "3132/3132 [==============================] - 50s 16ms/step - loss: 3.3888 - acc: 0.5546 - val_loss: 4.0098 - val_acc: 0.5848\n",
            "Epoch 2/50\n",
            "3132/3132 [==============================] - 48s 15ms/step - loss: 2.6136 - acc: 0.6069 - val_loss: 2.4580 - val_acc: 0.6364\n",
            "Epoch 3/50\n",
            "3132/3132 [==============================] - 47s 15ms/step - loss: 1.8681 - acc: 0.6755 - val_loss: 1.4827 - val_acc: 0.7292\n",
            "Epoch 4/50\n",
            "3132/3132 [==============================] - 48s 15ms/step - loss: 1.2553 - acc: 0.7517 - val_loss: 0.9643 - val_acc: 0.8095\n",
            "Epoch 5/50\n",
            "3132/3132 [==============================] - 48s 15ms/step - loss: 0.9116 - acc: 0.8020 - val_loss: 0.7491 - val_acc: 0.8452\n",
            "Epoch 6/50\n",
            "3132/3132 [==============================] - 47s 15ms/step - loss: 0.7370 - acc: 0.8284 - val_loss: 0.6321 - val_acc: 0.8552\n",
            "Epoch 7/50\n",
            "3132/3132 [==============================] - 48s 15ms/step - loss: 0.6614 - acc: 0.8394 - val_loss: 0.5621 - val_acc: 0.8686\n",
            "Epoch 8/50\n",
            "3132/3132 [==============================] - 47s 15ms/step - loss: 0.6259 - acc: 0.8438 - val_loss: 0.5058 - val_acc: 0.8819\n",
            "Epoch 9/50\n",
            "3132/3132 [==============================] - 47s 15ms/step - loss: 0.6036 - acc: 0.8468 - val_loss: 0.4966 - val_acc: 0.8790\n",
            "Epoch 10/50\n",
            "3132/3132 [==============================] - 48s 15ms/step - loss: 0.5883 - acc: 0.8472 - val_loss: 0.4744 - val_acc: 0.8839\n",
            "Epoch 11/50\n",
            "3132/3132 [==============================] - 46s 15ms/step - loss: 0.5752 - acc: 0.8483 - val_loss: 0.4622 - val_acc: 0.8775\n",
            "Epoch 12/50\n",
            "3132/3132 [==============================] - 48s 15ms/step - loss: 0.5647 - acc: 0.8489 - val_loss: 0.4480 - val_acc: 0.8805\n",
            "Epoch 13/50\n",
            "3132/3132 [==============================] - 46s 15ms/step - loss: 0.5553 - acc: 0.8501 - val_loss: 0.4490 - val_acc: 0.8839\n",
            "Epoch 14/50\n",
            "3132/3132 [==============================] - 47s 15ms/step - loss: 0.5453 - acc: 0.8504 - val_loss: 0.4330 - val_acc: 0.8844\n",
            "Epoch 15/50\n",
            "3132/3132 [==============================] - 47s 15ms/step - loss: 0.5384 - acc: 0.8513 - val_loss: 0.4327 - val_acc: 0.8874\n",
            "Epoch 16/50\n",
            "3132/3132 [==============================] - 46s 15ms/step - loss: 0.5336 - acc: 0.8515 - val_loss: 0.4245 - val_acc: 0.8849\n",
            "Epoch 17/50\n",
            "3132/3132 [==============================] - 49s 16ms/step - loss: 0.5289 - acc: 0.8506 - val_loss: 0.4201 - val_acc: 0.8805\n",
            "Epoch 18/50\n",
            "3132/3132 [==============================] - 47s 15ms/step - loss: 0.5248 - acc: 0.8513 - val_loss: 0.4159 - val_acc: 0.8869\n",
            "Epoch 19/50\n",
            "3132/3132 [==============================] - 47s 15ms/step - loss: 0.5221 - acc: 0.8507 - val_loss: 0.4184 - val_acc: 0.8874\n",
            "Epoch 20/50\n",
            "3132/3132 [==============================] - 47s 15ms/step - loss: 0.5165 - acc: 0.8508 - val_loss: 0.4141 - val_acc: 0.8869\n",
            "Epoch 21/50\n",
            "3132/3132 [==============================] - 47s 15ms/step - loss: 0.5146 - acc: 0.8512 - val_loss: 0.4137 - val_acc: 0.8854\n",
            "Epoch 22/50\n",
            "3132/3132 [==============================] - 47s 15ms/step - loss: 0.5104 - acc: 0.8513 - val_loss: 0.4099 - val_acc: 0.8899\n",
            "Epoch 23/50\n",
            "3132/3132 [==============================] - 48s 15ms/step - loss: 0.5091 - acc: 0.8512 - val_loss: 0.3974 - val_acc: 0.8894\n",
            "Epoch 24/50\n",
            "3132/3132 [==============================] - 47s 15ms/step - loss: 0.5056 - acc: 0.8509 - val_loss: 0.3902 - val_acc: 0.8869\n",
            "Epoch 25/50\n",
            "3132/3132 [==============================] - 47s 15ms/step - loss: 0.5026 - acc: 0.8514 - val_loss: 0.3910 - val_acc: 0.8864\n",
            "Epoch 26/50\n",
            "3132/3132 [==============================] - 47s 15ms/step - loss: 0.4991 - acc: 0.8518 - val_loss: 0.3961 - val_acc: 0.8904\n",
            "Epoch 27/50\n",
            "3132/3132 [==============================] - 47s 15ms/step - loss: 0.4975 - acc: 0.8516 - val_loss: 0.3931 - val_acc: 0.8859\n",
            "Epoch 28/50\n",
            "3132/3132 [==============================] - 46s 15ms/step - loss: 0.4929 - acc: 0.8519 - val_loss: 0.3900 - val_acc: 0.8899\n",
            "Epoch 29/50\n",
            "3132/3132 [==============================] - 47s 15ms/step - loss: 0.4918 - acc: 0.8524 - val_loss: 0.3875 - val_acc: 0.8844\n",
            "Epoch 30/50\n",
            "3132/3132 [==============================] - 48s 15ms/step - loss: 0.4897 - acc: 0.8529 - val_loss: 0.3870 - val_acc: 0.8854\n",
            "Epoch 31/50\n",
            "3132/3132 [==============================] - 48s 15ms/step - loss: 0.4886 - acc: 0.8525 - val_loss: 0.3796 - val_acc: 0.8844\n",
            "Epoch 32/50\n",
            "3132/3132 [==============================] - 47s 15ms/step - loss: 0.4850 - acc: 0.8527 - val_loss: 0.3873 - val_acc: 0.8889\n",
            "Epoch 33/50\n",
            "3132/3132 [==============================] - 46s 15ms/step - loss: 0.4831 - acc: 0.8525 - val_loss: 0.3841 - val_acc: 0.8894\n",
            "Epoch 34/50\n",
            "3132/3132 [==============================] - 47s 15ms/step - loss: 0.4806 - acc: 0.8531 - val_loss: 0.3798 - val_acc: 0.8879\n",
            "Epoch 35/50\n",
            "3132/3132 [==============================] - 46s 15ms/step - loss: 0.4773 - acc: 0.8542 - val_loss: 0.3756 - val_acc: 0.8864\n",
            "Epoch 36/50\n",
            "3132/3132 [==============================] - 48s 15ms/step - loss: 0.4762 - acc: 0.8540 - val_loss: 0.3874 - val_acc: 0.8869\n",
            "Epoch 37/50\n",
            "3132/3132 [==============================] - 47s 15ms/step - loss: 0.4775 - acc: 0.8528 - val_loss: 0.3782 - val_acc: 0.8894\n",
            "Epoch 38/50\n",
            "3132/3132 [==============================] - 47s 15ms/step - loss: 0.4741 - acc: 0.8545 - val_loss: 0.3752 - val_acc: 0.8914\n",
            "Epoch 39/50\n",
            "3132/3132 [==============================] - 47s 15ms/step - loss: 0.4738 - acc: 0.8539 - val_loss: 0.3752 - val_acc: 0.8899\n",
            "Epoch 40/50\n",
            "3132/3132 [==============================] - 46s 15ms/step - loss: 0.4723 - acc: 0.8540 - val_loss: 0.3701 - val_acc: 0.8899\n",
            "Epoch 41/50\n",
            "3132/3132 [==============================] - 47s 15ms/step - loss: 0.4722 - acc: 0.8546 - val_loss: 0.3720 - val_acc: 0.8854\n",
            "Epoch 42/50\n",
            "3132/3132 [==============================] - 46s 15ms/step - loss: 0.4714 - acc: 0.8545 - val_loss: 0.3739 - val_acc: 0.8884\n",
            "Epoch 43/50\n",
            "3132/3132 [==============================] - 49s 15ms/step - loss: 0.4698 - acc: 0.8543 - val_loss: 0.3719 - val_acc: 0.8909\n",
            "Epoch 44/50\n",
            "3132/3132 [==============================] - 48s 15ms/step - loss: 0.4692 - acc: 0.8538 - val_loss: 0.3830 - val_acc: 0.8849\n",
            "Epoch 45/50\n",
            "3132/3132 [==============================] - 46s 15ms/step - loss: 0.4671 - acc: 0.8551 - val_loss: 0.3839 - val_acc: 0.8849\n",
            "Epoch 46/50\n",
            "3132/3132 [==============================] - 47s 15ms/step - loss: 0.4682 - acc: 0.8551 - val_loss: 0.3645 - val_acc: 0.8894\n",
            "Epoch 47/50\n",
            "3132/3132 [==============================] - 46s 15ms/step - loss: 0.4622 - acc: 0.8555 - val_loss: 0.3715 - val_acc: 0.8864\n",
            "Epoch 48/50\n",
            "3132/3132 [==============================] - 47s 15ms/step - loss: 0.4658 - acc: 0.8553 - val_loss: 0.3681 - val_acc: 0.8869\n",
            "Epoch 49/50\n",
            "3132/3132 [==============================] - 47s 15ms/step - loss: 0.4653 - acc: 0.8557 - val_loss: 0.3698 - val_acc: 0.8859\n",
            "Epoch 50/50\n",
            "3132/3132 [==============================] - 48s 15ms/step - loss: 0.4647 - acc: 0.8569 - val_loss: 0.3720 - val_acc: 0.8864\n"
          ],
          "name": "stdout"
        }
      ]
    },
    {
      "cell_type": "markdown",
      "metadata": {
        "id": "ELCCB70kuG0C",
        "colab_type": "text"
      },
      "source": [
        "### Check accuracy and loss\n",
        "Be aware of underfitting and overfitting"
      ]
    },
    {
      "cell_type": "code",
      "metadata": {
        "id": "X9Ihwhw3MYYq",
        "colab_type": "code",
        "outputId": "9ff39abc-f0a0-4526-d5a8-fb33214b0865",
        "colab": {
          "base_uri": "https://localhost:8080/",
          "height": 312
        }
      },
      "source": [
        "from matplotlib import pyplot\n",
        "\n",
        "pyplot.xkcd()\n",
        "pyplot.plot(history.history['acc'])\n",
        "pyplot.plot(history.history['val_acc'])\n",
        "pyplot.plot(history.history['loss'])\n",
        "pyplot.plot(history.history['val_loss'])\n",
        "pyplot.title('Training / Validation Results')\n",
        "pyplot.ylabel('Accuracy and Loss')\n",
        "pyplot.xlabel('Epoch #')\n",
        "pyplot.legend(['train_acc', 'val_acc', 'train_loss', 'val_loss'], loc='upper right')\n",
        "pyplot.show()\n"
      ],
      "execution_count": 44,
      "outputs": [
        {
          "output_type": "display_data",
          "data": {
            "image/png": "[encoded data removed]",
            "text/plain": [
              "<Figure size 432x288 with 1 Axes>"
            ]
          },
          "metadata": {
            "tags": []
          }
        }
      ]
    },
    {
      "cell_type": "markdown",
      "metadata": {
        "id": "Co33XozbubFI",
        "colab_type": "text"
      },
      "source": [
        "Have a look to our generated examples"
      ]
    },
    {
      "cell_type": "code",
      "metadata": {
        "id": "SzKBgFQfyS6V",
        "colab_type": "code",
        "outputId": "94ac956d-f30a-43b5-b6db-3032d3703a9c",
        "colab": {
          "base_uri": "https://localhost:8080/",
          "height": 442
        }
      },
      "source": [
        "!tail -n 25 examples.txt"
      ],
      "execution_count": 45,
      "outputs": [
        {
          "output_type": "stream",
          "text": [
            "und filmt droptest aus 30 kilometern höhe im test: fast perfekte sport-kopfhörer unterstützt nun bild-in-bild-anzeige in den vordergrund\n",
            "================================================================================\n",
            "\n",
            "----- Generating text after Epoch: 49\n",
            "----- Diversity:0.3\n",
            "----- Generating with seed:\n",
            "\"gucci macht\"\n",
            "gucci macht euch zum schlecht gelaunten hund – das endlose das update auf android 6.0 marshmallow erscheint noch\n",
            "----- Diversity:0.4\n",
            "----- Generating with seed:\n",
            "\"gucci macht\"\n",
            "gucci macht euch zum schlecht gelaunten hund – das endlose das erste droptest-video ist da – noch mehr\n",
            "----- Diversity:0.5\n",
            "----- Generating with seed:\n",
            "\"gucci macht\"\n",
            "gucci macht euch zum schlecht gelaunten hund – das endlose das update auf android 5.1.1 für nexus und\n",
            "----- Diversity:0.6\n",
            "----- Generating with seed:\n",
            "\"gucci macht\"\n",
            "gucci macht euch zum schlecht gelaunten hund – aber ohne nintendo switch gerade so erfolgreich wie s5? in\n",
            "----- Diversity:0.7\n",
            "----- Generating with seed:\n",
            "\"gucci macht\"\n",
            "gucci macht euch zum schlecht gelaunten hund – das sind die neuen funktionen fürs iphone 6c: apple kauft\n",
            "================================================================================\n"
          ],
          "name": "stdout"
        }
      ]
    },
    {
      "cell_type": "markdown",
      "metadata": {
        "id": "rLQIc5aBuzNG",
        "colab_type": "text"
      },
      "source": [
        "### Generated model checkpoints"
      ]
    },
    {
      "cell_type": "code",
      "metadata": {
        "id": "qxoMS75t3_2f",
        "colab_type": "code",
        "outputId": "21a17686-7461-4e18-c7c3-45b3c393ee77",
        "colab": {
          "base_uri": "https://localhost:8080/",
          "height": 362
        }
      },
      "source": [
        "!ls -l checkpoints"
      ],
      "execution_count": 0,
      "outputs": [
        {
          "output_type": "stream",
          "text": [
            "total 3302504\n",
            "-rw-r--r-- 1 root root 177986520 May 14 07:24 lstm-text-gen-epoch001-words10654-sequence2-minfreq1-loss3.4183-acc0.5500-val_loss4.1722-val_acc0.5739\n",
            "-rw-r--r-- 1 root root 177986520 May 14 07:26 lstm-text-gen-epoch002-words10654-sequence2-minfreq1-loss2.5768-acc0.6009-val_loss2.5593-val_acc0.6146\n",
            "-rw-r--r-- 1 root root 177986520 May 14 07:27 lstm-text-gen-epoch003-words10654-sequence2-minfreq1-loss1.8062-acc0.6662-val_loss1.5938-val_acc0.7004\n",
            "-rw-r--r-- 1 root root 177986520 May 14 07:28 lstm-text-gen-epoch004-words10654-sequence2-minfreq1-loss1.1972-acc0.7471-val_loss1.0477-val_acc0.7872\n",
            "-rw-r--r-- 1 root root 177986520 May 14 07:29 lstm-text-gen-epoch005-words10654-sequence2-minfreq1-loss0.8463-acc0.8021-val_loss0.7990-val_acc0.8289\n",
            "-rw-r--r-- 1 root root 177986520 May 14 07:31 lstm-text-gen-epoch006-words10654-sequence2-minfreq1-loss0.6675-acc0.8312-val_loss0.6867-val_acc0.8547\n",
            "-rw-r--r-- 1 root root 177986520 May 14 07:32 lstm-text-gen-epoch007-words10654-sequence2-minfreq1-loss0.5890-acc0.8427-val_loss0.6251-val_acc0.8636\n",
            "-rw-r--r-- 1 root root 177986520 May 14 07:33 lstm-text-gen-epoch008-words10654-sequence2-minfreq1-loss0.5593-acc0.8461-val_loss0.5999-val_acc0.8666\n",
            "-rw-r--r-- 1 root root 177986520 May 14 07:34 lstm-text-gen-epoch009-words10654-sequence2-minfreq1-loss0.5514-acc0.8462-val_loss0.5548-val_acc0.8725\n",
            "-rw-r--r-- 1 root root 177986520 May 14 07:37 lstm-text-gen-epoch011-words10654-sequence2-minfreq1-loss0.5369-acc0.8457-val_loss0.4897-val_acc0.8775\n",
            "-rw-r--r-- 1 root root 177986520 May 14 07:38 lstm-text-gen-epoch012-words10654-sequence2-minfreq1-loss0.5307-acc0.8452-val_loss0.4579-val_acc0.8805\n",
            "-rw-r--r-- 1 root root 177986520 May 14 07:42 lstm-text-gen-epoch015-words10654-sequence2-minfreq1-loss0.5055-acc0.8460-val_loss0.4343-val_acc0.8819\n",
            "-rw-r--r-- 1 root root 177986520 May 14 07:50 lstm-text-gen-epoch021-words10654-sequence2-minfreq1-loss0.4742-acc0.8464-val_loss0.4107-val_acc0.8824\n",
            "-rw-r--r-- 1 root root 177986520 May 14 07:53 lstm-text-gen-epoch024-words10654-sequence2-minfreq1-loss0.4661-acc0.8461-val_loss0.3992-val_acc0.8834\n",
            "-rw-r--r-- 1 root root 177986520 May 14 07:56 lstm-text-gen-epoch026-words10654-sequence2-minfreq1-loss0.4594-acc0.8465-val_loss0.3986-val_acc0.8849\n",
            "-rw-r--r-- 1 root root 177986520 May 14 07:57 lstm-text-gen-epoch027-words10654-sequence2-minfreq1-loss0.4567-acc0.8467-val_loss0.3950-val_acc0.8854\n",
            "-rw-r--r-- 1 root root 177986520 May 14 08:00 lstm-text-gen-epoch029-words10654-sequence2-minfreq1-loss0.4516-acc0.8468-val_loss0.3839-val_acc0.8859\n",
            "-rw-r--r-- 1 root root 177986520 May 14 08:02 lstm-text-gen-epoch031-words10654-sequence2-minfreq1-loss0.4496-acc0.8471-val_loss0.3825-val_acc0.8864\n",
            "-rw-r--r-- 1 root root 177986520 May 14 08:05 lstm-text-gen-epoch033-words10654-sequence2-minfreq1-loss0.4465-acc0.8471-val_loss0.3748-val_acc0.8899\n"
          ],
          "name": "stdout"
        }
      ]
    },
    {
      "cell_type": "markdown",
      "metadata": {
        "id": "bUZpmbIcu6N1",
        "colab_type": "text"
      },
      "source": [
        "### Download and store the model and the weights locally"
      ]
    },
    {
      "cell_type": "code",
      "metadata": {
        "id": "SfWr1anLyAg5",
        "colab_type": "code",
        "colab": {}
      },
      "source": [
        "from google.colab import files\n",
        "model_json = model.to_json()\n",
        "with open(\"lstm-text-gen_acc88.json\", \"w\") as json_file:\n",
        "    json_file.write(model_json)"
      ],
      "execution_count": 0,
      "outputs": []
    },
    {
      "cell_type": "code",
      "metadata": {
        "id": "enKRdHdR4Xxe",
        "colab_type": "code",
        "colab": {}
      },
      "source": [
        "files.download(\"lstm-text-gen_acc88.json\")"
      ],
      "execution_count": 0,
      "outputs": []
    },
    {
      "cell_type": "code",
      "metadata": {
        "id": "cqqJ2N8Z4ceO",
        "colab_type": "code",
        "outputId": "24ffa86d-86de-411c-e5e3-aaa9b4dbaace",
        "colab": {
          "base_uri": "https://localhost:8080/",
          "height": 33
        }
      },
      "source": [
        "model.save_weights(\"lstm-text-gen_model.h5\")\n",
        "print(\"Saved model to disk\")"
      ],
      "execution_count": 0,
      "outputs": [
        {
          "output_type": "stream",
          "text": [
            "Saved model to disk\n"
          ],
          "name": "stdout"
        }
      ]
    },
    {
      "cell_type": "code",
      "metadata": {
        "id": "1ITqacKp4vUO",
        "colab_type": "code",
        "outputId": "4da18a99-3fdc-4cce-9ba7-0f1458874dc7",
        "colab": {
          "base_uri": "https://localhost:8080/",
          "height": 115
        }
      },
      "source": [
        "!ls -lh"
      ],
      "execution_count": 0,
      "outputs": [
        {
          "output_type": "stream",
          "text": [
            "total 57M\n",
            "drwxr-xr-x 2 root root 4.0K May 14 08:05 checkpoints\n",
            "-rw-r--r-- 1 root root  50K May 14 08:26 examples.txt\n",
            "-rw-r--r-- 1 root root 2.1K May 14 08:28 lstm-text-gen_acc88.json\n",
            "-rw-r--r-- 1 root root  57M May 14 08:29 lstm-text-gen_model.h5\n",
            "drwxr-xr-x 1 root root 4.0K May  8 16:22 sample_data\n"
          ],
          "name": "stdout"
        }
      ]
    },
    {
      "cell_type": "code",
      "metadata": {
        "id": "Di0_gQoK4ipu",
        "colab_type": "code",
        "colab": {}
      },
      "source": [
        "files.download('lstm-text-gen_model.h5')"
      ],
      "execution_count": 0,
      "outputs": []
    },
    {
      "cell_type": "code",
      "metadata": {
        "id": "Y9DD63DjHIj4",
        "colab_type": "code",
        "colab": {}
      },
      "source": [
        "files.download(\"examples.txt\")"
      ],
      "execution_count": 0,
      "outputs": []
    },
    {
      "cell_type": "markdown",
      "metadata": {
        "id": "x2pMmh-BvABL",
        "colab_type": "text"
      },
      "source": [
        "### Helper function to generate a sample text\n",
        "\n",
        "Used to generate text using a trained model\n",
        "\n",
        "* model: the trained Keras model (with model.load)\n",
        "* __indices_word__: a dictionary pointing to the words\n",
        "* __seed__: a string to be used as seed (already validated and padded)\n",
        "    :param sequence_length: how many words are given to the model to generate\n",
        "    :param diversity: is the \"temperature\" of the sample function (usually between 0.1 and 2)\n",
        "    :param quantity: quantity of words to generate\n",
        "    :return: Nothing, for now only writes the text to console\n",
        "    \"\"\""
      ]
    },
    {
      "cell_type": "code",
      "metadata": {
        "id": "0jHwkJS-52i-",
        "colab_type": "code",
        "colab": {}
      },
      "source": [
        "def generate_text(model, indices_word, word_indices, seed,\n",
        "                  sequence_length, diversity, quantity):\n",
        "    sentence = seed.split(\" \")\n",
        "    print(\"----- Generating text\")\n",
        "    print('----- Diversity:' + str(diversity))\n",
        "    print('----- Generating with seed:\"' + seed +'\"')\n",
        "\n",
        "    print(seed)\n",
        "    for i in range(quantity):\n",
        "        x_pred = np.zeros((1, sequence_length))\n",
        "        for t, word in enumerate(sentence):\n",
        "            x_pred[0, t] = word_indices[word]\n",
        "\n",
        "        preds = model.predict(x_pred, verbose=0)[0]\n",
        "   \n",
        "        next_index = sample(preds, diversity)\n",
        "        next_word = indices_word[next_index]\n",
        "\n",
        "        sentence = sentence[1:]\n",
        "        sentence.append(next_word)\n",
        "\n",
        "        print(\" \"+next_word, end=\"\")\n",
        "\n"
      ],
      "execution_count": 0,
      "outputs": []
    },
    {
      "cell_type": "code",
      "metadata": {
        "id": "FUeQEpvBIu07",
        "colab_type": "code",
        "outputId": "078867f4-8be6-4370-952e-1a6a3a0cff4e",
        "colab": {
          "base_uri": "https://localhost:8080/",
          "height": 102
        }
      },
      "source": [
        "generate_text(model, indices_word, word_indices, \"neues samsung\", 2, 0.5, 10)"
      ],
      "execution_count": 51,
      "outputs": [
        {
          "output_type": "stream",
          "text": [
            "----- Generating text\n",
            "----- Diversity:0.5\n",
            "----- Generating with seed:\"neues samsung\"\n",
            "neues samsung\n",
            " galaxy note 9 und bixby 2.0 sollen gleichzeitig erscheinen –"
          ],
          "name": "stdout"
        }
      ]
    },
    {
      "cell_type": "code",
      "metadata": {
        "id": "XllBagLfd5NA",
        "colab_type": "code",
        "outputId": "08d0ee90-143c-47b2-de1f-74578942b255",
        "colab": {
          "base_uri": "https://localhost:8080/",
          "height": 102
        }
      },
      "source": [
        "generate_text(model, indices_word, word_indices, \"neues ipad\", 2, 0.5, 10)"
      ],
      "execution_count": 52,
      "outputs": [
        {
          "output_type": "stream",
          "text": [
            "----- Generating text\n",
            "----- Diversity:0.5\n",
            "----- Generating with seed:\"neues ipad\"\n",
            "neues ipad\n",
            " air 2 und charge 2 offiziell vor der masque attack"
          ],
          "name": "stdout"
        }
      ]
    },
    {
      "cell_type": "code",
      "metadata": {
        "id": "tPTQ8g5Jepsu",
        "colab_type": "code",
        "outputId": "ee0a042d-5c53-4bf5-975d-87b447befc9e",
        "colab": {
          "base_uri": "https://localhost:8080/",
          "height": 102
        }
      },
      "source": [
        "generate_text(model, indices_word, word_indices, \"playstation vr\", 2, 0.2, 5)"
      ],
      "execution_count": 53,
      "outputs": [
        {
          "output_type": "stream",
          "text": [
            "----- Generating text\n",
            "----- Diversity:0.2\n",
            "----- Generating with seed:\"playstation vr\"\n",
            "playstation vr\n",
            " erscheint am 16. mai ausgeliefert"
          ],
          "name": "stdout"
        }
      ]
    }
  ]
}