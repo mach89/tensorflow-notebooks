{
  "nbformat": 4,
  "nbformat_minor": 0,
  "metadata": {
    "colab": {
      "name": "lstm-text-generator.ipynb",
      "version": "0.3.2",
      "provenance": [],
      "include_colab_link": true
    },
    "kernelspec": {
      "name": "python3",
      "display_name": "Python 3"
    },
    "accelerator": "GPU"
  },
  "cells": [
    {
      "cell_type": "markdown",
      "metadata": {
        "id": "view-in-github",
        "colab_type": "text"
      },
      "source": [
        "<a href=\"https://colab.research.google.com/github/rawar/tensorflow-notebooks/blob/master/lstm_text_generator.ipynb\" target=\"_parent\"><img src=\"https://colab.research.google.com/assets/colab-badge.svg\" alt=\"Open In Colab\"/></a>"
      ]
    },
    {
      "cell_type": "markdown",
      "metadata": {
        "id": "6OYiIvNaLpaQ",
        "colab_type": "text"
      },
      "source": [
        "## Textgenerator based on news\n",
        "\n",
        "Based on Enriques work of an [Word-level LSTM text generator](https://medium.com/coinmonks/word-level-lstm-text-generator-creating-automatic-song-lyrics-with-neural-networks-b8a1617104fb)"
      ]
    },
    {
      "cell_type": "code",
      "metadata": {
        "id": "fAfKbq7RLj5a",
        "colab_type": "code",
        "outputId": "80e3bdb4-fba6-4235-ba90-b5a2afacdb54",
        "colab": {
          "base_uri": "https://localhost:8080/",
          "height": 671
        }
      },
      "source": [
        "!pip install tf-nightly-gpu"
      ],
      "execution_count": 1,
      "outputs": [
        {
          "output_type": "stream",
          "text": [
            "Collecting tf-nightly-gpu\n",
            "\u001b[?25l  Downloading https://files.pythonhosted.org/packages/95/20/ee945eee2f2f79f300c6d9e3935933d1531201c3bf45d95279ab4ada856a/tf_nightly_gpu-1.14.1.dev20190513-cp36-cp36m-manylinux1_x86_64.whl (375.3MB)\n",
            "\u001b[K     |████████████████████████████████| 375.3MB 51kB/s \n",
            "\u001b[?25hCollecting tf-estimator-nightly (from tf-nightly-gpu)\n",
            "\u001b[?25l  Downloading https://files.pythonhosted.org/packages/5d/af/0541276f61e411809acf59f53b94de5369b0c03db9fdd0c72db7df0d1530/tf_estimator_nightly-1.14.0.dev2019051301-py2.py3-none-any.whl (487kB)\n",
            "\u001b[K     |████████████████████████████████| 491kB 38.1MB/s \n",
            "\u001b[?25hCollecting wrapt>=1.11.1 (from tf-nightly-gpu)\n",
            "  Downloading https://files.pythonhosted.org/packages/67/b2/0f71ca90b0ade7fad27e3d20327c996c6252a2ffe88f50a95bba7434eda9/wrapt-1.11.1.tar.gz\n",
            "Requirement already satisfied: grpcio>=1.8.6 in /usr/local/lib/python3.6/dist-packages (from tf-nightly-gpu) (1.15.0)\n",
            "Requirement already satisfied: absl-py>=0.7.0 in /usr/local/lib/python3.6/dist-packages (from tf-nightly-gpu) (0.7.1)\n",
            "Requirement already satisfied: six>=1.10.0 in /usr/local/lib/python3.6/dist-packages (from tf-nightly-gpu) (1.12.0)\n",
            "Collecting google-pasta>=0.1.6 (from tf-nightly-gpu)\n",
            "\u001b[?25l  Downloading https://files.pythonhosted.org/packages/f9/68/a14620bfb042691f532dcde8576ff82ee82e4c003cdc0a3dbee5f289cee6/google_pasta-0.1.6-py3-none-any.whl (51kB)\n",
            "\u001b[K     |████████████████████████████████| 61kB 20.0MB/s \n",
            "\u001b[?25hRequirement already satisfied: keras-preprocessing>=1.0.5 in /usr/local/lib/python3.6/dist-packages (from tf-nightly-gpu) (1.0.9)\n",
            "Requirement already satisfied: termcolor>=1.1.0 in /usr/local/lib/python3.6/dist-packages (from tf-nightly-gpu) (1.1.0)\n",
            "Collecting tb-nightly<1.15.0a0,>=1.14.0a0 (from tf-nightly-gpu)\n",
            "\u001b[?25l  Downloading https://files.pythonhosted.org/packages/8c/6c/759f28c7b26ea155b9928cde0623fde7f8d7b09a31fb4a3962e92bcce3d8/tb_nightly-1.14.0a20190513-py3-none-any.whl (3.1MB)\n",
            "\u001b[K     |████████████████████████████████| 3.1MB 22.6MB/s \n",
            "\u001b[?25hRequirement already satisfied: gast>=0.2.0 in /usr/local/lib/python3.6/dist-packages (from tf-nightly-gpu) (0.2.2)\n",
            "Requirement already satisfied: keras-applications>=1.0.6 in /usr/local/lib/python3.6/dist-packages (from tf-nightly-gpu) (1.0.7)\n",
            "Requirement already satisfied: numpy<2.0,>=1.14.5 in /usr/local/lib/python3.6/dist-packages (from tf-nightly-gpu) (1.16.3)\n",
            "Requirement already satisfied: astor>=0.6.0 in /usr/local/lib/python3.6/dist-packages (from tf-nightly-gpu) (0.7.1)\n",
            "Requirement already satisfied: wheel>=0.26 in /usr/local/lib/python3.6/dist-packages (from tf-nightly-gpu) (0.33.2)\n",
            "Requirement already satisfied: protobuf>=3.6.1 in /usr/local/lib/python3.6/dist-packages (from tf-nightly-gpu) (3.7.1)\n",
            "Requirement already satisfied: werkzeug>=0.11.15 in /usr/local/lib/python3.6/dist-packages (from tb-nightly<1.15.0a0,>=1.14.0a0->tf-nightly-gpu) (0.15.2)\n",
            "Requirement already satisfied: markdown>=2.6.8 in /usr/local/lib/python3.6/dist-packages (from tb-nightly<1.15.0a0,>=1.14.0a0->tf-nightly-gpu) (3.1)\n",
            "Requirement already satisfied: h5py in /usr/local/lib/python3.6/dist-packages (from keras-applications>=1.0.6->tf-nightly-gpu) (2.8.0)\n",
            "Requirement already satisfied: setuptools in /usr/local/lib/python3.6/dist-packages (from protobuf>=3.6.1->tf-nightly-gpu) (41.0.1)\n",
            "Building wheels for collected packages: wrapt\n",
            "  Building wheel for wrapt (setup.py) ... \u001b[?25l\u001b[?25hdone\n",
            "  Stored in directory: /root/.cache/pip/wheels/89/67/41/63cbf0f6ac0a6156588b9587be4db5565f8c6d8ccef98202fc\n",
            "Successfully built wrapt\n",
            "\u001b[31mERROR: thinc 6.12.1 has requirement wrapt<1.11.0,>=1.10.0, but you'll have wrapt 1.11.1 which is incompatible.\u001b[0m\n",
            "Installing collected packages: tf-estimator-nightly, wrapt, google-pasta, tb-nightly, tf-nightly-gpu\n",
            "  Found existing installation: wrapt 1.10.11\n",
            "    Uninstalling wrapt-1.10.11:\n",
            "      Successfully uninstalled wrapt-1.10.11\n",
            "Successfully installed google-pasta-0.1.6 tb-nightly-1.14.0a20190513 tf-estimator-nightly-1.14.0.dev2019051301 tf-nightly-gpu-1.14.1.dev20190513 wrapt-1.11.1\n"
          ],
          "name": "stdout"
        }
      ]
    },
    {
      "cell_type": "code",
      "metadata": {
        "id": "QGDnESfOL59u",
        "colab_type": "code",
        "colab": {}
      },
      "source": [
        "import numpy as np\n",
        "import matplotlib.pyplot as plt\n",
        "import pandas as pd\n",
        "import tensorflow as tf"
      ],
      "execution_count": 0,
      "outputs": []
    },
    {
      "cell_type": "code",
      "metadata": {
        "id": "8KV-7cgQL9cC",
        "colab_type": "code",
        "colab": {}
      },
      "source": [
        "url = 'https://gist.githubusercontent.com/rawar/ae4cce269e29c2826163fbca60b544f4/raw/20594a832b44de4b4a5160fb2732399ba09a70e9/reco-content-data.csv'\n",
        "text_corpus = pd.read_csv(url)"
      ],
      "execution_count": 0,
      "outputs": []
    },
    {
      "cell_type": "code",
      "metadata": {
        "id": "isKcV3P-N1_M",
        "colab_type": "code",
        "outputId": "85a12e7b-2e48-4928-b819-b5c08e4c29df",
        "colab": {
          "base_uri": "https://localhost:8080/",
          "height": 115
        }
      },
      "source": [
        "headlines_data_frame = text_corpus['title']\n",
        "headlines_data_frame = headlines_data_frame.dropna()\n",
        "headlines_data_frame.head()"
      ],
      "execution_count": 4,
      "outputs": [
        {
          "output_type": "execute_result",
          "data": {
            "text/plain": [
              "0                             Google verkauft Motorola\n",
              "1    Touchscreen im Winter: Handy-Handschuhe selber...\n",
              "2    \\Bei WhatsApp als Kontakt blockiert: So merkt ...\n",
              "3    Paper: Facebook stellt neue App im Flipboard-S...\n",
              "4               WhatsApp: mehr Privatsphäre für Nutzer\n",
              "Name: title, dtype: object"
            ]
          },
          "metadata": {
            "tags": []
          },
          "execution_count": 4
        }
      ]
    },
    {
      "cell_type": "code",
      "metadata": {
        "id": "HjoBmqq6ObR2",
        "colab_type": "code",
        "outputId": "1e0cf48f-8b58-43d6-ecc7-04528af43fde",
        "colab": {
          "base_uri": "https://localhost:8080/",
          "height": 33
        }
      },
      "source": [
        "text_in_words = headlines_data_frame.str.split(' ').tolist()\n",
        "print('Number of sentences:', len(text_in_words))"
      ],
      "execution_count": 5,
      "outputs": [
        {
          "output_type": "stream",
          "text": [
            "Number of sentences: 15751\n"
          ],
          "name": "stdout"
        }
      ]
    },
    {
      "cell_type": "code",
      "metadata": {
        "id": "w2SedEtPRKn1",
        "colab_type": "code",
        "outputId": "c9a2b27a-a96e-4aa4-d066-b65bc9a4ecb5",
        "colab": {
          "base_uri": "https://localhost:8080/",
          "height": 33
        }
      },
      "source": [
        "print(text_in_words[15749:15750])"
      ],
      "execution_count": 6,
      "outputs": [
        {
          "output_type": "stream",
          "text": [
            "[['Fatburner-Training:', 'Diese', 'Übungen', 'sind', 'für', 'Männer']]\n"
          ],
          "name": "stdout"
        }
      ]
    },
    {
      "cell_type": "code",
      "metadata": {
        "id": "S-ahG-H7WWEy",
        "colab_type": "code",
        "outputId": "2b417b2c-1292-4f65-9791-3e4a463150e8",
        "colab": {
          "base_uri": "https://localhost:8080/",
          "height": 33
        }
      },
      "source": [
        "MAX_WORDS_PER_HEADLINE = 5\n",
        "for example in text_in_words:\n",
        "  new_max = len(example)\n",
        "  if new_max > MAX_WORDS_PER_HEADLINE:\n",
        "    MAX_WORDS_PER_HEADLINE = new_max\n",
        "    \n",
        "print(MAX_WORDS_PER_HEADLINE)"
      ],
      "execution_count": 7,
      "outputs": [
        {
          "output_type": "stream",
          "text": [
            "16\n"
          ],
          "name": "stdout"
        }
      ]
    },
    {
      "cell_type": "code",
      "metadata": {
        "id": "spfLX9jrptps",
        "colab_type": "code",
        "colab": {}
      },
      "source": [
        "words = set()\n",
        "for sentence in text_in_words:\n",
        "  for word in sentence:\n",
        "    words.add(word)"
      ],
      "execution_count": 0,
      "outputs": []
    },
    {
      "cell_type": "code",
      "metadata": {
        "id": "n0FZGXikqDdg",
        "colab_type": "code",
        "outputId": "58774eda-8f1c-4d8c-ae20-e340fddea81b",
        "colab": {
          "base_uri": "https://localhost:8080/",
          "height": 33
        }
      },
      "source": [
        "len(words)"
      ],
      "execution_count": 9,
      "outputs": [
        {
          "output_type": "execute_result",
          "data": {
            "text/plain": [
              "10654"
            ]
          },
          "metadata": {
            "tags": []
          },
          "execution_count": 9
        }
      ]
    },
    {
      "cell_type": "code",
      "metadata": {
        "id": "HktnI8lEszSd",
        "colab_type": "code",
        "colab": {}
      },
      "source": [
        "word_indices = dict((c, i) for i, c in enumerate(words))\n",
        "indices_word = dict((i, c) for i, c in enumerate(words))"
      ],
      "execution_count": 0,
      "outputs": []
    },
    {
      "cell_type": "code",
      "metadata": {
        "id": "IwSVSVf6W2rI",
        "colab_type": "code",
        "colab": {}
      },
      "source": [
        "SEQUENCE_LEN = 2\n",
        "MIN_WORD_FREQUENCY = 1\n",
        "STEP = 1\n",
        "BATCH_SIZE = 32\n",
        "EPOCHS = 50"
      ],
      "execution_count": 0,
      "outputs": []
    },
    {
      "cell_type": "code",
      "metadata": {
        "id": "TFcXCVdfeULj",
        "colab_type": "code",
        "colab": {}
      },
      "source": [
        "sentences = []\n",
        "next_words = []\n",
        "ignored = 0\n",
        "for sentence in text_in_words:\n",
        "  for i in range(0, len(sentence) - SEQUENCE_LEN, STEP):\n",
        "    sentences.append(sentence[i:i + SEQUENCE_LEN])\n",
        "    next_words.append(sentence[i + SEQUENCE_LEN])"
      ],
      "execution_count": 0,
      "outputs": []
    },
    {
      "cell_type": "code",
      "metadata": {
        "id": "bpV0b6qlgIGA",
        "colab_type": "code",
        "colab": {}
      },
      "source": [
        "#print(sentences[0])"
      ],
      "execution_count": 0,
      "outputs": []
    },
    {
      "cell_type": "code",
      "metadata": {
        "id": "vCA78RmVhIza",
        "colab_type": "code",
        "colab": {}
      },
      "source": [
        "#print(next_words[0])"
      ],
      "execution_count": 0,
      "outputs": []
    },
    {
      "cell_type": "code",
      "metadata": {
        "id": "QkJgWu4Mggsx",
        "colab_type": "code",
        "colab": {}
      },
      "source": [
        "#print(sentences[2])"
      ],
      "execution_count": 0,
      "outputs": []
    },
    {
      "cell_type": "code",
      "metadata": {
        "id": "69Y8tXc7gm3L",
        "colab_type": "code",
        "colab": {}
      },
      "source": [
        "#print(next_words[2])"
      ],
      "execution_count": 0,
      "outputs": []
    },
    {
      "cell_type": "code",
      "metadata": {
        "id": "iE5wwTTLXsT1",
        "colab_type": "code",
        "colab": {}
      },
      "source": [
        "def shuffle_and_split_training_set(sentences_original, next_original, percentage_test=2):\n",
        "    # shuffle at unison\n",
        "    print('Shuffling sentences')\n",
        "\n",
        "    tmp_sentences = []\n",
        "    tmp_next_word = []\n",
        "    for i in np.random.permutation(len(sentences_original)):\n",
        "        tmp_sentences.append(sentences_original[i])\n",
        "        tmp_next_word.append(next_original[i])\n",
        "\n",
        "    cut_index = int(len(sentences_original) * (1.-(percentage_test/100.)))\n",
        "    x_train, x_test = tmp_sentences[:cut_index], tmp_sentences[cut_index:]\n",
        "    y_train, y_test = tmp_next_word[:cut_index], tmp_next_word[cut_index:]\n",
        "\n",
        "    print(\"Size of training set = %d\" % len(x_train))\n",
        "    print(\"Size of test set = %d\" % len(y_test))\n",
        "    return (x_train, y_train), (x_test, y_test)"
      ],
      "execution_count": 0,
      "outputs": []
    },
    {
      "cell_type": "code",
      "metadata": {
        "id": "G57ukcEakHaY",
        "colab_type": "code",
        "outputId": "e9a9bfe6-6624-408d-ca0f-815f9254816c",
        "colab": {
          "base_uri": "https://localhost:8080/",
          "height": 66
        }
      },
      "source": [
        "(sentences_train, next_words_train), (sentences_test, next_words_test) = shuffle_and_split_training_set(sentences, next_words)"
      ],
      "execution_count": 14,
      "outputs": [
        {
          "output_type": "stream",
          "text": [
            "Shuffling sentences\n",
            "Size of training set = 98214\n",
            "Size of test set = 2005\n"
          ],
          "name": "stdout"
        }
      ]
    },
    {
      "cell_type": "code",
      "metadata": {
        "id": "wQUYiObqlsN0",
        "colab_type": "code",
        "outputId": "0c900a35-b74b-4faa-8b45-c5c99e89985d",
        "colab": {
          "base_uri": "https://localhost:8080/",
          "height": 297
        }
      },
      "source": [
        "model = tf.keras.models.Sequential([\n",
        "    tf.keras.layers.Embedding(input_dim=len(words), output_dim=1024),\n",
        "    tf.keras.layers.Bidirectional(tf.keras.layers.LSTM(units=128), ),\n",
        "    #tf.keras.layers.Dropout(0.2),\n",
        "    tf.keras.layers.Dense(len(words), activation='softmax')\n",
        "])"
      ],
      "execution_count": 15,
      "outputs": [
        {
          "output_type": "stream",
          "text": [
            "WARNING: Logging before flag parsing goes to stderr.\n",
            "W0514 07:21:37.846201 139749283821440 deprecation.py:506] From /usr/local/lib/python3.6/dist-packages/tensorflow/python/keras/initializers.py:119: calling RandomUniform.__init__ (from tensorflow.python.ops.init_ops) with dtype is deprecated and will be removed in a future version.\n",
            "Instructions for updating:\n",
            "Call initializer instance with the dtype argument instead of passing it to the constructor\n",
            "W0514 07:21:37.851542 139749283821440 deprecation.py:506] From /usr/local/lib/python3.6/dist-packages/tensorflow/python/ops/init_ops.py:1251: calling VarianceScaling.__init__ (from tensorflow.python.ops.init_ops) with dtype is deprecated and will be removed in a future version.\n",
            "Instructions for updating:\n",
            "Call initializer instance with the dtype argument instead of passing it to the constructor\n",
            "W0514 07:21:37.866366 139749283821440 deprecation.py:506] From /usr/local/lib/python3.6/dist-packages/tensorflow/python/ops/init_ops.py:97: calling GlorotUniform.__init__ (from tensorflow.python.ops.init_ops) with dtype is deprecated and will be removed in a future version.\n",
            "Instructions for updating:\n",
            "Call initializer instance with the dtype argument instead of passing it to the constructor\n",
            "W0514 07:21:37.867712 139749283821440 deprecation.py:506] From /usr/local/lib/python3.6/dist-packages/tensorflow/python/ops/init_ops.py:97: calling Orthogonal.__init__ (from tensorflow.python.ops.init_ops) with dtype is deprecated and will be removed in a future version.\n",
            "Instructions for updating:\n",
            "Call initializer instance with the dtype argument instead of passing it to the constructor\n",
            "W0514 07:21:37.869688 139749283821440 deprecation.py:506] From /usr/local/lib/python3.6/dist-packages/tensorflow/python/ops/init_ops.py:97: calling Zeros.__init__ (from tensorflow.python.ops.init_ops) with dtype is deprecated and will be removed in a future version.\n",
            "Instructions for updating:\n",
            "Call initializer instance with the dtype argument instead of passing it to the constructor\n"
          ],
          "name": "stderr"
        }
      ]
    },
    {
      "cell_type": "code",
      "metadata": {
        "id": "M8KqMMscqgXW",
        "colab_type": "code",
        "colab": {}
      },
      "source": [
        "def generator(sentence_list, next_word_list, batch_size):\n",
        "    index = 0\n",
        "    while True:\n",
        "        x = np.zeros((batch_size, SEQUENCE_LEN), dtype=np.int32)\n",
        "        y = np.zeros((batch_size), dtype=np.int32)\n",
        "        for i in range(batch_size):\n",
        "            for t, w in enumerate(sentence_list[index % len(sentence_list)]):\n",
        "                x[i, t] = word_indices[w]\n",
        "            y[i] = word_indices[next_word_list[index % len(sentence_list)]]\n",
        "            index = index + 1\n",
        "        yield x, y"
      ],
      "execution_count": 0,
      "outputs": []
    },
    {
      "cell_type": "code",
      "metadata": {
        "id": "dvN-MvovrFep",
        "colab_type": "code",
        "colab": {}
      },
      "source": [
        "#optimizer = tf.keras.optimizers.RMSprop(lr=0.01)\n",
        "#model.compile(loss='categorical_crossentropy', optimizer=optimizer)\n",
        "model.compile(loss='sparse_categorical_crossentropy', optimizer=\"adam\", metrics=['accuracy'])"
      ],
      "execution_count": 0,
      "outputs": []
    },
    {
      "cell_type": "code",
      "metadata": {
        "id": "xP3ek5GpsaxR",
        "colab_type": "code",
        "colab": {}
      },
      "source": [
        "!mkdir checkpoints"
      ],
      "execution_count": 0,
      "outputs": []
    },
    {
      "cell_type": "code",
      "metadata": {
        "id": "dkogyqHsrP69",
        "colab_type": "code",
        "colab": {}
      },
      "source": [
        "file_path = \"./checkpoints/lstm-text-gen-epoch{epoch:03d}-words%d-sequence%d-minfreq%d-\" \\\n",
        "                \"loss{loss:.4f}-acc{acc:.4f}-val_loss{val_loss:.4f}-val_acc{val_acc:.4f}\" % \\\n",
        "                (len(words), SEQUENCE_LEN, MIN_WORD_FREQUENCY)"
      ],
      "execution_count": 0,
      "outputs": []
    },
    {
      "cell_type": "code",
      "metadata": {
        "id": "fBpA9iQjt1vq",
        "colab_type": "code",
        "colab": {}
      },
      "source": [
        "def sample(preds, temperature=1.0):\n",
        "    # helper function to sample an index from a probability array\n",
        "    preds = np.asarray(preds).astype('float64')\n",
        "    preds = np.log(preds) / temperature\n",
        "    exp_preds = np.exp(preds)\n",
        "    preds = exp_preds / np.sum(exp_preds)\n",
        "    probas = np.random.multinomial(1, preds, 1)\n",
        "    return np.argmax(probas)"
      ],
      "execution_count": 0,
      "outputs": []
    },
    {
      "cell_type": "code",
      "metadata": {
        "id": "G2wXHE9qrWx3",
        "colab_type": "code",
        "colab": {}
      },
      "source": [
        "def on_epoch_end(epoch, logs):\n",
        "    # Function invoked at end of each epoch. Prints generated text.\n",
        "    examples_file.write('\\n----- Generating text after Epoch: %d\\n' % epoch)\n",
        "\n",
        "    # Randomly pick a seed sequence\n",
        "    seed_index = np.random.randint(len(sentences+sentences_test))\n",
        "    seed = (sentences+sentences_test)[seed_index]\n",
        "\n",
        "    for diversity in [0.3, 0.4, 0.5, 0.6, 0.7]:\n",
        "        sentence = seed\n",
        "        examples_file.write('----- Diversity:' + str(diversity) + '\\n')\n",
        "        examples_file.write('----- Generating with seed:\\n\"' + ' '.join(sentence) + '\"\\n')\n",
        "        examples_file.write(' '.join(sentence))\n",
        "\n",
        "        for i in range(MAX_WORDS_PER_HEADLINE):\n",
        "            x_pred = np.zeros((1, SEQUENCE_LEN))\n",
        "            for t, word in enumerate(sentence):\n",
        "                x_pred[0, t] = word_indices[word]\n",
        "\n",
        "            preds = model.predict(x_pred, verbose=0)[0]\n",
        "            next_index = sample(preds, diversity)\n",
        "            next_word = indices_word[next_index]\n",
        "\n",
        "            sentence = sentence[1:]\n",
        "            sentence.append(next_word)\n",
        "\n",
        "            examples_file.write(\" \"+next_word)\n",
        "        examples_file.write('\\n')\n",
        "    examples_file.write('='*80 + '\\n')\n",
        "    examples_file.flush()\n"
      ],
      "execution_count": 0,
      "outputs": []
    },
    {
      "cell_type": "code",
      "metadata": {
        "id": "t3EW8J5jreRl",
        "colab_type": "code",
        "colab": {}
      },
      "source": [
        "checkpoint = tf.keras.callbacks.ModelCheckpoint(file_path, monitor='val_acc', save_best_only=True)\n",
        "print_callback = tf.keras.callbacks.LambdaCallback(on_epoch_end=on_epoch_end)\n",
        "early_stopping = tf.keras.callbacks.EarlyStopping(monitor='val_acc', patience=20)\n",
        "callbacks_list = [checkpoint, print_callback, early_stopping]"
      ],
      "execution_count": 0,
      "outputs": []
    },
    {
      "cell_type": "code",
      "metadata": {
        "id": "uWiB4lP_tZ8F",
        "colab_type": "code",
        "colab": {}
      },
      "source": [
        "examples_file = open('examples.txt', \"w\")"
      ],
      "execution_count": 0,
      "outputs": []
    },
    {
      "cell_type": "code",
      "metadata": {
        "id": "GjRNhXT9r0jp",
        "colab_type": "code",
        "outputId": "c52781c9-b991-4b2a-8c70-fce626400ba3",
        "colab": {
          "base_uri": "https://localhost:8080/",
          "height": 1642
        }
      },
      "source": [
        "history = model.fit_generator(generator(sentences, next_words, BATCH_SIZE),\n",
        "                    steps_per_epoch=int(len(sentences)/BATCH_SIZE) + 1,\n",
        "                    epochs=EPOCHS,\n",
        "                    callbacks=callbacks_list,\n",
        "                    validation_data=generator(sentences_test, next_words_test, BATCH_SIZE),\n",
        "                    validation_steps=int(len(sentences_test)/BATCH_SIZE) + 1)"
      ],
      "execution_count": 27,
      "outputs": [
        {
          "output_type": "stream",
          "text": [
            "Epoch 1/50\n",
            "3132/3132 [==============================] - 81s 26ms/step - loss: 3.4183 - acc: 0.5500 - val_loss: 4.1722 - val_acc: 0.5739\n",
            "Epoch 2/50\n",
            "3132/3132 [==============================] - 76s 24ms/step - loss: 2.5768 - acc: 0.6009 - val_loss: 2.5593 - val_acc: 0.6146\n",
            "Epoch 3/50\n",
            "3132/3132 [==============================] - 76s 24ms/step - loss: 1.8062 - acc: 0.6662 - val_loss: 1.5938 - val_acc: 0.7004\n",
            "Epoch 4/50\n",
            "3132/3132 [==============================] - 77s 24ms/step - loss: 1.1972 - acc: 0.7471 - val_loss: 1.0477 - val_acc: 0.7872\n",
            "Epoch 5/50\n",
            "3132/3132 [==============================] - 76s 24ms/step - loss: 0.8463 - acc: 0.8021 - val_loss: 0.7990 - val_acc: 0.8289\n",
            "Epoch 6/50\n",
            "3132/3132 [==============================] - 76s 24ms/step - loss: 0.6675 - acc: 0.8312 - val_loss: 0.6867 - val_acc: 0.8547\n",
            "Epoch 7/50\n",
            "3132/3132 [==============================] - 76s 24ms/step - loss: 0.5890 - acc: 0.8427 - val_loss: 0.6251 - val_acc: 0.8636\n",
            "Epoch 8/50\n",
            "3132/3132 [==============================] - 76s 24ms/step - loss: 0.5593 - acc: 0.8461 - val_loss: 0.5999 - val_acc: 0.8666\n",
            "Epoch 9/50\n",
            "3132/3132 [==============================] - 76s 24ms/step - loss: 0.5514 - acc: 0.8462 - val_loss: 0.5548 - val_acc: 0.8725\n",
            "Epoch 10/50\n",
            "3132/3132 [==============================] - 76s 24ms/step - loss: 0.5446 - acc: 0.8466 - val_loss: 0.5256 - val_acc: 0.8700\n",
            "Epoch 11/50\n",
            "3132/3132 [==============================] - 76s 24ms/step - loss: 0.5369 - acc: 0.8457 - val_loss: 0.4897 - val_acc: 0.8775\n",
            "Epoch 12/50\n",
            "3132/3132 [==============================] - 76s 24ms/step - loss: 0.5307 - acc: 0.8452 - val_loss: 0.4579 - val_acc: 0.8805\n",
            "Epoch 13/50\n",
            "3132/3132 [==============================] - 76s 24ms/step - loss: 0.5214 - acc: 0.8456 - val_loss: 0.4545 - val_acc: 0.8795\n",
            "Epoch 14/50\n",
            "3132/3132 [==============================] - 76s 24ms/step - loss: 0.5112 - acc: 0.8456 - val_loss: 0.4499 - val_acc: 0.8775\n",
            "Epoch 15/50\n",
            "3132/3132 [==============================] - 76s 24ms/step - loss: 0.5055 - acc: 0.8460 - val_loss: 0.4343 - val_acc: 0.8819\n",
            "Epoch 16/50\n",
            "3132/3132 [==============================] - 76s 24ms/step - loss: 0.4990 - acc: 0.8461 - val_loss: 0.4308 - val_acc: 0.8775\n",
            "Epoch 17/50\n",
            "3132/3132 [==============================] - 76s 24ms/step - loss: 0.4914 - acc: 0.8464 - val_loss: 0.4295 - val_acc: 0.8790\n",
            "Epoch 18/50\n",
            "3132/3132 [==============================] - 76s 24ms/step - loss: 0.4865 - acc: 0.8461 - val_loss: 0.4346 - val_acc: 0.8760\n",
            "Epoch 19/50\n",
            "3132/3132 [==============================] - 76s 24ms/step - loss: 0.4833 - acc: 0.8460 - val_loss: 0.4181 - val_acc: 0.8785\n",
            "Epoch 20/50\n",
            "3132/3132 [==============================] - 76s 24ms/step - loss: 0.4790 - acc: 0.8459 - val_loss: 0.4250 - val_acc: 0.8795\n",
            "Epoch 21/50\n",
            "3132/3132 [==============================] - 76s 24ms/step - loss: 0.4742 - acc: 0.8464 - val_loss: 0.4107 - val_acc: 0.8824\n",
            "Epoch 22/50\n",
            "3132/3132 [==============================] - 76s 24ms/step - loss: 0.4728 - acc: 0.8462 - val_loss: 0.4105 - val_acc: 0.8824\n",
            "Epoch 23/50\n",
            "3132/3132 [==============================] - 76s 24ms/step - loss: 0.4704 - acc: 0.8459 - val_loss: 0.4054 - val_acc: 0.8824\n",
            "Epoch 24/50\n",
            "3132/3132 [==============================] - 76s 24ms/step - loss: 0.4661 - acc: 0.8461 - val_loss: 0.3992 - val_acc: 0.8834\n",
            "Epoch 25/50\n",
            "3132/3132 [==============================] - 76s 24ms/step - loss: 0.4626 - acc: 0.8463 - val_loss: 0.3992 - val_acc: 0.8819\n",
            "Epoch 26/50\n",
            "3132/3132 [==============================] - 76s 24ms/step - loss: 0.4594 - acc: 0.8465 - val_loss: 0.3986 - val_acc: 0.8849\n",
            "Epoch 27/50\n",
            "3132/3132 [==============================] - 76s 24ms/step - loss: 0.4567 - acc: 0.8467 - val_loss: 0.3950 - val_acc: 0.8854\n",
            "Epoch 28/50\n",
            "3132/3132 [==============================] - 76s 24ms/step - loss: 0.4551 - acc: 0.8466 - val_loss: 0.3920 - val_acc: 0.8839\n",
            "Epoch 29/50\n",
            "3132/3132 [==============================] - 76s 24ms/step - loss: 0.4516 - acc: 0.8468 - val_loss: 0.3839 - val_acc: 0.8859\n",
            "Epoch 30/50\n",
            "3132/3132 [==============================] - 76s 24ms/step - loss: 0.4501 - acc: 0.8469 - val_loss: 0.3915 - val_acc: 0.8800\n",
            "Epoch 31/50\n",
            "3132/3132 [==============================] - 76s 24ms/step - loss: 0.4496 - acc: 0.8471 - val_loss: 0.3825 - val_acc: 0.8864\n",
            "Epoch 32/50\n",
            "3132/3132 [==============================] - 76s 24ms/step - loss: 0.4472 - acc: 0.8470 - val_loss: 0.3948 - val_acc: 0.8834\n",
            "Epoch 33/50\n",
            "3132/3132 [==============================] - 77s 25ms/step - loss: 0.4465 - acc: 0.8471 - val_loss: 0.3748 - val_acc: 0.8899\n",
            "Epoch 34/50\n",
            "3132/3132 [==============================] - 76s 24ms/step - loss: 0.4420 - acc: 0.8472 - val_loss: 0.3808 - val_acc: 0.8839\n",
            "Epoch 35/50\n",
            "3132/3132 [==============================] - 76s 24ms/step - loss: 0.4417 - acc: 0.8478 - val_loss: 0.3796 - val_acc: 0.8839\n",
            "Epoch 36/50\n",
            "3132/3132 [==============================] - 76s 24ms/step - loss: 0.4397 - acc: 0.8478 - val_loss: 0.3831 - val_acc: 0.8854\n",
            "Epoch 37/50\n",
            "3132/3132 [==============================] - 75s 24ms/step - loss: 0.4368 - acc: 0.8483 - val_loss: 0.3716 - val_acc: 0.8854\n",
            "Epoch 38/50\n",
            "3132/3132 [==============================] - 76s 24ms/step - loss: 0.4359 - acc: 0.8486 - val_loss: 0.3820 - val_acc: 0.8859\n",
            "Epoch 39/50\n",
            "3132/3132 [==============================] - 75s 24ms/step - loss: 0.4347 - acc: 0.8479 - val_loss: 0.3757 - val_acc: 0.8879\n",
            "Epoch 40/50\n",
            "3132/3132 [==============================] - 76s 24ms/step - loss: 0.4327 - acc: 0.8490 - val_loss: 0.3733 - val_acc: 0.8849\n",
            "Epoch 41/50\n",
            "3132/3132 [==============================] - 76s 24ms/step - loss: 0.4322 - acc: 0.8484 - val_loss: 0.3773 - val_acc: 0.8844\n",
            "Epoch 42/50\n",
            "3132/3132 [==============================] - 75s 24ms/step - loss: 0.4293 - acc: 0.8494 - val_loss: 0.3700 - val_acc: 0.8844\n",
            "Epoch 43/50\n",
            "3132/3132 [==============================] - 75s 24ms/step - loss: 0.4278 - acc: 0.8496 - val_loss: 0.3695 - val_acc: 0.8879\n",
            "Epoch 44/50\n",
            "3132/3132 [==============================] - 75s 24ms/step - loss: 0.4286 - acc: 0.8493 - val_loss: 0.3643 - val_acc: 0.8849\n",
            "Epoch 45/50\n",
            "3132/3132 [==============================] - 76s 24ms/step - loss: 0.4265 - acc: 0.8492 - val_loss: 0.3734 - val_acc: 0.8834\n",
            "Epoch 46/50\n",
            "3132/3132 [==============================] - 76s 24ms/step - loss: 0.4261 - acc: 0.8490 - val_loss: 0.3679 - val_acc: 0.8849\n",
            "Epoch 47/50\n",
            "3132/3132 [==============================] - 76s 24ms/step - loss: 0.4243 - acc: 0.8508 - val_loss: 0.3791 - val_acc: 0.8839\n",
            "Epoch 48/50\n",
            "3132/3132 [==============================] - 76s 24ms/step - loss: 0.4236 - acc: 0.8494 - val_loss: 0.3693 - val_acc: 0.8839\n",
            "Epoch 49/50\n",
            "3132/3132 [==============================] - 76s 24ms/step - loss: 0.4239 - acc: 0.8501 - val_loss: 0.3647 - val_acc: 0.8879\n",
            "Epoch 50/50\n",
            "3132/3132 [==============================] - 76s 24ms/step - loss: 0.4236 - acc: 0.8500 - val_loss: 0.3668 - val_acc: 0.8854\n"
          ],
          "name": "stdout"
        }
      ]
    },
    {
      "cell_type": "code",
      "metadata": {
        "id": "X9Ihwhw3MYYq",
        "colab_type": "code",
        "outputId": "494370cf-f4e6-4a1c-cdf2-0dfb0db70bb1",
        "colab": {
          "base_uri": "https://localhost:8080/",
          "height": 365
        }
      },
      "source": [
        "from matplotlib import pyplot\n",
        "\n",
        "pyplot.xkcd()\n",
        "pyplot.plot(history.history['acc'])\n",
        "pyplot.plot(history.history['val_acc'])\n",
        "pyplot.plot(history.history['loss'])\n",
        "pyplot.plot(history.history['val_loss'])\n",
        "pyplot.title('Training / Validation Results')\n",
        "pyplot.ylabel('Accuracy and Loss')\n",
        "pyplot.xlabel('Epoch #')\n",
        "pyplot.legend(['train_acc', 'val_acc', 'train_loss', 'val_loss'], loc='upper left')\n",
        "pyplot.show()\n"
      ],
      "execution_count": 28,
      "outputs": [
        {
          "output_type": "stream",
          "text": [
            "/usr/local/lib/python3.6/dist-packages/matplotlib/font_manager.py:1241: UserWarning: findfont: Font family ['xkcd', 'xkcd Script', 'Humor Sans', 'Comic Sans MS'] not found. Falling back to DejaVu Sans.\n",
            "  (prop.get_family(), self.defaultFamily[fontext]))\n"
          ],
          "name": "stderr"
        },
        {
          "output_type": "display_data",
          "data": {
            "image/png": "[encoded data removed]",
            "text/plain": [
              "<Figure size 432x288 with 1 Axes>"
            ]
          },
          "metadata": {
            "tags": []
          }
        }
      ]
    },
    {
      "cell_type": "code",
      "metadata": {
        "id": "SzKBgFQfyS6V",
        "colab_type": "code",
        "outputId": "9ef8a588-f0ba-4944-f4f8-5d667bb43463",
        "colab": {
          "base_uri": "https://localhost:8080/",
          "height": 443
        }
      },
      "source": [
        "!tail -n 25 examples.txt"
      ],
      "execution_count": 29,
      "outputs": [
        {
          "output_type": "stream",
          "text": [
            "deuten Features an Status-Feature erneut 256 GB Speicher erhältlich sein Exynos-Chip des Galaxy S7 und S7 Edge: Display-Maße\n",
            "================================================================================\n",
            "\n",
            "----- Generating text after Epoch: 49\n",
            "----- Diversity:0.3\n",
            "----- Generating with seed:\n",
            "\"Erste Tests\"\n",
            "Erste Tests zum HomePod: So gut schneidet Apples smarter Speaker ab als TV-Empfänger? So funktionierts!\\\"\" Ihr die SIM-Karte\n",
            "----- Diversity:0.4\n",
            "----- Generating with seed:\n",
            "\"Erste Tests\"\n",
            "Erste Tests zum HomePod: So gut schneidet Apples smarter Speaker ab als TV-Empfänger? So funktionierts!\\\"\" das Smartphone zeigen\n",
            "----- Diversity:0.5\n",
            "----- Generating with seed:\n",
            "\"Erste Tests\"\n",
            "Erste Tests zum HomePod: So gut schneidet Apples smarter Speaker ab soll 5. Staffel\" Gandalfs Robe schlüpfen\" 2018\n",
            "----- Diversity:0.6\n",
            "----- Generating with seed:\n",
            "\"Erste Tests\"\n",
            "Erste Tests zum HomePod: So gut schneidet Apples smarter Speaker ab sofort in Deutschland erhältlich sein iPhone 6\n",
            "----- Diversity:0.7\n",
            "----- Generating with seed:\n",
            "\"Erste Tests\"\n",
            "Erste Tests zum HomePod: So gut schneidet Apples smarter Speaker ab sofort in Deutschland angekündigt werden Support für\n",
            "================================================================================\n"
          ],
          "name": "stdout"
        }
      ]
    },
    {
      "cell_type": "code",
      "metadata": {
        "id": "qxoMS75t3_2f",
        "colab_type": "code",
        "outputId": "21a17686-7461-4e18-c7c3-45b3c393ee77",
        "colab": {
          "base_uri": "https://localhost:8080/",
          "height": 362
        }
      },
      "source": [
        "!ls -l checkpoints"
      ],
      "execution_count": 30,
      "outputs": [
        {
          "output_type": "stream",
          "text": [
            "total 3302504\n",
            "-rw-r--r-- 1 root root 177986520 May 14 07:24 lstm-text-gen-epoch001-words10654-sequence2-minfreq1-loss3.4183-acc0.5500-val_loss4.1722-val_acc0.5739\n",
            "-rw-r--r-- 1 root root 177986520 May 14 07:26 lstm-text-gen-epoch002-words10654-sequence2-minfreq1-loss2.5768-acc0.6009-val_loss2.5593-val_acc0.6146\n",
            "-rw-r--r-- 1 root root 177986520 May 14 07:27 lstm-text-gen-epoch003-words10654-sequence2-minfreq1-loss1.8062-acc0.6662-val_loss1.5938-val_acc0.7004\n",
            "-rw-r--r-- 1 root root 177986520 May 14 07:28 lstm-text-gen-epoch004-words10654-sequence2-minfreq1-loss1.1972-acc0.7471-val_loss1.0477-val_acc0.7872\n",
            "-rw-r--r-- 1 root root 177986520 May 14 07:29 lstm-text-gen-epoch005-words10654-sequence2-minfreq1-loss0.8463-acc0.8021-val_loss0.7990-val_acc0.8289\n",
            "-rw-r--r-- 1 root root 177986520 May 14 07:31 lstm-text-gen-epoch006-words10654-sequence2-minfreq1-loss0.6675-acc0.8312-val_loss0.6867-val_acc0.8547\n",
            "-rw-r--r-- 1 root root 177986520 May 14 07:32 lstm-text-gen-epoch007-words10654-sequence2-minfreq1-loss0.5890-acc0.8427-val_loss0.6251-val_acc0.8636\n",
            "-rw-r--r-- 1 root root 177986520 May 14 07:33 lstm-text-gen-epoch008-words10654-sequence2-minfreq1-loss0.5593-acc0.8461-val_loss0.5999-val_acc0.8666\n",
            "-rw-r--r-- 1 root root 177986520 May 14 07:34 lstm-text-gen-epoch009-words10654-sequence2-minfreq1-loss0.5514-acc0.8462-val_loss0.5548-val_acc0.8725\n",
            "-rw-r--r-- 1 root root 177986520 May 14 07:37 lstm-text-gen-epoch011-words10654-sequence2-minfreq1-loss0.5369-acc0.8457-val_loss0.4897-val_acc0.8775\n",
            "-rw-r--r-- 1 root root 177986520 May 14 07:38 lstm-text-gen-epoch012-words10654-sequence2-minfreq1-loss0.5307-acc0.8452-val_loss0.4579-val_acc0.8805\n",
            "-rw-r--r-- 1 root root 177986520 May 14 07:42 lstm-text-gen-epoch015-words10654-sequence2-minfreq1-loss0.5055-acc0.8460-val_loss0.4343-val_acc0.8819\n",
            "-rw-r--r-- 1 root root 177986520 May 14 07:50 lstm-text-gen-epoch021-words10654-sequence2-minfreq1-loss0.4742-acc0.8464-val_loss0.4107-val_acc0.8824\n",
            "-rw-r--r-- 1 root root 177986520 May 14 07:53 lstm-text-gen-epoch024-words10654-sequence2-minfreq1-loss0.4661-acc0.8461-val_loss0.3992-val_acc0.8834\n",
            "-rw-r--r-- 1 root root 177986520 May 14 07:56 lstm-text-gen-epoch026-words10654-sequence2-minfreq1-loss0.4594-acc0.8465-val_loss0.3986-val_acc0.8849\n",
            "-rw-r--r-- 1 root root 177986520 May 14 07:57 lstm-text-gen-epoch027-words10654-sequence2-minfreq1-loss0.4567-acc0.8467-val_loss0.3950-val_acc0.8854\n",
            "-rw-r--r-- 1 root root 177986520 May 14 08:00 lstm-text-gen-epoch029-words10654-sequence2-minfreq1-loss0.4516-acc0.8468-val_loss0.3839-val_acc0.8859\n",
            "-rw-r--r-- 1 root root 177986520 May 14 08:02 lstm-text-gen-epoch031-words10654-sequence2-minfreq1-loss0.4496-acc0.8471-val_loss0.3825-val_acc0.8864\n",
            "-rw-r--r-- 1 root root 177986520 May 14 08:05 lstm-text-gen-epoch033-words10654-sequence2-minfreq1-loss0.4465-acc0.8471-val_loss0.3748-val_acc0.8899\n"
          ],
          "name": "stdout"
        }
      ]
    },
    {
      "cell_type": "code",
      "metadata": {
        "id": "SfWr1anLyAg5",
        "colab_type": "code",
        "colab": {}
      },
      "source": [
        "from google.colab import files\n",
        "model_json = model.to_json()\n",
        "with open(\"lstm-text-gen_acc88.json\", \"w\") as json_file:\n",
        "    json_file.write(model_json)"
      ],
      "execution_count": 0,
      "outputs": []
    },
    {
      "cell_type": "code",
      "metadata": {
        "id": "enKRdHdR4Xxe",
        "colab_type": "code",
        "colab": {}
      },
      "source": [
        "files.download(\"lstm-text-gen_acc88.json\")"
      ],
      "execution_count": 0,
      "outputs": []
    },
    {
      "cell_type": "code",
      "metadata": {
        "id": "cqqJ2N8Z4ceO",
        "colab_type": "code",
        "colab": {
          "base_uri": "https://localhost:8080/",
          "height": 33
        },
        "outputId": "24ffa86d-86de-411c-e5e3-aaa9b4dbaace"
      },
      "source": [
        "model.save_weights(\"lstm-text-gen_model.h5\")\n",
        "print(\"Saved model to disk\")"
      ],
      "execution_count": 34,
      "outputs": [
        {
          "output_type": "stream",
          "text": [
            "Saved model to disk\n"
          ],
          "name": "stdout"
        }
      ]
    },
    {
      "cell_type": "code",
      "metadata": {
        "id": "1ITqacKp4vUO",
        "colab_type": "code",
        "outputId": "4da18a99-3fdc-4cce-9ba7-0f1458874dc7",
        "colab": {
          "base_uri": "https://localhost:8080/",
          "height": 115
        }
      },
      "source": [
        "!ls -lh"
      ],
      "execution_count": 35,
      "outputs": [
        {
          "output_type": "stream",
          "text": [
            "total 57M\n",
            "drwxr-xr-x 2 root root 4.0K May 14 08:05 checkpoints\n",
            "-rw-r--r-- 1 root root  50K May 14 08:26 examples.txt\n",
            "-rw-r--r-- 1 root root 2.1K May 14 08:28 lstm-text-gen_acc88.json\n",
            "-rw-r--r-- 1 root root  57M May 14 08:29 lstm-text-gen_model.h5\n",
            "drwxr-xr-x 1 root root 4.0K May  8 16:22 sample_data\n"
          ],
          "name": "stdout"
        }
      ]
    },
    {
      "cell_type": "code",
      "metadata": {
        "id": "Di0_gQoK4ipu",
        "colab_type": "code",
        "colab": {}
      },
      "source": [
        "files.download('lstm-text-gen_model.h5')"
      ],
      "execution_count": 0,
      "outputs": []
    },
    {
      "cell_type": "code",
      "metadata": {
        "id": "Y9DD63DjHIj4",
        "colab_type": "code",
        "colab": {}
      },
      "source": [
        "files.download(\"examples.txt\")"
      ],
      "execution_count": 0,
      "outputs": []
    },
    {
      "cell_type": "code",
      "metadata": {
        "id": "0jHwkJS-52i-",
        "colab_type": "code",
        "colab": {}
      },
      "source": [
        "def generate_text(model, indices_word, word_indices, seed,\n",
        "                  sequence_length, diversity, quantity):\n",
        "    \"\"\"\n",
        "    Similar to lstm_train::on_epoch_end\n",
        "    Used to generate text using a trained model\n",
        "    :param model: the trained Keras model (with model.load)\n",
        "    :param indices_word: a dictionary pointing to the words\n",
        "    :param seed: a string to be used as seed (already validated and padded)\n",
        "    :param sequence_length: how many words are given to the model to generate\n",
        "    :param diversity: is the \"temperature\" of the sample function (usually between 0.1 and 2)\n",
        "    :param quantity: quantity of words to generate\n",
        "    :return: Nothing, for now only writes the text to console\n",
        "    \"\"\"\n",
        "    sentence = seed.split(\" \")\n",
        "    print(\"----- Generating text\")\n",
        "    print('----- Diversity:' + str(diversity))\n",
        "    print('----- Generating with seed:\"' + seed +'\"')\n",
        "\n",
        "    print(seed)\n",
        "    for i in range(quantity):\n",
        "        x_pred = np.zeros((1, sequence_length))\n",
        "        for t, word in enumerate(sentence):\n",
        "            x_pred[0, t] = word_indices[word]\n",
        "\n",
        "        preds = model.predict(x_pred, verbose=0)[0]\n",
        "   \n",
        "        next_index = sample(preds, diversity)\n",
        "        next_word = indices_word[next_index]\n",
        "\n",
        "        sentence = sentence[1:]\n",
        "        sentence.append(next_word)\n",
        "\n",
        "        print(\" \"+next_word, end=\"\")\n",
        "\n"
      ],
      "execution_count": 0,
      "outputs": []
    },
    {
      "cell_type": "code",
      "metadata": {
        "id": "FUeQEpvBIu07",
        "colab_type": "code",
        "outputId": "e972cdef-e6cd-4f45-f34e-c02dabd4d0f6",
        "colab": {
          "base_uri": "https://localhost:8080/",
          "height": 98
        }
      },
      "source": [
        "generate_text(model, indices_word, word_indices, \"Neues Samsung\", 2, 0.5, 10)"
      ],
      "execution_count": 47,
      "outputs": [
        {
          "output_type": "stream",
          "text": [
            "----- Generating text\n",
            "----- Diversity:0.5\n",
            "----- Generating with seed:\"Neues Samsung\"\n",
            "Neues Samsung\n",
            " Gear 2018 könnte an AirPods speziell für sportliche Aktivitäten arbeiten"
          ],
          "name": "stdout"
        }
      ]
    },
    {
      "cell_type": "code",
      "metadata": {
        "id": "XllBagLfd5NA",
        "colab_type": "code",
        "colab": {
          "base_uri": "https://localhost:8080/",
          "height": 98
        },
        "outputId": "98e86938-8ff1-46c2-e02a-a242e0d1dd84"
      },
      "source": [
        "generate_text(model, indices_word, word_indices, \"Neues iPad\", 2, 0.5, 10)"
      ],
      "execution_count": 50,
      "outputs": [
        {
          "output_type": "stream",
          "text": [
            "----- Generating text\n",
            "----- Diversity:0.5\n",
            "----- Generating with seed:\"Neues iPad\"\n",
            "Neues iPad\n",
            " Pro gewinnen Auszeichnung für ihr Display von Apple abgeworben das"
          ],
          "name": "stdout"
        }
      ]
    },
    {
      "cell_type": "code",
      "metadata": {
        "id": "tPTQ8g5Jepsu",
        "colab_type": "code",
        "colab": {
          "base_uri": "https://localhost:8080/",
          "height": 98
        },
        "outputId": "5fcdfbc6-8ef7-46dc-d480-2b5082b263f3"
      },
      "source": [
        "generate_text(model, indices_word, word_indices, \"Playstation VR\", 2, 0.2, 5)"
      ],
      "execution_count": 56,
      "outputs": [
        {
          "output_type": "stream",
          "text": [
            "----- Generating text\n",
            "----- Diversity:0.2\n",
            "----- Generating with seed:\"Playstation VR\"\n",
            "Playstation VR\n",
            " für Mittelklasse-Smartphones mit Fingerabdrucksensoren ausstatten"
          ],
          "name": "stdout"
        }
      ]
    }
  ]
}