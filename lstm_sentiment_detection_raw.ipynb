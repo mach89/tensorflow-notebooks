{
  "nbformat": 4,
  "nbformat_minor": 0,
  "metadata": {
    "colab": {
      "name": "lstm-sentiment-detection-raw.ipynb",
      "version": "0.3.2",
      "provenance": [],
      "collapsed_sections": [],
      "include_colab_link": true
    },
    "kernelspec": {
      "name": "python3",
      "display_name": "Python 3"
    },
    "accelerator": "GPU"
  },
  "cells": [
    {
      "cell_type": "markdown",
      "metadata": {
        "id": "view-in-github",
        "colab_type": "text"
      },
      "source": [
        "<a href=\"https://colab.research.google.com/github/rawar/tensorflow-notebooks/blob/master/lstm_sentiment_detection_raw.ipynb\" target=\"_parent\"><img src=\"https://colab.research.google.com/assets/colab-badge.svg\" alt=\"Open In Colab\"/></a>"
      ]
    },
    {
      "metadata": {
        "id": "-O14YWUJvhD4",
        "colab_type": "code",
        "outputId": "b882b339-c1a5-4ef6-b4b4-360ce6ddd964",
        "colab": {
          "base_uri": "https://localhost:8080/",
          "height": 480
        }
      },
      "cell_type": "code",
      "source": [
        "!pip install tensorflow-gpu==2.0.0-alpha0\n",
        "#!pip install tensorflow==2.0.0-alpha0"
      ],
      "execution_count": 2,
      "outputs": [
        {
          "output_type": "stream",
          "text": [
            "Requirement already satisfied: tensorflow-gpu==2.0.0-alpha0 in /usr/local/lib/python3.6/dist-packages (2.0.0a0)\n",
            "Requirement already satisfied: keras-applications>=1.0.6 in /usr/local/lib/python3.6/dist-packages (from tensorflow-gpu==2.0.0-alpha0) (1.0.7)\n",
            "Requirement already satisfied: gast>=0.2.0 in /usr/local/lib/python3.6/dist-packages (from tensorflow-gpu==2.0.0-alpha0) (0.2.2)\n",
            "Requirement already satisfied: tf-estimator-nightly<1.14.0.dev2019030116,>=1.14.0.dev2019030115 in /usr/local/lib/python3.6/dist-packages (from tensorflow-gpu==2.0.0-alpha0) (1.14.0.dev2019030115)\n",
            "Requirement already satisfied: protobuf>=3.6.1 in /usr/local/lib/python3.6/dist-packages (from tensorflow-gpu==2.0.0-alpha0) (3.7.1)\n",
            "Requirement already satisfied: astor>=0.6.0 in /usr/local/lib/python3.6/dist-packages (from tensorflow-gpu==2.0.0-alpha0) (0.7.1)\n",
            "Requirement already satisfied: tb-nightly<1.14.0a20190302,>=1.14.0a20190301 in /usr/local/lib/python3.6/dist-packages (from tensorflow-gpu==2.0.0-alpha0) (1.14.0a20190301)\n",
            "Requirement already satisfied: wheel>=0.26 in /usr/local/lib/python3.6/dist-packages (from tensorflow-gpu==2.0.0-alpha0) (0.33.1)\n",
            "Requirement already satisfied: google-pasta>=0.1.2 in /usr/local/lib/python3.6/dist-packages (from tensorflow-gpu==2.0.0-alpha0) (0.1.5)\n",
            "Requirement already satisfied: absl-py>=0.7.0 in /usr/local/lib/python3.6/dist-packages (from tensorflow-gpu==2.0.0-alpha0) (0.7.1)\n",
            "Requirement already satisfied: grpcio>=1.8.6 in /usr/local/lib/python3.6/dist-packages (from tensorflow-gpu==2.0.0-alpha0) (1.15.0)\n",
            "Requirement already satisfied: keras-preprocessing>=1.0.5 in /usr/local/lib/python3.6/dist-packages (from tensorflow-gpu==2.0.0-alpha0) (1.0.9)\n",
            "Requirement already satisfied: numpy<2.0,>=1.14.5 in /usr/local/lib/python3.6/dist-packages (from tensorflow-gpu==2.0.0-alpha0) (1.16.2)\n",
            "Requirement already satisfied: termcolor>=1.1.0 in /usr/local/lib/python3.6/dist-packages (from tensorflow-gpu==2.0.0-alpha0) (1.1.0)\n",
            "Requirement already satisfied: six>=1.10.0 in /usr/local/lib/python3.6/dist-packages (from tensorflow-gpu==2.0.0-alpha0) (1.11.0)\n",
            "Requirement already satisfied: h5py in /usr/local/lib/python3.6/dist-packages (from keras-applications>=1.0.6->tensorflow-gpu==2.0.0-alpha0) (2.8.0)\n",
            "Requirement already satisfied: setuptools in /usr/local/lib/python3.6/dist-packages (from protobuf>=3.6.1->tensorflow-gpu==2.0.0-alpha0) (40.9.0)\n",
            "Requirement already satisfied: werkzeug>=0.11.15 in /usr/local/lib/python3.6/dist-packages (from tb-nightly<1.14.0a20190302,>=1.14.0a20190301->tensorflow-gpu==2.0.0-alpha0) (0.15.2)\n",
            "Requirement already satisfied: markdown>=2.6.8 in /usr/local/lib/python3.6/dist-packages (from tb-nightly<1.14.0a20190302,>=1.14.0a20190301->tensorflow-gpu==2.0.0-alpha0) (3.1)\n"
          ],
          "name": "stdout"
        }
      ]
    },
    {
      "metadata": {
        "id": "X-yWJT39zrjC",
        "colab_type": "code",
        "colab": {}
      },
      "cell_type": "code",
      "source": [
        "import numpy as np\n",
        "import matplotlib.pyplot as plt\n",
        "import pandas as pd\n",
        "import tensorflow as tf\n"
      ],
      "execution_count": 0,
      "outputs": []
    },
    {
      "metadata": {
        "id": "G5krgkOyAEac",
        "colab_type": "text"
      },
      "cell_type": "markdown",
      "source": [
        "### get the Yelp sentiment data from GitHub Gist "
      ]
    },
    {
      "metadata": {
        "id": "iL-sMvdtz35x",
        "colab_type": "code",
        "colab": {}
      },
      "cell_type": "code",
      "source": [
        "url = 'https://gist.githubusercontent.com/rawar/3d5343ce39dd16bc457ef4ae56c87f4a/raw/6e6c150745de44e002f0b7fb435d0ccd1e10faa7/yelp-sentiment-data.csv'\n",
        "sentiment_data = pd.read_csv(url)"
      ],
      "execution_count": 0,
      "outputs": []
    },
    {
      "metadata": {
        "id": "4rULBNzVAMmn",
        "colab_type": "text"
      },
      "cell_type": "markdown",
      "source": [
        "### take a look to the data"
      ]
    },
    {
      "metadata": {
        "id": "ATVf0s922CDO",
        "colab_type": "code",
        "outputId": "ae82d161-2f2e-42bd-a563-d0e9b6c7948d",
        "colab": {
          "base_uri": "https://localhost:8080/",
          "height": 248
        }
      },
      "cell_type": "code",
      "source": [
        "sentiment_data.head(5)"
      ],
      "execution_count": 5,
      "outputs": [
        {
          "output_type": "execute_result",
          "data": {
            "text/html": [
              "<div>\n",
              "<style scoped>\n",
              "    .dataframe tbody tr th:only-of-type {\n",
              "        vertical-align: middle;\n",
              "    }\n",
              "\n",
              "    .dataframe tbody tr th {\n",
              "        vertical-align: top;\n",
              "    }\n",
              "\n",
              "    .dataframe thead th {\n",
              "        text-align: right;\n",
              "    }\n",
              "</style>\n",
              "<table border=\"1\" class=\"dataframe\">\n",
              "  <thead>\n",
              "    <tr style=\"text-align: right;\">\n",
              "      <th></th>\n",
              "      <th>Unnamed: 0</th>\n",
              "      <th>stars</th>\n",
              "      <th>text</th>\n",
              "      <th>sentiment</th>\n",
              "    </tr>\n",
              "  </thead>\n",
              "  <tbody>\n",
              "    <tr>\n",
              "      <th>0</th>\n",
              "      <td>0</td>\n",
              "      <td>5.0</td>\n",
              "      <td>hands down best bloody mary ever so many thing...</td>\n",
              "      <td>pos</td>\n",
              "    </tr>\n",
              "    <tr>\n",
              "      <th>1</th>\n",
              "      <td>1</td>\n",
              "      <td>5.0</td>\n",
              "      <td>its true this hotel carries you while in vegas...</td>\n",
              "      <td>pos</td>\n",
              "    </tr>\n",
              "    <tr>\n",
              "      <th>2</th>\n",
              "      <td>2</td>\n",
              "      <td>4.0</td>\n",
              "      <td>first time  lemme not exaggerate but yo nothin...</td>\n",
              "      <td>pos</td>\n",
              "    </tr>\n",
              "    <tr>\n",
              "      <th>3</th>\n",
              "      <td>3</td>\n",
              "      <td>4.0</td>\n",
              "      <td>sushisamba had very tasty sushis my table and ...</td>\n",
              "      <td>pos</td>\n",
              "    </tr>\n",
              "    <tr>\n",
              "      <th>4</th>\n",
              "      <td>4</td>\n",
              "      <td>5.0</td>\n",
              "      <td>good food nice setting jazz ambience\\n\\nmade f...</td>\n",
              "      <td>pos</td>\n",
              "    </tr>\n",
              "  </tbody>\n",
              "</table>\n",
              "</div>"
            ],
            "text/plain": [
              "   Unnamed: 0  stars                                               text  \\\n",
              "0           0    5.0  hands down best bloody mary ever so many thing...   \n",
              "1           1    5.0  its true this hotel carries you while in vegas...   \n",
              "2           2    4.0  first time  lemme not exaggerate but yo nothin...   \n",
              "3           3    4.0  sushisamba had very tasty sushis my table and ...   \n",
              "4           4    5.0  good food nice setting jazz ambience\\n\\nmade f...   \n",
              "\n",
              "  sentiment  \n",
              "0       pos  \n",
              "1       pos  \n",
              "2       pos  \n",
              "3       pos  \n",
              "4       pos  "
            ]
          },
          "metadata": {
            "tags": []
          },
          "execution_count": 5
        }
      ]
    },
    {
      "metadata": {
        "id": "lC2B2gVpASuk",
        "colab_type": "text"
      },
      "cell_type": "markdown",
      "source": [
        "### remove some empty values"
      ]
    },
    {
      "metadata": {
        "id": "lJSmYDRu3mzf",
        "colab_type": "code",
        "colab": {}
      },
      "cell_type": "code",
      "source": [
        "sentiment_data = sentiment_data.dropna()"
      ],
      "execution_count": 0,
      "outputs": []
    },
    {
      "metadata": {
        "id": "CIc0p4Tb5coj",
        "colab_type": "code",
        "colab": {}
      },
      "cell_type": "code",
      "source": [
        "sentiment_data = sentiment_data.applymap(lambda x: x.strip() if type(x)==str else x)"
      ],
      "execution_count": 0,
      "outputs": []
    },
    {
      "metadata": {
        "id": "mJsqWEQ02HlO",
        "colab_type": "code",
        "outputId": "bddef1f7-d181-4136-b63a-b69f6081f9a3",
        "colab": {
          "base_uri": "https://localhost:8080/",
          "height": 220
        }
      },
      "cell_type": "code",
      "source": [
        "print(sentiment_data['text'].values)"
      ],
      "execution_count": 8,
      "outputs": [
        {
          "output_type": "stream",
          "text": [
            "['hands down best bloody mary ever so many things in my bm veggies  mmm bacon  nailed it its an appetizer i also had the burger with fries who knew fries could be so good the presentation doesnt disappoint ether very nice great seating outside although we sat inside would love to see this restaurant near my hometown seriously get the bm you rock guy'\n",
            " 'its true this hotel carries you while in vegas we visited the venetian to experience the awesome interior and romantic evening events the entire hotel sparkled its huge too  weekendinvegas'\n",
            " 'first time  lemme not exaggerate but yo nothing but love and fun cups full and aint nothing but love nothing but good vibes tonight some people dapper some people coolin all age groups people eating'\n",
            " ...\n",
            " 'if i could give this place  stars i would handsdown the best service ive received at a shisha spot worldwide \\n\\ni was taken care of from the moment i walked in to when i walked out the staff were so attentive and checked on me nonstop they def know customer service at this place i gladly tipped twice lol and they didnt even wanna accept it this experience took hospitality to the next level \\n\\nif youre ever there find taz and tell him the nigerian with the blue eyes sent you he will take good care of you wish i got some pictures but i was too busy making friends and enjoying the incredible music the dj was amazing played all sorts of genres that were really fitting to the ambiance\\n\\nits in a bit of a hideout but once you go youll want to return over and over and over again'\n",
            " 'this used to be a very nice place but now it is run by idiots  how does a table seated and ordered  min after us ordering the same food as us gets their first\\n\\nthe initial delay aside it was next to impossible to flag down a server to get anything  our food kept getting mixed up with the table beside usnot once not twice but four times out of \\n\\nchako here i come'\n",
            " 'bring your earplugs  someone decided that a daytime dance clubbrunch restaurant would be a great idea noise level is prevents conversation dj really several requests to lower the volume were ignored food was ok nothing special']\n"
          ],
          "name": "stdout"
        }
      ]
    },
    {
      "metadata": {
        "id": "qYF4P-aLAjJ4",
        "colab_type": "text"
      },
      "cell_type": "markdown",
      "source": [
        "### tokenize text reviews"
      ]
    },
    {
      "metadata": {
        "id": "N-xxQhVm0SXW",
        "colab_type": "code",
        "colab": {}
      },
      "cell_type": "code",
      "source": [
        "vocab_size = 4700"
      ],
      "execution_count": 0,
      "outputs": []
    },
    {
      "metadata": {
        "id": "EysdScIJ0WEI",
        "colab_type": "code",
        "colab": {}
      },
      "cell_type": "code",
      "source": [
        "tokenizer = tf.keras.preprocessing.text.Tokenizer(num_words=vocab_size, lower=False, split=\" \")"
      ],
      "execution_count": 0,
      "outputs": []
    },
    {
      "metadata": {
        "id": "NsVO9Alm1Fx3",
        "colab_type": "code",
        "colab": {}
      },
      "cell_type": "code",
      "source": [
        "tokenizer.fit_on_texts(sentiment_data['text'].values)"
      ],
      "execution_count": 0,
      "outputs": []
    },
    {
      "metadata": {
        "id": "sYKrwLEj55Bf",
        "colab_type": "code",
        "outputId": "d2d5b27e-a991-4871-a1c9-c6f66a71f9ba",
        "colab": {
          "base_uri": "https://localhost:8080/",
          "height": 76
        }
      },
      "cell_type": "code",
      "source": [
        "print('Number of words: %d' % len(tokenizer.word_index))"
      ],
      "execution_count": 12,
      "outputs": [
        {
          "output_type": "stream",
          "text": [
            "Number of words: 25474\n"
          ],
          "name": "stdout"
        }
      ]
    },
    {
      "metadata": {
        "id": "5FHBuLTG110g",
        "colab_type": "code",
        "colab": {}
      },
      "cell_type": "code",
      "source": [
        "X = tokenizer.texts_to_sequences(sentiment_data['text'].values)"
      ],
      "execution_count": 0,
      "outputs": []
    },
    {
      "metadata": {
        "id": "1wu7pvRJAuJ5",
        "colab_type": "text"
      },
      "cell_type": "markdown",
      "source": [
        "### fill empty words with none to bring every review to the same world length"
      ]
    },
    {
      "metadata": {
        "id": "PwT05HGx5q78",
        "colab_type": "code",
        "colab": {}
      },
      "cell_type": "code",
      "source": [
        "X = tf.keras.preprocessing.sequence.pad_sequences(X, maxlen=vocab_size)"
      ],
      "execution_count": 0,
      "outputs": []
    },
    {
      "metadata": {
        "id": "W2UytrPHlmmT",
        "colab_type": "code",
        "outputId": "ebeeb308-9e60-4107-9861-1ada7ff21aad",
        "colab": {
          "base_uri": "https://localhost:8080/",
          "height": 76
        }
      },
      "cell_type": "code",
      "source": [
        "print(X.shape[1])"
      ],
      "execution_count": 15,
      "outputs": [
        {
          "output_type": "stream",
          "text": [
            "4700\n"
          ],
          "name": "stdout"
        }
      ]
    },
    {
      "metadata": {
        "id": "mGGsQ9jP59NZ",
        "colab_type": "code",
        "outputId": "9ea09db6-0a3e-4f67-cf8d-e214fd110d1c",
        "colab": {
          "base_uri": "https://localhost:8080/",
          "height": 463
        }
      },
      "cell_type": "code",
      "source": [
        "embed_dim = 128\n",
        "lstm_out = 196\n",
        "\n",
        "model = tf.keras.models.Sequential([\n",
        "    tf.keras.layers.Embedding(vocab_size, embed_dim,input_length = X.shape[1]),\n",
        "    #tf.keras.layers.LSTM(60, return_sequences=True, recurrent_dropout=0.5),\n",
        "    tf.keras.layers.LSTM(60, return_sequences=True, dropout=0.2),\n",
        "    tf.keras.layers.Dropout(0.5),\n",
        "    #tf.keras.layers.LSTM(60, recurrent_dropout=0.5),\n",
        "    tf.keras.layers.LSTM(60, dropout=0.2),\n",
        "    tf.keras.layers.Dense(60, activation='relu'),\n",
        "    tf.keras.layers.Dense(2,activation='softmax') # classification layer with two classes (neg, pos)\n",
        "])\n",
        "\n",
        "#model = tf.keras.models.Sequential([\n",
        "#    tf.keras.layers.Embedding(vocab_size, embed_dim, input_length=X.shape[1]),\n",
        "#    tf.keras.layers.LSTM(lstm_out, dropout=0.2),\n",
        "#    tf.keras.layers.Dense(2,activation='softmax') # classification layer with two classes (neg, pos)\n",
        "#])\n",
        "\n",
        "\n",
        "model.compile(loss = 'binary_crossentropy', optimizer='adam', metrics=['accuracy'])\n",
        "print(model.summary())  "
      ],
      "execution_count": 65,
      "outputs": [
        {
          "output_type": "stream",
          "text": [
            "W0414 16:53:50.444332 140555401680768 tf_logging.py:161] <tensorflow.python.keras.layers.recurrent.UnifiedLSTM object at 0x7fd4ea52cb70>: Note that this layer is not optimized for performance. Please use tf.keras.layers.CuDNNLSTM for better performance on GPU.\n",
            "W0414 16:53:50.453006 140555401680768 tf_logging.py:161] <tensorflow.python.keras.layers.recurrent.UnifiedLSTM object at 0x7fd59714dba8>: Note that this layer is not optimized for performance. Please use tf.keras.layers.CuDNNLSTM for better performance on GPU.\n"
          ],
          "name": "stderr"
        },
        {
          "output_type": "stream",
          "text": [
            "Model: \"sequential_1\"\n",
            "_________________________________________________________________\n",
            "Layer (type)                 Output Shape              Param #   \n",
            "=================================================================\n",
            "embedding_1 (Embedding)      (None, 4700, 128)         601600    \n",
            "_________________________________________________________________\n",
            "unified_lstm_1 (UnifiedLSTM) (None, 4700, 60)          45360     \n",
            "_________________________________________________________________\n",
            "dropout (Dropout)            (None, 4700, 60)          0         \n",
            "_________________________________________________________________\n",
            "unified_lstm_2 (UnifiedLSTM) (None, 60)                29040     \n",
            "_________________________________________________________________\n",
            "dense_1 (Dense)              (None, 60)                3660      \n",
            "_________________________________________________________________\n",
            "dense_2 (Dense)              (None, 2)                 122       \n",
            "=================================================================\n",
            "Total params: 679,782\n",
            "Trainable params: 679,782\n",
            "Non-trainable params: 0\n",
            "_________________________________________________________________\n",
            "None\n"
          ],
          "name": "stdout"
        }
      ]
    },
    {
      "metadata": {
        "id": "Ho0OrZ2TBXpT",
        "colab_type": "code",
        "outputId": "c4cf6693-63de-4b5f-f32a-72cda5128830",
        "colab": {
          "base_uri": "https://localhost:8080/",
          "height": 164
        }
      },
      "cell_type": "code",
      "source": [
        "print(sentiment_data['sentiment'].head(5))"
      ],
      "execution_count": 17,
      "outputs": [
        {
          "output_type": "stream",
          "text": [
            "0    pos\n",
            "1    pos\n",
            "2    pos\n",
            "3    pos\n",
            "4    pos\n",
            "Name: sentiment, dtype: object\n"
          ],
          "name": "stdout"
        }
      ]
    },
    {
      "metadata": {
        "id": "lUZgIAtfBhwL",
        "colab_type": "text"
      },
      "cell_type": "markdown",
      "source": [
        "### 1 = postive, 0 = negativ"
      ]
    },
    {
      "metadata": {
        "id": "fkbrl5jH70Vq",
        "colab_type": "code",
        "outputId": "2038cac9-8035-430d-f80a-9490db6e0f37",
        "colab": {
          "base_uri": "https://localhost:8080/",
          "height": 180
        }
      },
      "cell_type": "code",
      "source": [
        "Y = pd.get_dummies(sentiment_data['sentiment']).values\n",
        "print(Y)"
      ],
      "execution_count": 18,
      "outputs": [
        {
          "output_type": "stream",
          "text": [
            "[[0 1]\n",
            " [0 1]\n",
            " [0 1]\n",
            " ...\n",
            " [0 1]\n",
            " [1 0]\n",
            " [1 0]]\n"
          ],
          "name": "stdout"
        }
      ]
    },
    {
      "metadata": {
        "id": "hxa-ofat8Ton",
        "colab_type": "code",
        "colab": {}
      },
      "cell_type": "code",
      "source": [
        "from sklearn.model_selection import train_test_split\n",
        "X_train, X_val, Y_train, Y_val = train_test_split(X,Y, test_size = 0.2, random_state = 42)"
      ],
      "execution_count": 0,
      "outputs": []
    },
    {
      "metadata": {
        "id": "zIIOXVWEPy1L",
        "colab_type": "code",
        "outputId": "44a2abd1-05cd-4e4e-b382-8675f51e26c3",
        "colab": {
          "base_uri": "https://localhost:8080/",
          "height": 277
        }
      },
      "cell_type": "code",
      "source": [
        "pd.DataFrame(X_train).head()"
      ],
      "execution_count": 20,
      "outputs": [
        {
          "output_type": "execute_result",
          "data": {
            "text/html": [
              "<div>\n",
              "<style scoped>\n",
              "    .dataframe tbody tr th:only-of-type {\n",
              "        vertical-align: middle;\n",
              "    }\n",
              "\n",
              "    .dataframe tbody tr th {\n",
              "        vertical-align: top;\n",
              "    }\n",
              "\n",
              "    .dataframe thead th {\n",
              "        text-align: right;\n",
              "    }\n",
              "</style>\n",
              "<table border=\"1\" class=\"dataframe\">\n",
              "  <thead>\n",
              "    <tr style=\"text-align: right;\">\n",
              "      <th></th>\n",
              "      <th>0</th>\n",
              "      <th>1</th>\n",
              "      <th>2</th>\n",
              "      <th>3</th>\n",
              "      <th>4</th>\n",
              "      <th>5</th>\n",
              "      <th>6</th>\n",
              "      <th>7</th>\n",
              "      <th>8</th>\n",
              "      <th>9</th>\n",
              "      <th>...</th>\n",
              "      <th>4690</th>\n",
              "      <th>4691</th>\n",
              "      <th>4692</th>\n",
              "      <th>4693</th>\n",
              "      <th>4694</th>\n",
              "      <th>4695</th>\n",
              "      <th>4696</th>\n",
              "      <th>4697</th>\n",
              "      <th>4698</th>\n",
              "      <th>4699</th>\n",
              "    </tr>\n",
              "  </thead>\n",
              "  <tbody>\n",
              "    <tr>\n",
              "      <th>0</th>\n",
              "      <td>0</td>\n",
              "      <td>0</td>\n",
              "      <td>0</td>\n",
              "      <td>0</td>\n",
              "      <td>0</td>\n",
              "      <td>0</td>\n",
              "      <td>0</td>\n",
              "      <td>0</td>\n",
              "      <td>0</td>\n",
              "      <td>0</td>\n",
              "      <td>...</td>\n",
              "      <td>23</td>\n",
              "      <td>4</td>\n",
              "      <td>130</td>\n",
              "      <td>115</td>\n",
              "      <td>27</td>\n",
              "      <td>1</td>\n",
              "      <td>1282</td>\n",
              "      <td>228</td>\n",
              "      <td>435</td>\n",
              "      <td>19</td>\n",
              "    </tr>\n",
              "    <tr>\n",
              "      <th>1</th>\n",
              "      <td>0</td>\n",
              "      <td>0</td>\n",
              "      <td>0</td>\n",
              "      <td>0</td>\n",
              "      <td>0</td>\n",
              "      <td>0</td>\n",
              "      <td>0</td>\n",
              "      <td>0</td>\n",
              "      <td>0</td>\n",
              "      <td>0</td>\n",
              "      <td>...</td>\n",
              "      <td>150</td>\n",
              "      <td>11</td>\n",
              "      <td>6</td>\n",
              "      <td>133</td>\n",
              "      <td>4391</td>\n",
              "      <td>2</td>\n",
              "      <td>144</td>\n",
              "      <td>858</td>\n",
              "      <td>26</td>\n",
              "      <td>208</td>\n",
              "    </tr>\n",
              "    <tr>\n",
              "      <th>2</th>\n",
              "      <td>0</td>\n",
              "      <td>0</td>\n",
              "      <td>0</td>\n",
              "      <td>0</td>\n",
              "      <td>0</td>\n",
              "      <td>0</td>\n",
              "      <td>0</td>\n",
              "      <td>0</td>\n",
              "      <td>0</td>\n",
              "      <td>0</td>\n",
              "      <td>...</td>\n",
              "      <td>16</td>\n",
              "      <td>9</td>\n",
              "      <td>41</td>\n",
              "      <td>375</td>\n",
              "      <td>210</td>\n",
              "      <td>2</td>\n",
              "      <td>252</td>\n",
              "      <td>344</td>\n",
              "      <td>183</td>\n",
              "      <td>173</td>\n",
              "    </tr>\n",
              "    <tr>\n",
              "      <th>3</th>\n",
              "      <td>0</td>\n",
              "      <td>0</td>\n",
              "      <td>0</td>\n",
              "      <td>0</td>\n",
              "      <td>0</td>\n",
              "      <td>0</td>\n",
              "      <td>0</td>\n",
              "      <td>0</td>\n",
              "      <td>0</td>\n",
              "      <td>0</td>\n",
              "      <td>...</td>\n",
              "      <td>309</td>\n",
              "      <td>2</td>\n",
              "      <td>120</td>\n",
              "      <td>34</td>\n",
              "      <td>1706</td>\n",
              "      <td>16</td>\n",
              "      <td>29</td>\n",
              "      <td>9</td>\n",
              "      <td>4</td>\n",
              "      <td>387</td>\n",
              "    </tr>\n",
              "    <tr>\n",
              "      <th>4</th>\n",
              "      <td>0</td>\n",
              "      <td>0</td>\n",
              "      <td>0</td>\n",
              "      <td>0</td>\n",
              "      <td>0</td>\n",
              "      <td>0</td>\n",
              "      <td>0</td>\n",
              "      <td>0</td>\n",
              "      <td>0</td>\n",
              "      <td>0</td>\n",
              "      <td>...</td>\n",
              "      <td>579</td>\n",
              "      <td>6</td>\n",
              "      <td>219</td>\n",
              "      <td>18</td>\n",
              "      <td>2048</td>\n",
              "      <td>70</td>\n",
              "      <td>618</td>\n",
              "      <td>97</td>\n",
              "      <td>80</td>\n",
              "      <td>283</td>\n",
              "    </tr>\n",
              "  </tbody>\n",
              "</table>\n",
              "<p>5 rows × 4700 columns</p>\n",
              "</div>"
            ],
            "text/plain": [
              "   0     1     2     3     4     5     6     7     8     9     ...   4690  \\\n",
              "0     0     0     0     0     0     0     0     0     0     0  ...     23   \n",
              "1     0     0     0     0     0     0     0     0     0     0  ...    150   \n",
              "2     0     0     0     0     0     0     0     0     0     0  ...     16   \n",
              "3     0     0     0     0     0     0     0     0     0     0  ...    309   \n",
              "4     0     0     0     0     0     0     0     0     0     0  ...    579   \n",
              "\n",
              "   4691  4692  4693  4694  4695  4696  4697  4698  4699  \n",
              "0     4   130   115    27     1  1282   228   435    19  \n",
              "1    11     6   133  4391     2   144   858    26   208  \n",
              "2     9    41   375   210     2   252   344   183   173  \n",
              "3     2   120    34  1706    16    29     9     4   387  \n",
              "4     6   219    18  2048    70   618    97    80   283  \n",
              "\n",
              "[5 rows x 4700 columns]"
            ]
          },
          "metadata": {
            "tags": []
          },
          "execution_count": 20
        }
      ]
    },
    {
      "metadata": {
        "id": "iriQFVQITlUb",
        "colab_type": "code",
        "outputId": "01523868-3106-4c95-d293-b0e6815be292",
        "colab": {
          "base_uri": "https://localhost:8080/",
          "height": 248
        }
      },
      "cell_type": "code",
      "source": [
        "pd.DataFrame(Y_train).head()"
      ],
      "execution_count": 21,
      "outputs": [
        {
          "output_type": "execute_result",
          "data": {
            "text/html": [
              "<div>\n",
              "<style scoped>\n",
              "    .dataframe tbody tr th:only-of-type {\n",
              "        vertical-align: middle;\n",
              "    }\n",
              "\n",
              "    .dataframe tbody tr th {\n",
              "        vertical-align: top;\n",
              "    }\n",
              "\n",
              "    .dataframe thead th {\n",
              "        text-align: right;\n",
              "    }\n",
              "</style>\n",
              "<table border=\"1\" class=\"dataframe\">\n",
              "  <thead>\n",
              "    <tr style=\"text-align: right;\">\n",
              "      <th></th>\n",
              "      <th>0</th>\n",
              "      <th>1</th>\n",
              "    </tr>\n",
              "  </thead>\n",
              "  <tbody>\n",
              "    <tr>\n",
              "      <th>0</th>\n",
              "      <td>0</td>\n",
              "      <td>1</td>\n",
              "    </tr>\n",
              "    <tr>\n",
              "      <th>1</th>\n",
              "      <td>0</td>\n",
              "      <td>1</td>\n",
              "    </tr>\n",
              "    <tr>\n",
              "      <th>2</th>\n",
              "      <td>1</td>\n",
              "      <td>0</td>\n",
              "    </tr>\n",
              "    <tr>\n",
              "      <th>3</th>\n",
              "      <td>0</td>\n",
              "      <td>1</td>\n",
              "    </tr>\n",
              "    <tr>\n",
              "      <th>4</th>\n",
              "      <td>1</td>\n",
              "      <td>0</td>\n",
              "    </tr>\n",
              "  </tbody>\n",
              "</table>\n",
              "</div>"
            ],
            "text/plain": [
              "   0  1\n",
              "0  0  1\n",
              "1  0  1\n",
              "2  1  0\n",
              "3  0  1\n",
              "4  1  0"
            ]
          },
          "metadata": {
            "tags": []
          },
          "execution_count": 21
        }
      ]
    },
    {
      "metadata": {
        "id": "7yp-7Lga8cAY",
        "colab_type": "code",
        "colab": {}
      },
      "cell_type": "code",
      "source": [
        "num_epochs = 5\n",
        "batch_size = 10"
      ],
      "execution_count": 0,
      "outputs": []
    },
    {
      "metadata": {
        "id": "ffeK9Tw48eIa",
        "colab_type": "code",
        "outputId": "e71989f2-afa7-4a2e-c3cd-d8b02b209217",
        "colab": {
          "base_uri": "https://localhost:8080/",
          "height": 1020
        }
      },
      "cell_type": "code",
      "source": [
        "history = model.fit(X_train, Y_train, validation_data=(X_val, Y_val), batch_size = batch_size, epochs = num_epochs, verbose = 1)"
      ],
      "execution_count": 67,
      "outputs": [
        {
          "output_type": "stream",
          "text": [
            "Train on 5251 samples, validate on 1313 samples\n",
            "Epoch 1/5\n",
            "5251/5251 [==============================] - 451s 86ms/sample - loss: 0.6446 - accuracy: 0.6591 - val_loss: 0.6494 - val_accuracy: 0.6352\n",
            "Epoch 2/5\n",
            "5251/5251 [==============================] - 449s 85ms/sample - loss: 0.4915 - accuracy: 0.7640 - val_loss: 0.4074 - val_accuracy: 0.8180\n",
            "Epoch 3/5\n",
            "5251/5251 [==============================] - 451s 86ms/sample - loss: 0.2871 - accuracy: 0.8829 - val_loss: 0.4099 - val_accuracy: 0.8431\n",
            "Epoch 4/5\n",
            "5251/5251 [==============================] - 449s 85ms/sample - loss: 0.2100 - accuracy: 0.9229 - val_loss: 0.4440 - val_accuracy: 0.8271\n",
            "Epoch 5/5\n",
            "5251/5251 [==============================] - 450s 86ms/sample - loss: 0.1483 - accuracy: 0.9482 - val_loss: 0.4427 - val_accuracy: 0.8203\n"
          ],
          "name": "stdout"
        }
      ]
    },
    {
      "metadata": {
        "id": "GDKevqgS92fd",
        "colab_type": "code",
        "colab": {
          "base_uri": "https://localhost:8080/",
          "height": 76
        },
        "outputId": "39e5d07f-502d-401f-fcc2-cdf6dcb9c9ad"
      },
      "cell_type": "code",
      "source": [
        "history.history.keys()"
      ],
      "execution_count": 24,
      "outputs": [
        {
          "output_type": "execute_result",
          "data": {
            "text/plain": [
              "dict_keys(['loss', 'accuracy', 'val_loss', 'val_accuracy'])"
            ]
          },
          "metadata": {
            "tags": []
          },
          "execution_count": 24
        }
      ]
    },
    {
      "metadata": {
        "id": "2vASMIuv9v4N",
        "colab_type": "code",
        "colab": {
          "base_uri": "https://localhost:8080/",
          "height": 315
        },
        "outputId": "990a31aa-0d97-4714-f962-086a34041ff3"
      },
      "cell_type": "code",
      "source": [
        "from matplotlib import pyplot\n",
        "\n",
        "pyplot.plot(history.history['accuracy'])\n",
        "pyplot.plot(history.history['val_accuracy'])\n",
        "pyplot.plot(history.history['loss'])\n",
        "pyplot.plot(history.history['val_loss'])\n",
        "pyplot.title('Training results')\n",
        "pyplot.ylabel('accuracy and loss')\n",
        "pyplot.xlabel('epoch')\n",
        "pyplot.legend(['train_acc', 'val_acc', 'train_loss', 'val_loss'], loc='upper left')\n",
        "pyplot.show()\n",
        "\n"
      ],
      "execution_count": 68,
      "outputs": [
        {
          "output_type": "display_data",
          "data": {
            "image/png": "[encoded data removed]",
            "text/plain": [
              "<Figure size 432x288 with 1 Axes>"
            ]
          },
          "metadata": {
            "tags": []
          }
        }
      ]
    },
    {
      "metadata": {
        "id": "FZz_bFIz-FAF",
        "colab_type": "code",
        "colab": {
          "base_uri": "https://localhost:8080/",
          "height": 112
        },
        "outputId": "28d983b7-4816-48e4-9309-80c7b1c09229"
      },
      "cell_type": "code",
      "source": [
        "score,acc = model.evaluate(X_val, Y_val, verbose = 2, batch_size = batch_size)\n",
        "print(\"Score: %.2f\" % (score))\n",
        "print(\"Validation Accuracy: %.2f\" % (acc))"
      ],
      "execution_count": 27,
      "outputs": [
        {
          "output_type": "stream",
          "text": [
            "1313/1313 - 31s - loss: 0.7129 - accuracy: 0.7845\n",
            "Score: 0.71\n",
            "Validation Accuracy: 0.78\n"
          ],
          "name": "stdout"
        }
      ]
    },
    {
      "metadata": {
        "id": "A_GTVf9S-JRx",
        "colab_type": "code",
        "colab": {}
      },
      "cell_type": "code",
      "source": [
        "pos_cnt, neg_cnt, pos_correct, neg_correct = 0, 0, 0, 0\n",
        "for x in range(len(X_val)):\n",
        "    \n",
        "    result = model.predict(X_val[x].reshape(1,X_val.shape[1]), batch_size=1, verbose = 0)[0]\n",
        "    \n",
        "    if np.argmax(result) == np.argmax(Y_val[x]):\n",
        "        if np.argmax(Y_val[x]) == 0:\n",
        "            neg_correct += 1\n",
        "        else:\n",
        "            pos_correct += 1\n",
        "            \n",
        "    if np.argmax(Y_val[x]) == 0:\n",
        "        neg_cnt += 1\n",
        "    else:\n",
        "        pos_cnt += 1"
      ],
      "execution_count": 0,
      "outputs": []
    },
    {
      "metadata": {
        "id": "noihVg7w-Vya",
        "colab_type": "code",
        "colab": {
          "base_uri": "https://localhost:8080/",
          "height": 92
        },
        "outputId": "b4e38e44-5c36-4822-cac4-2100716b5314"
      },
      "cell_type": "code",
      "source": [
        "print(\"positive accuracy: %.2f\" % (pos_correct/pos_cnt*100))\n",
        "print(\"negative accuracy: %.2f\" % (neg_correct/neg_cnt*100))"
      ],
      "execution_count": 30,
      "outputs": [
        {
          "output_type": "stream",
          "text": [
            "positive accuracy: 83.57\n",
            "negative accuracy: 69.52\n"
          ],
          "name": "stdout"
        }
      ]
    },
    {
      "metadata": {
        "id": "NGhA33WpWCwb",
        "colab_type": "text"
      },
      "cell_type": "markdown",
      "source": [
        "### Serialize the Keras model to JSON and save the model weight"
      ]
    },
    {
      "metadata": {
        "id": "FRcFd26zW_vi",
        "colab_type": "code",
        "colab": {}
      },
      "cell_type": "code",
      "source": [
        "from google.colab import files"
      ],
      "execution_count": 0,
      "outputs": []
    },
    {
      "metadata": {
        "id": "1Lb7SswaWA1a",
        "colab_type": "code",
        "colab": {}
      },
      "cell_type": "code",
      "source": [
        "model_json = model.to_json()\n",
        "with open(\"yelp-sentiment-model.json\", \"w\") as json_file:\n",
        "    json_file.write(model_json)"
      ],
      "execution_count": 0,
      "outputs": []
    },
    {
      "metadata": {
        "id": "ONG1n2dxXDOk",
        "colab_type": "code",
        "colab": {}
      },
      "cell_type": "code",
      "source": [
        "files.download(\"yelp-sentiment-model.json\")"
      ],
      "execution_count": 0,
      "outputs": []
    },
    {
      "metadata": {
        "id": "XrUgLVDCWQHl",
        "colab_type": "code",
        "colab": {
          "base_uri": "https://localhost:8080/",
          "height": 76
        },
        "outputId": "2cd92f77-1d48-4925-8538-ae8f83a3d101"
      },
      "cell_type": "code",
      "source": [
        "model.save_weights(\"yelp-sentiment-model.h5\")\n",
        "print(\"Saved model to disk\")"
      ],
      "execution_count": 39,
      "outputs": [
        {
          "output_type": "stream",
          "text": [
            "Saved model to disk\n"
          ],
          "name": "stdout"
        }
      ]
    },
    {
      "metadata": {
        "id": "XGpM-_8CXIur",
        "colab_type": "code",
        "colab": {}
      },
      "cell_type": "code",
      "source": [
        "files.download('yelp-sentiment-model-model.h5')"
      ],
      "execution_count": 0,
      "outputs": []
    },
    {
      "metadata": {
        "id": "4dOO478MZAwb",
        "colab_type": "text"
      },
      "cell_type": "markdown",
      "source": [
        "### Load model and use it to predict new reviews"
      ]
    },
    {
      "metadata": {
        "id": "DFaYZAAQtPED",
        "colab_type": "code",
        "colab": {
          "base_uri": "https://localhost:8080/",
          "height": 173
        },
        "outputId": "895f2d9b-eb04-4670-dd0a-8e19e5d24b12"
      },
      "cell_type": "code",
      "source": [
        "!ls -l"
      ],
      "execution_count": 40,
      "outputs": [
        {
          "output_type": "stream",
          "text": [
            "total 6736\n",
            "drwxr-xr-x 1 root root    4096 Apr  4 20:20 sample_data\n",
            "-rw-r--r-- 1 root root 3441848 Apr 14 16:39 yelp-sentiment-model.h5\n",
            "-rw-r--r-- 1 root root    1824 Apr 14 16:34 yelp-sentiment-model.json\n",
            "-rw-r--r-- 1 root root 3441848 Apr 14 16:34 yelp-sentiment-model-model.h5\n"
          ],
          "name": "stdout"
        }
      ]
    },
    {
      "metadata": {
        "id": "lIhqQvsTtkMp",
        "colab_type": "code",
        "colab": {
          "base_uri": "https://localhost:8080/",
          "height": 140
        },
        "outputId": "913a5a60-3a38-4bef-f080-0c8b20b2917c"
      },
      "cell_type": "code",
      "source": [
        "!pip install h5py"
      ],
      "execution_count": 37,
      "outputs": [
        {
          "output_type": "stream",
          "text": [
            "Requirement already satisfied: h5py in /usr/local/lib/python3.6/dist-packages (2.8.0)\n",
            "Requirement already satisfied: numpy>=1.7 in /usr/local/lib/python3.6/dist-packages (from h5py) (1.16.2)\n",
            "Requirement already satisfied: six in /usr/local/lib/python3.6/dist-packages (from h5py) (1.11.0)\n"
          ],
          "name": "stdout"
        }
      ]
    },
    {
      "metadata": {
        "id": "Bteo9DTOZAaR",
        "colab_type": "code",
        "colab": {
          "base_uri": "https://localhost:8080/",
          "height": 136
        },
        "outputId": "15a2fbc1-72d8-4942-fc24-49a7b67b3937"
      },
      "cell_type": "code",
      "source": [
        "json_file = open('yelp-sentiment-model.json', 'r')\n",
        "loaded_model_json = json_file.read()\n",
        "json_file.close()\n",
        "\n",
        "loaded_model = tf.keras.models.model_from_json(loaded_model_json)\n",
        "loaded_model.load_weights(\"yelp-sentiment-model.h5\")\n",
        " \n",
        "loaded_model.compile(loss='binary_crossentropy', optimizer='adam', metrics=['accuracy'])\n",
        "score = loaded_model.evaluate(X_val, Y_val, verbose=0)"
      ],
      "execution_count": 41,
      "outputs": [
        {
          "output_type": "stream",
          "text": [
            "W0414 16:39:26.932587 140555401680768 tf_logging.py:161] <tensorflow.python.keras.layers.recurrent.UnifiedLSTM object at 0x7fd4e30d0240>: Note that this layer is not optimized for performance. Please use tf.keras.layers.CuDNNLSTM for better performance on GPU.\n"
          ],
          "name": "stderr"
        }
      ]
    },
    {
      "metadata": {
        "id": "I1WHPpZE-3VW",
        "colab_type": "code",
        "colab": {
          "base_uri": "https://localhost:8080/",
          "height": 76
        },
        "outputId": "2f7ef399-9d06-4ec5-f14e-50ce3f1db234"
      },
      "cell_type": "code",
      "source": [
        "xval = X_val[1].reshape(1,X_val.shape[1])\n",
        "print(xval)"
      ],
      "execution_count": 42,
      "outputs": [
        {
          "output_type": "stream",
          "text": [
            "[[   0    0    0 ...   44   10 1258]]\n"
          ],
          "name": "stdout"
        }
      ]
    },
    {
      "metadata": {
        "id": "vm79zWjs-9Lk",
        "colab_type": "code",
        "colab": {}
      },
      "cell_type": "code",
      "source": [
        "reverse_word_map = dict(map(reversed, tokenizer.word_index.items()))\n",
        "\n",
        "def sequence_to_text(list_of_indices):\n",
        "    words = []\n",
        "    for letter in list_of_indices:\n",
        "        w = reverse_word_map.get(letter)\n",
        "        if(w != None):\n",
        "            words.append(w)\n",
        "    return(words)"
      ],
      "execution_count": 0,
      "outputs": []
    },
    {
      "metadata": {
        "id": "z_DHq2U3_AZC",
        "colab_type": "code",
        "colab": {}
      },
      "cell_type": "code",
      "source": [
        "xval_str = list(map(sequence_to_text, xval))"
      ],
      "execution_count": 0,
      "outputs": []
    },
    {
      "metadata": {
        "id": "ZAjofaEZwnb_",
        "colab_type": "code",
        "colab": {
          "base_uri": "https://localhost:8080/",
          "height": 76
        },
        "outputId": "f0bf8011-b227-47d4-d358-63810612ad32"
      },
      "cell_type": "code",
      "source": [
        "print(xval.shape)"
      ],
      "execution_count": 63,
      "outputs": [
        {
          "output_type": "stream",
          "text": [
            "(1, 4700)\n"
          ],
          "name": "stdout"
        }
      ]
    },
    {
      "metadata": {
        "id": "1i7PVdcJ_DNY",
        "colab_type": "code",
        "colab": {
          "base_uri": "https://localhost:8080/",
          "height": 76
        },
        "outputId": "e4bbf565-45b2-4872-eeda-9d49f34f7516"
      },
      "cell_type": "code",
      "source": [
        "yresult = loaded_model.predict(xval)\n",
        "print(\"words=%s, predicted sentiment=%s\" % (xval_str, yresult))"
      ],
      "execution_count": 64,
      "outputs": [
        {
          "output_type": "stream",
          "text": [
            "words=[['i', 'took', 'my', 'family', 'of', 'here', 'while', 'we', 'were', 'all', 'in', 'town', 'on', 'vacation', 'i', 'love', 'the', 'atmosphere', 'and', 'the', 'cocktails', 'are', 'amazing', 'i', 'had', 'reserved', 'a', 'table', 'online', 'several', 'months', 'in', 'advance', 'and', 'everything', 'was', 'ready', 'for', 'us', 'once', 'we', 'arrived', 'we', 'were', 'all', 'seated', 'and', 'served', 'promptly', 'the', 'service', 'was', 'excellent', 'i', 'tipped', 'over', 'the', 'added', 'as', 'they', 'just', 'did', 'that', 'good', 'of', 'a', 'job', 'taking', 'care', 'of', 'everyone', 'would', 'have', 'been', 'stars', 'had', 'the', 'food', 'the', 'amazing', 'atmosphere', 'and', 'cocktails', 'we', 'were', 'all', 'by', 'the', 'food', 'but', 'will', 'definitely', 'be', 'back', 'again', 'and', 'again', 'even', 'if', 'its', 'just', 'for', 'cocktails']], predicted sentiment=[[0.0193097 0.9806903]]\n"
          ],
          "name": "stdout"
        }
      ]
    },
    {
      "metadata": {
        "id": "twxt5udD_MYH",
        "colab_type": "code",
        "colab": {
          "base_uri": "https://localhost:8080/",
          "height": 76
        },
        "outputId": "224356ef-4e92-4fde-c7b8-836b82156af9"
      },
      "cell_type": "code",
      "source": [
        "# 1 = positiv, 0 = negativ\n",
        "result = loaded_model.predict_classes(xval)\n",
        "print(result)"
      ],
      "execution_count": 61,
      "outputs": [
        {
          "output_type": "stream",
          "text": [
            "[1]\n"
          ],
          "name": "stdout"
        }
      ]
    },
    {
      "metadata": {
        "id": "UMfPjKTJ_eAx",
        "colab_type": "code",
        "colab": {
          "base_uri": "https://localhost:8080/",
          "height": 76
        },
        "outputId": "a2dd7d69-6776-4fb7-9a19-4117adcd1d7c"
      },
      "cell_type": "code",
      "source": [
        "yhat = loaded_model.predict_proba(xval) \n",
        "print(yhat)"
      ],
      "execution_count": 62,
      "outputs": [
        {
          "output_type": "stream",
          "text": [
            "[[0.0193097 0.9806903]]\n"
          ],
          "name": "stdout"
        }
      ]
    }
  ]
}