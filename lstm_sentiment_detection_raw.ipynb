{
  "nbformat": 4,
  "nbformat_minor": 0,
  "metadata": {
    "colab": {
      "name": "lstm-sentiment-detection-raw.ipynb",
      "version": "0.3.2",
      "provenance": [],
      "collapsed_sections": [],
      "include_colab_link": true
    },
    "kernelspec": {
      "name": "python3",
      "display_name": "Python 3"
    },
    "accelerator": "GPU"
  },
  "cells": [
    {
      "cell_type": "markdown",
      "metadata": {
        "id": "view-in-github",
        "colab_type": "text"
      },
      "source": [
        "<a href=\"https://colab.research.google.com/github/rawar/tensorflow-notebooks/blob/master/lstm_sentiment_detection_raw.ipynb\" target=\"_parent\"><img src=\"https://colab.research.google.com/assets/colab-badge.svg\" alt=\"Open In Colab\"/></a>"
      ]
    },
    {
      "metadata": {
        "id": "nI9cnHLQW1Ix",
        "colab_type": "text"
      },
      "cell_type": "markdown",
      "source": [
        "# Simple LSTM to learn sentiment detection from Yelp data "
      ]
    },
    {
      "metadata": {
        "id": "xFtILVhoW87z",
        "colab_type": "text"
      },
      "cell_type": "markdown",
      "source": [
        "### Install Tensorflow 2.0 alpha witj GPU support (only for Notebooks with GPU support)"
      ]
    },
    {
      "metadata": {
        "id": "-O14YWUJvhD4",
        "colab_type": "code",
        "outputId": "2aebb314-1078-4d6d-d61d-0d90c32096ab",
        "colab": {
          "base_uri": "https://localhost:8080/",
          "height": 466
        }
      },
      "cell_type": "code",
      "source": [
        "#!pip install tensorflow-gpu==2.0.0-alpha0\n",
        "#!pip install tensorflow==2.0.0-alpha0\n",
        "!pip install tensorflow-gpu"
      ],
      "execution_count": 1,
      "outputs": [
        {
          "output_type": "stream",
          "text": [
            "Collecting tensorflow-gpu\n",
            "  Using cached https://files.pythonhosted.org/packages/7b/b1/0ad4ae02e17ddd62109cd54c291e311c4b5fd09b4d0678d3d6ce4159b0f0/tensorflow_gpu-1.13.1-cp36-cp36m-manylinux1_x86_64.whl\n",
            "Requirement already satisfied: numpy>=1.13.3 in /usr/local/lib/python3.6/dist-packages (from tensorflow-gpu) (1.16.2)\n",
            "Requirement already satisfied: keras-applications>=1.0.6 in /usr/local/lib/python3.6/dist-packages (from tensorflow-gpu) (1.0.7)\n",
            "Requirement already satisfied: protobuf>=3.6.1 in /usr/local/lib/python3.6/dist-packages (from tensorflow-gpu) (3.7.1)\n",
            "Requirement already satisfied: grpcio>=1.8.6 in /usr/local/lib/python3.6/dist-packages (from tensorflow-gpu) (1.15.0)\n",
            "Requirement already satisfied: tensorboard<1.14.0,>=1.13.0 in /usr/local/lib/python3.6/dist-packages (from tensorflow-gpu) (1.13.1)\n",
            "Requirement already satisfied: keras-preprocessing>=1.0.5 in /usr/local/lib/python3.6/dist-packages (from tensorflow-gpu) (1.0.9)\n",
            "Requirement already satisfied: gast>=0.2.0 in /usr/local/lib/python3.6/dist-packages (from tensorflow-gpu) (0.2.2)\n",
            "Requirement already satisfied: tensorflow-estimator<1.14.0rc0,>=1.13.0 in /usr/local/lib/python3.6/dist-packages (from tensorflow-gpu) (1.13.0)\n",
            "Requirement already satisfied: wheel>=0.26 in /usr/local/lib/python3.6/dist-packages (from tensorflow-gpu) (0.33.1)\n",
            "Requirement already satisfied: termcolor>=1.1.0 in /usr/local/lib/python3.6/dist-packages (from tensorflow-gpu) (1.1.0)\n",
            "Requirement already satisfied: absl-py>=0.1.6 in /usr/local/lib/python3.6/dist-packages (from tensorflow-gpu) (0.7.1)\n",
            "Requirement already satisfied: astor>=0.6.0 in /usr/local/lib/python3.6/dist-packages (from tensorflow-gpu) (0.7.1)\n",
            "Requirement already satisfied: six>=1.10.0 in /usr/local/lib/python3.6/dist-packages (from tensorflow-gpu) (1.11.0)\n",
            "Requirement already satisfied: h5py in /usr/local/lib/python3.6/dist-packages (from keras-applications>=1.0.6->tensorflow-gpu) (2.8.0)\n",
            "Requirement already satisfied: setuptools in /usr/local/lib/python3.6/dist-packages (from protobuf>=3.6.1->tensorflow-gpu) (40.9.0)\n",
            "Requirement already satisfied: markdown>=2.6.8 in /usr/local/lib/python3.6/dist-packages (from tensorboard<1.14.0,>=1.13.0->tensorflow-gpu) (3.1)\n",
            "Requirement already satisfied: werkzeug>=0.11.15 in /usr/local/lib/python3.6/dist-packages (from tensorboard<1.14.0,>=1.13.0->tensorflow-gpu) (0.15.2)\n",
            "Requirement already satisfied: mock>=2.0.0 in /usr/local/lib/python3.6/dist-packages (from tensorflow-estimator<1.14.0rc0,>=1.13.0->tensorflow-gpu) (2.0.0)\n",
            "Requirement already satisfied: pbr>=0.11 in /usr/local/lib/python3.6/dist-packages (from mock>=2.0.0->tensorflow-estimator<1.14.0rc0,>=1.13.0->tensorflow-gpu) (5.1.3)\n",
            "Installing collected packages: tensorflow-gpu\n",
            "Successfully installed tensorflow-gpu-1.13.1\n"
          ],
          "name": "stdout"
        }
      ]
    },
    {
      "metadata": {
        "id": "X-yWJT39zrjC",
        "colab_type": "code",
        "colab": {}
      },
      "cell_type": "code",
      "source": [
        "import numpy as np\n",
        "import matplotlib.pyplot as plt\n",
        "import pandas as pd\n",
        "import tensorflow as tf\n"
      ],
      "execution_count": 0,
      "outputs": []
    },
    {
      "metadata": {
        "id": "G5krgkOyAEac",
        "colab_type": "text"
      },
      "cell_type": "markdown",
      "source": [
        "### get the Yelp sentiment data from GitHub Gist "
      ]
    },
    {
      "metadata": {
        "id": "iL-sMvdtz35x",
        "colab_type": "code",
        "colab": {}
      },
      "cell_type": "code",
      "source": [
        "url = 'https://gist.githubusercontent.com/rawar/3d5343ce39dd16bc457ef4ae56c87f4a/raw/6e6c150745de44e002f0b7fb435d0ccd1e10faa7/yelp-sentiment-data.csv'\n",
        "sentiment_data = pd.read_csv(url)"
      ],
      "execution_count": 0,
      "outputs": []
    },
    {
      "metadata": {
        "id": "4rULBNzVAMmn",
        "colab_type": "text"
      },
      "cell_type": "markdown",
      "source": [
        "### take a look to the data"
      ]
    },
    {
      "metadata": {
        "id": "ATVf0s922CDO",
        "colab_type": "code",
        "outputId": "4cd0f88b-fc08-4ad1-d178-a583ba4add88",
        "colab": {
          "base_uri": "https://localhost:8080/",
          "height": 206
        }
      },
      "cell_type": "code",
      "source": [
        "sentiment_data.head(5)"
      ],
      "execution_count": 4,
      "outputs": [
        {
          "output_type": "execute_result",
          "data": {
            "text/html": [
              "<div>\n",
              "<style scoped>\n",
              "    .dataframe tbody tr th:only-of-type {\n",
              "        vertical-align: middle;\n",
              "    }\n",
              "\n",
              "    .dataframe tbody tr th {\n",
              "        vertical-align: top;\n",
              "    }\n",
              "\n",
              "    .dataframe thead th {\n",
              "        text-align: right;\n",
              "    }\n",
              "</style>\n",
              "<table border=\"1\" class=\"dataframe\">\n",
              "  <thead>\n",
              "    <tr style=\"text-align: right;\">\n",
              "      <th></th>\n",
              "      <th>Unnamed: 0</th>\n",
              "      <th>stars</th>\n",
              "      <th>text</th>\n",
              "      <th>sentiment</th>\n",
              "    </tr>\n",
              "  </thead>\n",
              "  <tbody>\n",
              "    <tr>\n",
              "      <th>0</th>\n",
              "      <td>0</td>\n",
              "      <td>5.0</td>\n",
              "      <td>hands down best bloody mary ever so many thing...</td>\n",
              "      <td>pos</td>\n",
              "    </tr>\n",
              "    <tr>\n",
              "      <th>1</th>\n",
              "      <td>1</td>\n",
              "      <td>5.0</td>\n",
              "      <td>its true this hotel carries you while in vegas...</td>\n",
              "      <td>pos</td>\n",
              "    </tr>\n",
              "    <tr>\n",
              "      <th>2</th>\n",
              "      <td>2</td>\n",
              "      <td>4.0</td>\n",
              "      <td>first time  lemme not exaggerate but yo nothin...</td>\n",
              "      <td>pos</td>\n",
              "    </tr>\n",
              "    <tr>\n",
              "      <th>3</th>\n",
              "      <td>3</td>\n",
              "      <td>4.0</td>\n",
              "      <td>sushisamba had very tasty sushis my table and ...</td>\n",
              "      <td>pos</td>\n",
              "    </tr>\n",
              "    <tr>\n",
              "      <th>4</th>\n",
              "      <td>4</td>\n",
              "      <td>5.0</td>\n",
              "      <td>good food nice setting jazz ambience\\n\\nmade f...</td>\n",
              "      <td>pos</td>\n",
              "    </tr>\n",
              "  </tbody>\n",
              "</table>\n",
              "</div>"
            ],
            "text/plain": [
              "   Unnamed: 0  stars                                               text  \\\n",
              "0           0    5.0  hands down best bloody mary ever so many thing...   \n",
              "1           1    5.0  its true this hotel carries you while in vegas...   \n",
              "2           2    4.0  first time  lemme not exaggerate but yo nothin...   \n",
              "3           3    4.0  sushisamba had very tasty sushis my table and ...   \n",
              "4           4    5.0  good food nice setting jazz ambience\\n\\nmade f...   \n",
              "\n",
              "  sentiment  \n",
              "0       pos  \n",
              "1       pos  \n",
              "2       pos  \n",
              "3       pos  \n",
              "4       pos  "
            ]
          },
          "metadata": {
            "tags": []
          },
          "execution_count": 4
        }
      ]
    },
    {
      "metadata": {
        "id": "lC2B2gVpASuk",
        "colab_type": "text"
      },
      "cell_type": "markdown",
      "source": [
        "### remove some empty values"
      ]
    },
    {
      "metadata": {
        "id": "lJSmYDRu3mzf",
        "colab_type": "code",
        "colab": {}
      },
      "cell_type": "code",
      "source": [
        "sentiment_data = sentiment_data.dropna()"
      ],
      "execution_count": 0,
      "outputs": []
    },
    {
      "metadata": {
        "id": "CIc0p4Tb5coj",
        "colab_type": "code",
        "colab": {}
      },
      "cell_type": "code",
      "source": [
        "sentiment_data = sentiment_data.applymap(lambda x: x.strip() if type(x)==str else x)"
      ],
      "execution_count": 0,
      "outputs": []
    },
    {
      "metadata": {
        "id": "mJsqWEQ02HlO",
        "colab_type": "code",
        "outputId": "d0dc0828-9190-40a8-d5a1-6736017c0a78",
        "colab": {
          "base_uri": "https://localhost:8080/",
          "height": 162
        }
      },
      "cell_type": "code",
      "source": [
        "print(sentiment_data['text'].values)"
      ],
      "execution_count": 7,
      "outputs": [
        {
          "output_type": "stream",
          "text": [
            "['hands down best bloody mary ever so many things in my bm veggies  mmm bacon  nailed it its an appetizer i also had the burger with fries who knew fries could be so good the presentation doesnt disappoint ether very nice great seating outside although we sat inside would love to see this restaurant near my hometown seriously get the bm you rock guy'\n",
            " 'its true this hotel carries you while in vegas we visited the venetian to experience the awesome interior and romantic evening events the entire hotel sparkled its huge too  weekendinvegas'\n",
            " 'first time  lemme not exaggerate but yo nothing but love and fun cups full and aint nothing but love nothing but good vibes tonight some people dapper some people coolin all age groups people eating'\n",
            " ...\n",
            " 'if i could give this place  stars i would handsdown the best service ive received at a shisha spot worldwide \\n\\ni was taken care of from the moment i walked in to when i walked out the staff were so attentive and checked on me nonstop they def know customer service at this place i gladly tipped twice lol and they didnt even wanna accept it this experience took hospitality to the next level \\n\\nif youre ever there find taz and tell him the nigerian with the blue eyes sent you he will take good care of you wish i got some pictures but i was too busy making friends and enjoying the incredible music the dj was amazing played all sorts of genres that were really fitting to the ambiance\\n\\nits in a bit of a hideout but once you go youll want to return over and over and over again'\n",
            " 'this used to be a very nice place but now it is run by idiots  how does a table seated and ordered  min after us ordering the same food as us gets their first\\n\\nthe initial delay aside it was next to impossible to flag down a server to get anything  our food kept getting mixed up with the table beside usnot once not twice but four times out of \\n\\nchako here i come'\n",
            " 'bring your earplugs  someone decided that a daytime dance clubbrunch restaurant would be a great idea noise level is prevents conversation dj really several requests to lower the volume were ignored food was ok nothing special']\n"
          ],
          "name": "stdout"
        }
      ]
    },
    {
      "metadata": {
        "id": "qYF4P-aLAjJ4",
        "colab_type": "text"
      },
      "cell_type": "markdown",
      "source": [
        "### tokenize text reviews"
      ]
    },
    {
      "metadata": {
        "id": "N-xxQhVm0SXW",
        "colab_type": "code",
        "colab": {}
      },
      "cell_type": "code",
      "source": [
        "vocab_size = 4700"
      ],
      "execution_count": 0,
      "outputs": []
    },
    {
      "metadata": {
        "id": "EysdScIJ0WEI",
        "colab_type": "code",
        "colab": {}
      },
      "cell_type": "code",
      "source": [
        "tokenizer = tf.keras.preprocessing.text.Tokenizer(num_words=vocab_size, lower=False, split=\" \")"
      ],
      "execution_count": 0,
      "outputs": []
    },
    {
      "metadata": {
        "id": "NsVO9Alm1Fx3",
        "colab_type": "code",
        "colab": {}
      },
      "cell_type": "code",
      "source": [
        "tokenizer.fit_on_texts(sentiment_data['text'].values)"
      ],
      "execution_count": 0,
      "outputs": []
    },
    {
      "metadata": {
        "id": "sYKrwLEj55Bf",
        "colab_type": "code",
        "outputId": "2a98be3a-4902-40cd-a060-d1d0fbabf757",
        "colab": {
          "base_uri": "https://localhost:8080/",
          "height": 34
        }
      },
      "cell_type": "code",
      "source": [
        "print('Number of words: %d' % len(tokenizer.word_index))"
      ],
      "execution_count": 11,
      "outputs": [
        {
          "output_type": "stream",
          "text": [
            "Number of words: 25474\n"
          ],
          "name": "stdout"
        }
      ]
    },
    {
      "metadata": {
        "id": "5FHBuLTG110g",
        "colab_type": "code",
        "colab": {}
      },
      "cell_type": "code",
      "source": [
        "X = tokenizer.texts_to_sequences(sentiment_data['text'].values)"
      ],
      "execution_count": 0,
      "outputs": []
    },
    {
      "metadata": {
        "id": "1wu7pvRJAuJ5",
        "colab_type": "text"
      },
      "cell_type": "markdown",
      "source": [
        "### fill empty words with none to bring every review to the same world length"
      ]
    },
    {
      "metadata": {
        "id": "PwT05HGx5q78",
        "colab_type": "code",
        "colab": {}
      },
      "cell_type": "code",
      "source": [
        "X = tf.keras.preprocessing.sequence.pad_sequences(X, maxlen=vocab_size)"
      ],
      "execution_count": 0,
      "outputs": []
    },
    {
      "metadata": {
        "id": "W2UytrPHlmmT",
        "colab_type": "code",
        "outputId": "e48d39b2-5dcd-4e07-b926-bda7e145aaa9",
        "colab": {
          "base_uri": "https://localhost:8080/",
          "height": 34
        }
      },
      "cell_type": "code",
      "source": [
        "print(X.shape[1])"
      ],
      "execution_count": 14,
      "outputs": [
        {
          "output_type": "stream",
          "text": [
            "4700\n"
          ],
          "name": "stdout"
        }
      ]
    },
    {
      "metadata": {
        "id": "QFC8vUA5XOTu",
        "colab_type": "code",
        "colab": {}
      },
      "cell_type": "code",
      "source": [
        "embed_dim = 32\n",
        "e_init = tf.keras.initializers.RandomUniform(-0.01, 0.01, seed=1)\n",
        "init = tf.keras.initializers.glorot_uniform(seed=1)"
      ],
      "execution_count": 0,
      "outputs": []
    },
    {
      "metadata": {
        "id": "mGGsQ9jP59NZ",
        "colab_type": "code",
        "outputId": "cceecdb6-18e6-4637-a263-9b4179c65ca0",
        "colab": {
          "base_uri": "https://localhost:8080/",
          "height": 384
        }
      },
      "cell_type": "code",
      "source": [
        "\n",
        "\n",
        "#tf.keras.layers.CuDNNLSTM\n",
        "model = tf.keras.models.Sequential([\n",
        "    tf.keras.layers.Embedding(input_dim=vocab_size, output_dim=embed_dim,embeddings_initializer=e_init, mask_zero=True, input_length=X.shape[1]),\n",
        "    #tf.keras.layers.LSTM(60, return_sequences=True, recurrent_dropout=0.5),\n",
        "    #tf.keras.layers.LSTM(60, return_sequences=True, dropout=0.5),\n",
        "    #tf.keras.layers.LSTM(60, return_sequences=True),\n",
        "    tf.keras.layers.LSTM(units=100, kernel_initializer=init, dropout=0.2, recurrent_dropout=0.2),\n",
        "    #tf.keras.layers.Dropout(0.2),\n",
        "    #tf.keras.layers.LSTM(60, recurrent_dropout=0.5),\n",
        "    #tf.keras.layers.LSTM(60, dropout=0.5),\n",
        "    #tf.keras.layers.LSTM(60, return_sequences=True),\n",
        "    #tf.keras.layers.LSTM(60),\n",
        "    #tf.keras.layers.Dropout(0.2),    \n",
        "    #tf.keras.layers.Dense(60, activation='relu'),\n",
        "    #tf.keras.layers.Dense(2,activation='softmax') # classification layer with two classes (neg, pos)\n",
        "    tf.keras.layers.Dense(units=2, kernel_initializer=init, activation='sigmoid')\n",
        "])\n",
        "\n",
        "#model = tf.keras.models.Sequential([\n",
        "#    tf.keras.layers.Embedding(vocab_size, embed_dim, input_length=X.shape[1]),\n",
        "#    tf.keras.layers.LSTM(60, recurrent_dropout=0.5),\n",
        "#    tf.keras.layers.Dense(2,activation='softmax') # classification layer with two classes (neg, pos)\n",
        "#])\n",
        "\n",
        "adam_optimizer = tf.keras.optimizers.Adam(lr=0.01, decay=0.001)\n",
        "model.compile(loss = 'binary_crossentropy', optimizer=adam_optimizer, metrics=['accuracy'])\n",
        "print(model.summary())  "
      ],
      "execution_count": 16,
      "outputs": [
        {
          "output_type": "stream",
          "text": [
            "WARNING:tensorflow:From /usr/local/lib/python3.6/dist-packages/tensorflow/python/ops/resource_variable_ops.py:435: colocate_with (from tensorflow.python.framework.ops) is deprecated and will be removed in a future version.\n",
            "Instructions for updating:\n",
            "Colocations handled automatically by placer.\n",
            "WARNING:tensorflow:From /usr/local/lib/python3.6/dist-packages/tensorflow/python/keras/backend.py:4010: calling dropout (from tensorflow.python.ops.nn_ops) with keep_prob is deprecated and will be removed in a future version.\n",
            "Instructions for updating:\n",
            "Please use `rate` instead of `keep_prob`. Rate should be set to `rate = 1 - keep_prob`.\n",
            "_________________________________________________________________\n",
            "Layer (type)                 Output Shape              Param #   \n",
            "=================================================================\n",
            "embedding (Embedding)        (None, 4700, 32)          150400    \n",
            "_________________________________________________________________\n",
            "lstm (LSTM)                  (None, 100)               53200     \n",
            "_________________________________________________________________\n",
            "dense (Dense)                (None, 2)                 202       \n",
            "=================================================================\n",
            "Total params: 203,802\n",
            "Trainable params: 203,802\n",
            "Non-trainable params: 0\n",
            "_________________________________________________________________\n",
            "None\n"
          ],
          "name": "stdout"
        }
      ]
    },
    {
      "metadata": {
        "id": "Ho0OrZ2TBXpT",
        "colab_type": "code",
        "outputId": "f0389e1f-fbd0-463c-a690-911785d366ab",
        "colab": {
          "base_uri": "https://localhost:8080/",
          "height": 121
        }
      },
      "cell_type": "code",
      "source": [
        "print(sentiment_data['sentiment'].head(5))"
      ],
      "execution_count": 17,
      "outputs": [
        {
          "output_type": "stream",
          "text": [
            "0    pos\n",
            "1    pos\n",
            "2    pos\n",
            "3    pos\n",
            "4    pos\n",
            "Name: sentiment, dtype: object\n"
          ],
          "name": "stdout"
        }
      ]
    },
    {
      "metadata": {
        "id": "lUZgIAtfBhwL",
        "colab_type": "text"
      },
      "cell_type": "markdown",
      "source": [
        "### 1 = postive, 0 = negativ"
      ]
    },
    {
      "metadata": {
        "id": "fkbrl5jH70Vq",
        "colab_type": "code",
        "outputId": "f1ae18a6-799d-456b-beb3-1ff8379c31da",
        "colab": {
          "base_uri": "https://localhost:8080/",
          "height": 138
        }
      },
      "cell_type": "code",
      "source": [
        "Y = pd.get_dummies(sentiment_data['sentiment']).values\n",
        "print(Y)"
      ],
      "execution_count": 18,
      "outputs": [
        {
          "output_type": "stream",
          "text": [
            "[[0 1]\n",
            " [0 1]\n",
            " [0 1]\n",
            " ...\n",
            " [0 1]\n",
            " [1 0]\n",
            " [1 0]]\n"
          ],
          "name": "stdout"
        }
      ]
    },
    {
      "metadata": {
        "id": "hxa-ofat8Ton",
        "colab_type": "code",
        "colab": {}
      },
      "cell_type": "code",
      "source": [
        "from sklearn.model_selection import train_test_split\n",
        "X_train, X_val, Y_train, Y_val = train_test_split(X,Y, test_size = 0.2, random_state = 42)"
      ],
      "execution_count": 0,
      "outputs": []
    },
    {
      "metadata": {
        "id": "zIIOXVWEPy1L",
        "colab_type": "code",
        "outputId": "8e81c8d7-20a2-4ea1-f954-fbe43ff19021",
        "colab": {
          "base_uri": "https://localhost:8080/",
          "height": 236
        }
      },
      "cell_type": "code",
      "source": [
        "pd.DataFrame(X_train).head()"
      ],
      "execution_count": 20,
      "outputs": [
        {
          "output_type": "execute_result",
          "data": {
            "text/html": [
              "<div>\n",
              "<style scoped>\n",
              "    .dataframe tbody tr th:only-of-type {\n",
              "        vertical-align: middle;\n",
              "    }\n",
              "\n",
              "    .dataframe tbody tr th {\n",
              "        vertical-align: top;\n",
              "    }\n",
              "\n",
              "    .dataframe thead th {\n",
              "        text-align: right;\n",
              "    }\n",
              "</style>\n",
              "<table border=\"1\" class=\"dataframe\">\n",
              "  <thead>\n",
              "    <tr style=\"text-align: right;\">\n",
              "      <th></th>\n",
              "      <th>0</th>\n",
              "      <th>1</th>\n",
              "      <th>2</th>\n",
              "      <th>3</th>\n",
              "      <th>4</th>\n",
              "      <th>5</th>\n",
              "      <th>6</th>\n",
              "      <th>7</th>\n",
              "      <th>8</th>\n",
              "      <th>9</th>\n",
              "      <th>...</th>\n",
              "      <th>4690</th>\n",
              "      <th>4691</th>\n",
              "      <th>4692</th>\n",
              "      <th>4693</th>\n",
              "      <th>4694</th>\n",
              "      <th>4695</th>\n",
              "      <th>4696</th>\n",
              "      <th>4697</th>\n",
              "      <th>4698</th>\n",
              "      <th>4699</th>\n",
              "    </tr>\n",
              "  </thead>\n",
              "  <tbody>\n",
              "    <tr>\n",
              "      <th>0</th>\n",
              "      <td>0</td>\n",
              "      <td>0</td>\n",
              "      <td>0</td>\n",
              "      <td>0</td>\n",
              "      <td>0</td>\n",
              "      <td>0</td>\n",
              "      <td>0</td>\n",
              "      <td>0</td>\n",
              "      <td>0</td>\n",
              "      <td>0</td>\n",
              "      <td>...</td>\n",
              "      <td>23</td>\n",
              "      <td>4</td>\n",
              "      <td>130</td>\n",
              "      <td>115</td>\n",
              "      <td>27</td>\n",
              "      <td>1</td>\n",
              "      <td>1282</td>\n",
              "      <td>228</td>\n",
              "      <td>435</td>\n",
              "      <td>19</td>\n",
              "    </tr>\n",
              "    <tr>\n",
              "      <th>1</th>\n",
              "      <td>0</td>\n",
              "      <td>0</td>\n",
              "      <td>0</td>\n",
              "      <td>0</td>\n",
              "      <td>0</td>\n",
              "      <td>0</td>\n",
              "      <td>0</td>\n",
              "      <td>0</td>\n",
              "      <td>0</td>\n",
              "      <td>0</td>\n",
              "      <td>...</td>\n",
              "      <td>150</td>\n",
              "      <td>11</td>\n",
              "      <td>6</td>\n",
              "      <td>133</td>\n",
              "      <td>4391</td>\n",
              "      <td>2</td>\n",
              "      <td>144</td>\n",
              "      <td>858</td>\n",
              "      <td>26</td>\n",
              "      <td>208</td>\n",
              "    </tr>\n",
              "    <tr>\n",
              "      <th>2</th>\n",
              "      <td>0</td>\n",
              "      <td>0</td>\n",
              "      <td>0</td>\n",
              "      <td>0</td>\n",
              "      <td>0</td>\n",
              "      <td>0</td>\n",
              "      <td>0</td>\n",
              "      <td>0</td>\n",
              "      <td>0</td>\n",
              "      <td>0</td>\n",
              "      <td>...</td>\n",
              "      <td>16</td>\n",
              "      <td>9</td>\n",
              "      <td>41</td>\n",
              "      <td>375</td>\n",
              "      <td>210</td>\n",
              "      <td>2</td>\n",
              "      <td>252</td>\n",
              "      <td>344</td>\n",
              "      <td>183</td>\n",
              "      <td>173</td>\n",
              "    </tr>\n",
              "    <tr>\n",
              "      <th>3</th>\n",
              "      <td>0</td>\n",
              "      <td>0</td>\n",
              "      <td>0</td>\n",
              "      <td>0</td>\n",
              "      <td>0</td>\n",
              "      <td>0</td>\n",
              "      <td>0</td>\n",
              "      <td>0</td>\n",
              "      <td>0</td>\n",
              "      <td>0</td>\n",
              "      <td>...</td>\n",
              "      <td>309</td>\n",
              "      <td>2</td>\n",
              "      <td>120</td>\n",
              "      <td>34</td>\n",
              "      <td>1706</td>\n",
              "      <td>16</td>\n",
              "      <td>29</td>\n",
              "      <td>9</td>\n",
              "      <td>4</td>\n",
              "      <td>387</td>\n",
              "    </tr>\n",
              "    <tr>\n",
              "      <th>4</th>\n",
              "      <td>0</td>\n",
              "      <td>0</td>\n",
              "      <td>0</td>\n",
              "      <td>0</td>\n",
              "      <td>0</td>\n",
              "      <td>0</td>\n",
              "      <td>0</td>\n",
              "      <td>0</td>\n",
              "      <td>0</td>\n",
              "      <td>0</td>\n",
              "      <td>...</td>\n",
              "      <td>579</td>\n",
              "      <td>6</td>\n",
              "      <td>219</td>\n",
              "      <td>18</td>\n",
              "      <td>2048</td>\n",
              "      <td>70</td>\n",
              "      <td>618</td>\n",
              "      <td>97</td>\n",
              "      <td>80</td>\n",
              "      <td>283</td>\n",
              "    </tr>\n",
              "  </tbody>\n",
              "</table>\n",
              "<p>5 rows × 4700 columns</p>\n",
              "</div>"
            ],
            "text/plain": [
              "   0     1     2     3     4     5     6     7     8     9     ...   4690  \\\n",
              "0     0     0     0     0     0     0     0     0     0     0  ...     23   \n",
              "1     0     0     0     0     0     0     0     0     0     0  ...    150   \n",
              "2     0     0     0     0     0     0     0     0     0     0  ...     16   \n",
              "3     0     0     0     0     0     0     0     0     0     0  ...    309   \n",
              "4     0     0     0     0     0     0     0     0     0     0  ...    579   \n",
              "\n",
              "   4691  4692  4693  4694  4695  4696  4697  4698  4699  \n",
              "0     4   130   115    27     1  1282   228   435    19  \n",
              "1    11     6   133  4391     2   144   858    26   208  \n",
              "2     9    41   375   210     2   252   344   183   173  \n",
              "3     2   120    34  1706    16    29     9     4   387  \n",
              "4     6   219    18  2048    70   618    97    80   283  \n",
              "\n",
              "[5 rows x 4700 columns]"
            ]
          },
          "metadata": {
            "tags": []
          },
          "execution_count": 20
        }
      ]
    },
    {
      "metadata": {
        "id": "iriQFVQITlUb",
        "colab_type": "code",
        "outputId": "9a6dc645-ab43-490a-af40-2fb23a66ea24",
        "colab": {
          "base_uri": "https://localhost:8080/",
          "height": 206
        }
      },
      "cell_type": "code",
      "source": [
        "pd.DataFrame(Y_train).head()"
      ],
      "execution_count": 21,
      "outputs": [
        {
          "output_type": "execute_result",
          "data": {
            "text/html": [
              "<div>\n",
              "<style scoped>\n",
              "    .dataframe tbody tr th:only-of-type {\n",
              "        vertical-align: middle;\n",
              "    }\n",
              "\n",
              "    .dataframe tbody tr th {\n",
              "        vertical-align: top;\n",
              "    }\n",
              "\n",
              "    .dataframe thead th {\n",
              "        text-align: right;\n",
              "    }\n",
              "</style>\n",
              "<table border=\"1\" class=\"dataframe\">\n",
              "  <thead>\n",
              "    <tr style=\"text-align: right;\">\n",
              "      <th></th>\n",
              "      <th>0</th>\n",
              "      <th>1</th>\n",
              "    </tr>\n",
              "  </thead>\n",
              "  <tbody>\n",
              "    <tr>\n",
              "      <th>0</th>\n",
              "      <td>0</td>\n",
              "      <td>1</td>\n",
              "    </tr>\n",
              "    <tr>\n",
              "      <th>1</th>\n",
              "      <td>0</td>\n",
              "      <td>1</td>\n",
              "    </tr>\n",
              "    <tr>\n",
              "      <th>2</th>\n",
              "      <td>1</td>\n",
              "      <td>0</td>\n",
              "    </tr>\n",
              "    <tr>\n",
              "      <th>3</th>\n",
              "      <td>0</td>\n",
              "      <td>1</td>\n",
              "    </tr>\n",
              "    <tr>\n",
              "      <th>4</th>\n",
              "      <td>1</td>\n",
              "      <td>0</td>\n",
              "    </tr>\n",
              "  </tbody>\n",
              "</table>\n",
              "</div>"
            ],
            "text/plain": [
              "   0  1\n",
              "0  0  1\n",
              "1  0  1\n",
              "2  1  0\n",
              "3  0  1\n",
              "4  1  0"
            ]
          },
          "metadata": {
            "tags": []
          },
          "execution_count": 21
        }
      ]
    },
    {
      "metadata": {
        "id": "7yp-7Lga8cAY",
        "colab_type": "code",
        "colab": {}
      },
      "cell_type": "code",
      "source": [
        "num_epochs = 5\n",
        "batch_size = 32"
      ],
      "execution_count": 0,
      "outputs": []
    },
    {
      "metadata": {
        "id": "ffeK9Tw48eIa",
        "colab_type": "code",
        "outputId": "5f0280d1-802e-49be-9a00-77d0177ec04a",
        "colab": {
          "base_uri": "https://localhost:8080/",
          "height": 280
        }
      },
      "cell_type": "code",
      "source": [
        "history = model.fit(X_train, Y_train, validation_data=(X_val, Y_val), batch_size = batch_size, epochs = num_epochs, shuffle=True, verbose = 1)"
      ],
      "execution_count": 23,
      "outputs": [
        {
          "output_type": "stream",
          "text": [
            "Train on 5251 samples, validate on 1313 samples\n",
            "WARNING:tensorflow:From /usr/local/lib/python3.6/dist-packages/tensorflow/python/ops/math_ops.py:3066: to_int32 (from tensorflow.python.ops.math_ops) is deprecated and will be removed in a future version.\n",
            "Instructions for updating:\n",
            "Use tf.cast instead.\n",
            "Epoch 1/5\n",
            "5251/5251 [==============================] - 2236s 426ms/sample - loss: 0.5903 - acc: 0.6936 - val_loss: 0.5496 - val_acc: 0.7174\n",
            "Epoch 2/5\n",
            "5251/5251 [==============================] - 2218s 422ms/sample - loss: 0.3634 - acc: 0.8455 - val_loss: 0.4013 - val_acc: 0.8126\n",
            "Epoch 3/5\n",
            "5251/5251 [==============================] - 2218s 422ms/sample - loss: 0.2461 - acc: 0.9002 - val_loss: 0.4223 - val_acc: 0.8104\n",
            "Epoch 4/5\n",
            "5251/5251 [==============================] - 2239s 426ms/sample - loss: 0.1690 - acc: 0.9362 - val_loss: 0.4916 - val_acc: 0.8035\n",
            "Epoch 5/5\n",
            "5251/5251 [==============================] - 2214s 422ms/sample - loss: 0.1084 - acc: 0.9632 - val_loss: 0.5834 - val_acc: 0.8153\n"
          ],
          "name": "stdout"
        }
      ]
    },
    {
      "metadata": {
        "id": "GDKevqgS92fd",
        "colab_type": "code",
        "outputId": "de79bcb6-4c8b-4852-8f82-1ff511412041",
        "colab": {
          "base_uri": "https://localhost:8080/",
          "height": 34
        }
      },
      "cell_type": "code",
      "source": [
        "history.history.keys()"
      ],
      "execution_count": 24,
      "outputs": [
        {
          "output_type": "execute_result",
          "data": {
            "text/plain": [
              "dict_keys(['loss', 'acc', 'val_loss', 'val_acc'])"
            ]
          },
          "metadata": {
            "tags": []
          },
          "execution_count": 24
        }
      ]
    },
    {
      "metadata": {
        "id": "2vASMIuv9v4N",
        "colab_type": "code",
        "outputId": "bcd2b693-0921-427b-a4fe-7e35c80e2b43",
        "colab": {
          "base_uri": "https://localhost:8080/",
          "height": 346
        }
      },
      "cell_type": "code",
      "source": [
        "from matplotlib import pyplot\n",
        "\n",
        "pyplot.xkcd()\n",
        "pyplot.plot(history.history['acc'])\n",
        "pyplot.plot(history.history['val_acc'])\n",
        "pyplot.plot(history.history['loss'])\n",
        "pyplot.plot(history.history['val_loss'])\n",
        "pyplot.title('Training / Validation Results')\n",
        "pyplot.ylabel('Accuracy and Loss')\n",
        "pyplot.xlabel('Epoch #')\n",
        "pyplot.legend(['train_acc', 'val_acc', 'train_loss', 'val_loss'], loc='upper left')\n",
        "pyplot.show()\n",
        "\n"
      ],
      "execution_count": 25,
      "outputs": [
        {
          "output_type": "stream",
          "text": [
            "/usr/local/lib/python3.6/dist-packages/matplotlib/font_manager.py:1241: UserWarning: findfont: Font family ['xkcd', 'xkcd Script', 'Humor Sans', 'Comic Sans MS'] not found. Falling back to DejaVu Sans.\n",
            "  (prop.get_family(), self.defaultFamily[fontext]))\n"
          ],
          "name": "stderr"
        },
        {
          "output_type": "display_data",
          "data": {
            "image/png": "[encoded data removed]",
            "text/plain": [
              "<Figure size 432x288 with 1 Axes>"
            ]
          },
          "metadata": {
            "tags": []
          }
        }
      ]
    },
    {
      "metadata": {
        "id": "FZz_bFIz-FAF",
        "colab_type": "code",
        "outputId": "9b16397c-cc42-4f36-d812-98c330cd0bc0",
        "colab": {
          "base_uri": "https://localhost:8080/",
          "height": 69
        }
      },
      "cell_type": "code",
      "source": [
        "score,acc = model.evaluate(X_val, Y_val, verbose = 2, batch_size = batch_size)\n",
        "print(\"Score: %.2f\" % (score))\n",
        "print(\"Validation Accuracy: %.2f\" % (acc))"
      ],
      "execution_count": 26,
      "outputs": [
        {
          "output_type": "stream",
          "text": [
            " - 180s - loss: 0.5834 - acc: 0.8153\n",
            "Score: 0.58\n",
            "Validation Accuracy: 0.82\n"
          ],
          "name": "stdout"
        }
      ]
    },
    {
      "metadata": {
        "id": "A_GTVf9S-JRx",
        "colab_type": "code",
        "colab": {}
      },
      "cell_type": "code",
      "source": [
        "pos_cnt, neg_cnt, pos_correct, neg_correct = 0, 0, 0, 0\n",
        "for x in range(len(X_val)):\n",
        "    \n",
        "    result = model.predict(X_val[x].reshape(1,X_val.shape[1]), batch_size=1, verbose = 0)[0]\n",
        "    \n",
        "    if np.argmax(result) == np.argmax(Y_val[x]):\n",
        "        if np.argmax(Y_val[x]) == 0:\n",
        "            neg_correct += 1\n",
        "        else:\n",
        "            pos_correct += 1\n",
        "            \n",
        "    if np.argmax(Y_val[x]) == 0:\n",
        "        neg_cnt += 1\n",
        "    else:\n",
        "        pos_cnt += 1"
      ],
      "execution_count": 0,
      "outputs": []
    },
    {
      "metadata": {
        "id": "noihVg7w-Vya",
        "colab_type": "code",
        "outputId": "d9637047-c432-428a-9c5d-fe1146215da0",
        "colab": {
          "base_uri": "https://localhost:8080/",
          "height": 52
        }
      },
      "cell_type": "code",
      "source": [
        "print(\"positive accuracy: %.2f\" % (pos_correct/pos_cnt*100))\n",
        "print(\"negative accuracy: %.2f\" % (neg_correct/neg_cnt*100))"
      ],
      "execution_count": 28,
      "outputs": [
        {
          "output_type": "stream",
          "text": [
            "positive accuracy: 84.41\n",
            "negative accuracy: 75.99\n"
          ],
          "name": "stdout"
        }
      ]
    },
    {
      "metadata": {
        "id": "NGhA33WpWCwb",
        "colab_type": "text"
      },
      "cell_type": "markdown",
      "source": [
        "### Serialize the Keras model to JSON and save the model weight"
      ]
    },
    {
      "metadata": {
        "id": "FRcFd26zW_vi",
        "colab_type": "code",
        "colab": {}
      },
      "cell_type": "code",
      "source": [
        "from google.colab import files"
      ],
      "execution_count": 0,
      "outputs": []
    },
    {
      "metadata": {
        "id": "1Lb7SswaWA1a",
        "colab_type": "code",
        "colab": {}
      },
      "cell_type": "code",
      "source": [
        "model_json = model.to_json()\n",
        "with open(\"yelp-sentiment-model.json\", \"w\") as json_file:\n",
        "    json_file.write(model_json)"
      ],
      "execution_count": 0,
      "outputs": []
    },
    {
      "metadata": {
        "id": "ONG1n2dxXDOk",
        "colab_type": "code",
        "colab": {}
      },
      "cell_type": "code",
      "source": [
        "files.download(\"yelp-sentiment-model.json\")"
      ],
      "execution_count": 0,
      "outputs": []
    },
    {
      "metadata": {
        "id": "XrUgLVDCWQHl",
        "colab_type": "code",
        "colab": {}
      },
      "cell_type": "code",
      "source": [
        "model.save_weights(\"yelp-sentiment-model.h5\")\n",
        "print(\"Saved model to disk\")"
      ],
      "execution_count": 0,
      "outputs": []
    },
    {
      "metadata": {
        "id": "XGpM-_8CXIur",
        "colab_type": "code",
        "colab": {}
      },
      "cell_type": "code",
      "source": [
        "files.download('yelp-sentiment-model.h5')"
      ],
      "execution_count": 0,
      "outputs": []
    },
    {
      "metadata": {
        "id": "4dOO478MZAwb",
        "colab_type": "text"
      },
      "cell_type": "markdown",
      "source": [
        "### Load model and use it to predict new reviews"
      ]
    },
    {
      "metadata": {
        "id": "DFaYZAAQtPED",
        "colab_type": "code",
        "colab": {}
      },
      "cell_type": "code",
      "source": [
        "!ls -l"
      ],
      "execution_count": 0,
      "outputs": []
    },
    {
      "metadata": {
        "id": "Bteo9DTOZAaR",
        "colab_type": "code",
        "colab": {}
      },
      "cell_type": "code",
      "source": [
        "json_file = open('yelp-sentiment-model.json', 'r')\n",
        "loaded_model_json = json_file.read()\n",
        "json_file.close()\n",
        "\n",
        "loaded_model = tf.keras.models.model_from_json(loaded_model_json)\n",
        "loaded_model.load_weights(\"yelp-sentiment-model.h5\")\n",
        " \n",
        "loaded_model.compile(loss='binary_crossentropy', optimizer='adam', metrics=['accuracy'])\n",
        "score = loaded_model.evaluate(X_val, Y_val, verbose=0)"
      ],
      "execution_count": 0,
      "outputs": []
    },
    {
      "metadata": {
        "id": "I1WHPpZE-3VW",
        "colab_type": "code",
        "colab": {}
      },
      "cell_type": "code",
      "source": [
        "xval = X_val[1].reshape(1,X_val.shape[1])\n",
        "print(xval)"
      ],
      "execution_count": 0,
      "outputs": []
    },
    {
      "metadata": {
        "id": "vm79zWjs-9Lk",
        "colab_type": "code",
        "colab": {}
      },
      "cell_type": "code",
      "source": [
        "reverse_word_map = dict(map(reversed, tokenizer.word_index.items()))\n",
        "\n",
        "def sequence_to_text(list_of_indices):\n",
        "    words = []\n",
        "    for letter in list_of_indices:\n",
        "        w = reverse_word_map.get(letter)\n",
        "        if(w != None):\n",
        "            words.append(w)\n",
        "    return(words)"
      ],
      "execution_count": 0,
      "outputs": []
    },
    {
      "metadata": {
        "id": "z_DHq2U3_AZC",
        "colab_type": "code",
        "colab": {}
      },
      "cell_type": "code",
      "source": [
        "xval_str = list(map(sequence_to_text, xval))"
      ],
      "execution_count": 0,
      "outputs": []
    },
    {
      "metadata": {
        "id": "ZAjofaEZwnb_",
        "colab_type": "code",
        "colab": {}
      },
      "cell_type": "code",
      "source": [
        "print(xval.shape)"
      ],
      "execution_count": 0,
      "outputs": []
    },
    {
      "metadata": {
        "id": "1i7PVdcJ_DNY",
        "colab_type": "code",
        "colab": {}
      },
      "cell_type": "code",
      "source": [
        "yresult = loaded_model.predict(xval)\n",
        "print(\"words=%s, predicted sentiment=%s\" % (xval_str, yresult))"
      ],
      "execution_count": 0,
      "outputs": []
    },
    {
      "metadata": {
        "id": "twxt5udD_MYH",
        "colab_type": "code",
        "colab": {}
      },
      "cell_type": "code",
      "source": [
        "# 1 = positiv, 0 = negativ\n",
        "result = loaded_model.predict_classes(xval)\n",
        "print(result)"
      ],
      "execution_count": 0,
      "outputs": []
    },
    {
      "metadata": {
        "id": "UMfPjKTJ_eAx",
        "colab_type": "code",
        "colab": {}
      },
      "cell_type": "code",
      "source": [
        "yhat = loaded_model.predict_proba(xval) \n",
        "print(yhat)"
      ],
      "execution_count": 0,
      "outputs": []
    }
  ]
}