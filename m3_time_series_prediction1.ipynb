{
  "nbformat": 4,
  "nbformat_minor": 0,
  "metadata": {
    "colab": {
      "name": "m3-time-series-prediction1.ipynb",
      "version": "0.3.2",
      "provenance": [],
      "collapsed_sections": [],
      "include_colab_link": true
    },
    "kernelspec": {
      "name": "python3",
      "display_name": "Python 3"
    },
    "accelerator": "GPU"
  },
  "cells": [
    {
      "cell_type": "markdown",
      "metadata": {
        "id": "view-in-github",
        "colab_type": "text"
      },
      "source": [
        "<a href=\"https://colab.research.google.com/github/rawar/tensorflow-notebooks/blob/master/m3_time_series_prediction1.ipynb\" target=\"_parent\"><img src=\"https://colab.research.google.com/assets/colab-badge.svg\" alt=\"Open In Colab\"/></a>"
      ]
    },
    {
      "cell_type": "code",
      "metadata": {
        "id": "wvds9XOHxRUp",
        "colab_type": "code",
        "colab": {}
      },
      "source": [
        "#!pip uninstall tensorflow-gpu==2.0.0-alpha0"
      ],
      "execution_count": 0,
      "outputs": []
    },
    {
      "cell_type": "code",
      "metadata": {
        "id": "1w2RbZZbqOAV",
        "colab_type": "code",
        "colab": {}
      },
      "source": [
        "#!pip install tensorflow-gpu==2.0.0-alpha0\n",
        "pip install tf-nightly-gpu"
      ],
      "execution_count": 0,
      "outputs": []
    },
    {
      "cell_type": "code",
      "metadata": {
        "id": "W4Z55fx7rLCa",
        "colab_type": "code",
        "colab": {}
      },
      "source": [
        "import pandas as pd\n",
        "import numpy as np\n",
        "%matplotlib inline\n",
        "import matplotlib.pyplot as plt\n",
        "\n",
        "from sklearn.preprocessing import MinMaxScaler\n",
        "from sklearn.metrics import r2_score"
      ],
      "execution_count": 0,
      "outputs": []
    },
    {
      "cell_type": "code",
      "metadata": {
        "id": "bPFEgO89rPH5",
        "colab_type": "code",
        "colab": {}
      },
      "source": [
        "from pandas_datareader import data"
      ],
      "execution_count": 0,
      "outputs": []
    },
    {
      "cell_type": "code",
      "metadata": {
        "id": "5Qap2yPEr9Di",
        "colab_type": "code",
        "colab": {}
      },
      "source": [
        "tickers = 'AAPL'\n",
        "\n",
        "#start_date = '1980-12-01'\n",
        "start_date = '2016-12-01'\n",
        "end_date = '2019-05-01'\n",
        "\n",
        "stock_data = data.get_data_yahoo(tickers, start_date, end_date)"
      ],
      "execution_count": 0,
      "outputs": []
    },
    {
      "cell_type": "code",
      "metadata": {
        "id": "3bGXK4XPsAHo",
        "colab_type": "code",
        "colab": {
          "base_uri": "https://localhost:8080/",
          "height": 227
        },
        "outputId": "88db0c11-839e-4ca4-fc96-62b5b308e0d3"
      },
      "source": [
        "stock_data.head()"
      ],
      "execution_count": 5,
      "outputs": [
        {
          "output_type": "execute_result",
          "data": {
            "text/html": [
              "<div>\n",
              "<style scoped>\n",
              "    .dataframe tbody tr th:only-of-type {\n",
              "        vertical-align: middle;\n",
              "    }\n",
              "\n",
              "    .dataframe tbody tr th {\n",
              "        vertical-align: top;\n",
              "    }\n",
              "\n",
              "    .dataframe thead th {\n",
              "        text-align: right;\n",
              "    }\n",
              "</style>\n",
              "<table border=\"1\" class=\"dataframe\">\n",
              "  <thead>\n",
              "    <tr style=\"text-align: right;\">\n",
              "      <th></th>\n",
              "      <th>High</th>\n",
              "      <th>Low</th>\n",
              "      <th>Open</th>\n",
              "      <th>Close</th>\n",
              "      <th>Volume</th>\n",
              "      <th>Adj Close</th>\n",
              "    </tr>\n",
              "    <tr>\n",
              "      <th>Date</th>\n",
              "      <th></th>\n",
              "      <th></th>\n",
              "      <th></th>\n",
              "      <th></th>\n",
              "      <th></th>\n",
              "      <th></th>\n",
              "    </tr>\n",
              "  </thead>\n",
              "  <tbody>\n",
              "    <tr>\n",
              "      <th>2016-12-01</th>\n",
              "      <td>110.940002</td>\n",
              "      <td>109.029999</td>\n",
              "      <td>110.370003</td>\n",
              "      <td>109.489998</td>\n",
              "      <td>37086900.0</td>\n",
              "      <td>105.709946</td>\n",
              "    </tr>\n",
              "    <tr>\n",
              "      <th>2016-12-02</th>\n",
              "      <td>110.089996</td>\n",
              "      <td>108.849998</td>\n",
              "      <td>109.169998</td>\n",
              "      <td>109.900002</td>\n",
              "      <td>26528000.0</td>\n",
              "      <td>106.105789</td>\n",
              "    </tr>\n",
              "    <tr>\n",
              "      <th>2016-12-05</th>\n",
              "      <td>110.029999</td>\n",
              "      <td>108.250000</td>\n",
              "      <td>110.000000</td>\n",
              "      <td>109.110001</td>\n",
              "      <td>34324500.0</td>\n",
              "      <td>105.343063</td>\n",
              "    </tr>\n",
              "    <tr>\n",
              "      <th>2016-12-06</th>\n",
              "      <td>110.360001</td>\n",
              "      <td>109.190002</td>\n",
              "      <td>109.500000</td>\n",
              "      <td>109.949997</td>\n",
              "      <td>26195500.0</td>\n",
              "      <td>106.154060</td>\n",
              "    </tr>\n",
              "    <tr>\n",
              "      <th>2016-12-07</th>\n",
              "      <td>111.190002</td>\n",
              "      <td>109.160004</td>\n",
              "      <td>109.260002</td>\n",
              "      <td>111.029999</td>\n",
              "      <td>29998700.0</td>\n",
              "      <td>107.196770</td>\n",
              "    </tr>\n",
              "  </tbody>\n",
              "</table>\n",
              "</div>"
            ],
            "text/plain": [
              "                  High         Low        Open       Close      Volume  \\\n",
              "Date                                                                     \n",
              "2016-12-01  110.940002  109.029999  110.370003  109.489998  37086900.0   \n",
              "2016-12-02  110.089996  108.849998  109.169998  109.900002  26528000.0   \n",
              "2016-12-05  110.029999  108.250000  110.000000  109.110001  34324500.0   \n",
              "2016-12-06  110.360001  109.190002  109.500000  109.949997  26195500.0   \n",
              "2016-12-07  111.190002  109.160004  109.260002  111.029999  29998700.0   \n",
              "\n",
              "             Adj Close  \n",
              "Date                    \n",
              "2016-12-01  105.709946  \n",
              "2016-12-02  106.105789  \n",
              "2016-12-05  105.343063  \n",
              "2016-12-06  106.154060  \n",
              "2016-12-07  107.196770  "
            ]
          },
          "metadata": {
            "tags": []
          },
          "execution_count": 5
        }
      ]
    },
    {
      "cell_type": "code",
      "metadata": {
        "id": "yb8qhsrvtOac",
        "colab_type": "code",
        "colab": {
          "base_uri": "https://localhost:8080/",
          "height": 298
        },
        "outputId": "5ddece98-7c97-4fb6-deae-ab2f09fce029"
      },
      "source": [
        "stock_data_frame = stock_data[[\"Close\"]]\n",
        "stock_data_frame.plot()"
      ],
      "execution_count": 6,
      "outputs": [
        {
          "output_type": "execute_result",
          "data": {
            "text/plain": [
              "<matplotlib.axes._subplots.AxesSubplot at 0x7fc6b14cb1d0>"
            ]
          },
          "metadata": {
            "tags": []
          },
          "execution_count": 6
        },
        {
          "output_type": "display_data",
          "data": {
            "image/png": "[encoded data removed]",
            "text/plain": [
              "<Figure size 432x288 with 1 Axes>"
            ]
          },
          "metadata": {
            "tags": []
          }
        }
      ]
    },
    {
      "cell_type": "code",
      "metadata": {
        "id": "5E4SpbFCteIJ",
        "colab_type": "code",
        "colab": {
          "base_uri": "https://localhost:8080/",
          "height": 298
        },
        "outputId": "8322989c-cc2c-496f-c677-09a75e4f930b"
      },
      "source": [
        "split_date = pd.Timestamp('2018-09-15')\n",
        "train = stock_data_frame.loc[:split_date]\n",
        "test = stock_data_frame.loc[split_date:]\n",
        "ax = train.plot()\n",
        "test.plot(ax=ax)\n",
        "plt.legend(['train', 'test'])\n"
      ],
      "execution_count": 40,
      "outputs": [
        {
          "output_type": "execute_result",
          "data": {
            "text/plain": [
              "<matplotlib.legend.Legend at 0x7fc6339f08d0>"
            ]
          },
          "metadata": {
            "tags": []
          },
          "execution_count": 40
        },
        {
          "output_type": "display_data",
          "data": {
            "image/png": "[encoded data removed]",
            "text/plain": [
              "<Figure size 432x288 with 1 Axes>"
            ]
          },
          "metadata": {
            "tags": []
          }
        }
      ]
    },
    {
      "cell_type": "code",
      "metadata": {
        "id": "Vvi98W5nt2VV",
        "colab_type": "code",
        "colab": {}
      },
      "source": [
        "sc = MinMaxScaler()\n",
        "train_sc = sc.fit_transform(train)\n",
        "test_sc = sc.transform(test)"
      ],
      "execution_count": 0,
      "outputs": []
    },
    {
      "cell_type": "code",
      "metadata": {
        "id": "sJK73kjKt9cB",
        "colab_type": "code",
        "colab": {}
      },
      "source": [
        "\n",
        "X_train = train_sc[:-1]\n",
        "y_train = train_sc[1:]\n",
        "\n",
        "X_test = test_sc[:-1]\n",
        "y_test = test_sc[1:]"
      ],
      "execution_count": 0,
      "outputs": []
    },
    {
      "cell_type": "code",
      "metadata": {
        "id": "nr_9rO6Ft-jR",
        "colab_type": "code",
        "colab": {}
      },
      "source": [
        "\n",
        "X_tr_t = X_train.reshape(X_train.shape[0], 1, X_train.shape[1])\n",
        "X_tst_t = X_test.reshape(X_test.shape[0], 1, X_test.shape[1])"
      ],
      "execution_count": 0,
      "outputs": []
    },
    {
      "cell_type": "code",
      "metadata": {
        "id": "FV2u32pnuDTz",
        "colab_type": "code",
        "colab": {}
      },
      "source": [
        "import tensorflow as tf"
      ],
      "execution_count": 0,
      "outputs": []
    },
    {
      "cell_type": "code",
      "metadata": {
        "id": "scD947_ruS9E",
        "colab_type": "code",
        "colab": {
          "base_uri": "https://localhost:8080/",
          "height": 7127
        },
        "outputId": "70c49ed1-2456-4ab2-ca1d-d142d3990e87"
      },
      "source": [
        "model_lstm = tf.keras.Sequential()\n",
        "model_lstm.add(tf.keras.layers.LSTM(7, input_shape=(1, X_train.shape[1]), activation='relu', kernel_initializer='lecun_uniform', return_sequences=False))\n",
        "model_lstm.add(tf.keras.layers.Dense(1))\n",
        "model_lstm.compile(loss='mean_squared_error', optimizer='adam')\n",
        "early_stop = tf.keras.callbacks.EarlyStopping(monitor='loss', patience=5, verbose=1)\n",
        "history_model_lstm = model_lstm.fit(X_tr_t, y_train, epochs=200, batch_size=1, verbose=1, shuffle=False, callbacks=[early_stop])"
      ],
      "execution_count": 45,
      "outputs": [
        {
          "output_type": "stream",
          "text": [
            "Epoch 1/200\n",
            "449/449 [==============================] - 3s 7ms/sample - loss: 0.0377\n",
            "Epoch 2/200\n",
            "449/449 [==============================] - 2s 4ms/sample - loss: 0.0247\n",
            "Epoch 3/200\n",
            "449/449 [==============================] - 2s 4ms/sample - loss: 0.0154\n",
            "Epoch 4/200\n",
            "449/449 [==============================] - 2s 4ms/sample - loss: 0.0077\n",
            "Epoch 5/200\n",
            "449/449 [==============================] - 2s 4ms/sample - loss: 0.0041\n",
            "Epoch 6/200\n",
            "449/449 [==============================] - 2s 4ms/sample - loss: 0.0025\n",
            "Epoch 7/200\n",
            "449/449 [==============================] - 2s 4ms/sample - loss: 0.0017\n",
            "Epoch 8/200\n",
            "449/449 [==============================] - 2s 5ms/sample - loss: 0.0013\n",
            "Epoch 9/200\n",
            "449/449 [==============================] - 2s 5ms/sample - loss: 0.0011\n",
            "Epoch 10/200\n",
            "449/449 [==============================] - 2s 5ms/sample - loss: 9.3928e-04\n",
            "Epoch 11/200\n",
            "449/449 [==============================] - 2s 5ms/sample - loss: 8.6084e-04\n",
            "Epoch 12/200\n",
            "449/449 [==============================] - 2s 5ms/sample - loss: 8.0527e-04\n",
            "Epoch 13/200\n",
            "449/449 [==============================] - 2s 4ms/sample - loss: 7.6268e-04\n",
            "Epoch 14/200\n",
            "449/449 [==============================] - 2s 4ms/sample - loss: 7.2363e-04\n",
            "Epoch 15/200\n",
            "449/449 [==============================] - 2s 4ms/sample - loss: 7.0046e-04\n",
            "Epoch 16/200\n",
            "449/449 [==============================] - 2s 4ms/sample - loss: 6.7466e-04\n",
            "Epoch 17/200\n",
            "449/449 [==============================] - 2s 4ms/sample - loss: 6.5285e-04\n",
            "Epoch 18/200\n",
            "449/449 [==============================] - 2s 4ms/sample - loss: 6.3039e-04\n",
            "Epoch 19/200\n",
            "449/449 [==============================] - 2s 4ms/sample - loss: 6.1066e-04\n",
            "Epoch 20/200\n",
            "449/449 [==============================] - 2s 4ms/sample - loss: 5.8887e-04\n",
            "Epoch 21/200\n",
            "449/449 [==============================] - 2s 4ms/sample - loss: 5.6677e-04\n",
            "Epoch 22/200\n",
            "449/449 [==============================] - 2s 4ms/sample - loss: 5.4124e-04\n",
            "Epoch 23/200\n",
            "449/449 [==============================] - 2s 4ms/sample - loss: 5.1785e-04\n",
            "Epoch 24/200\n",
            "449/449 [==============================] - 2s 4ms/sample - loss: 4.9766e-04\n",
            "Epoch 25/200\n",
            "449/449 [==============================] - 2s 4ms/sample - loss: 4.8211e-04\n",
            "Epoch 26/200\n",
            "449/449 [==============================] - 2s 4ms/sample - loss: 4.7018e-04\n",
            "Epoch 27/200\n",
            "449/449 [==============================] - 2s 4ms/sample - loss: 4.6149e-04\n",
            "Epoch 28/200\n",
            "449/449 [==============================] - 2s 4ms/sample - loss: 4.5386e-04\n",
            "Epoch 29/200\n",
            "449/449 [==============================] - 2s 4ms/sample - loss: 4.4743e-04\n",
            "Epoch 30/200\n",
            "449/449 [==============================] - 2s 4ms/sample - loss: 4.4261e-04\n",
            "Epoch 31/200\n",
            "449/449 [==============================] - 2s 5ms/sample - loss: 4.3987e-04\n",
            "Epoch 32/200\n",
            "449/449 [==============================] - 2s 5ms/sample - loss: 4.3445e-04\n",
            "Epoch 33/200\n",
            "449/449 [==============================] - 2s 5ms/sample - loss: 4.2791e-04\n",
            "Epoch 34/200\n",
            "449/449 [==============================] - 2s 4ms/sample - loss: 4.2167e-04\n",
            "Epoch 35/200\n",
            "449/449 [==============================] - 2s 4ms/sample - loss: 4.1544e-04\n",
            "Epoch 36/200\n",
            "449/449 [==============================] - 2s 4ms/sample - loss: 4.0872e-04\n",
            "Epoch 37/200\n",
            "449/449 [==============================] - 2s 4ms/sample - loss: 4.0114e-04\n",
            "Epoch 38/200\n",
            "449/449 [==============================] - 2s 4ms/sample - loss: 3.9467e-04\n",
            "Epoch 39/200\n",
            "449/449 [==============================] - 2s 4ms/sample - loss: 3.9044e-04\n",
            "Epoch 40/200\n",
            "449/449 [==============================] - 2s 4ms/sample - loss: 3.8594e-04\n",
            "Epoch 41/200\n",
            "449/449 [==============================] - 2s 4ms/sample - loss: 3.8284e-04\n",
            "Epoch 42/200\n",
            "449/449 [==============================] - 2s 4ms/sample - loss: 3.8028e-04\n",
            "Epoch 43/200\n",
            "449/449 [==============================] - 2s 4ms/sample - loss: 3.7798e-04\n",
            "Epoch 44/200\n",
            "449/449 [==============================] - 2s 4ms/sample - loss: 3.7593e-04\n",
            "Epoch 45/200\n",
            "449/449 [==============================] - 2s 4ms/sample - loss: 3.7414e-04\n",
            "Epoch 46/200\n",
            "449/449 [==============================] - 2s 4ms/sample - loss: 3.7237e-04\n",
            "Epoch 47/200\n",
            "449/449 [==============================] - 2s 4ms/sample - loss: 3.7087e-04\n",
            "Epoch 48/200\n",
            "449/449 [==============================] - 2s 4ms/sample - loss: 3.6966e-04\n",
            "Epoch 49/200\n",
            "449/449 [==============================] - 2s 5ms/sample - loss: 3.6854e-04\n",
            "Epoch 50/200\n",
            "449/449 [==============================] - 2s 5ms/sample - loss: 3.6769e-04\n",
            "Epoch 51/200\n",
            "449/449 [==============================] - 2s 5ms/sample - loss: 3.6687e-04\n",
            "Epoch 52/200\n",
            "449/449 [==============================] - 2s 5ms/sample - loss: 3.6614e-04\n",
            "Epoch 53/200\n",
            "449/449 [==============================] - 2s 5ms/sample - loss: 3.6550e-04\n",
            "Epoch 54/200\n",
            "449/449 [==============================] - 2s 4ms/sample - loss: 3.6497e-04\n",
            "Epoch 55/200\n",
            "449/449 [==============================] - 2s 4ms/sample - loss: 3.6454e-04\n",
            "Epoch 56/200\n",
            "449/449 [==============================] - 2s 4ms/sample - loss: 3.6445e-04\n",
            "Epoch 57/200\n",
            "449/449 [==============================] - 2s 4ms/sample - loss: 3.6425e-04\n",
            "Epoch 58/200\n",
            "449/449 [==============================] - 2s 4ms/sample - loss: 3.6418e-04\n",
            "Epoch 59/200\n",
            "449/449 [==============================] - 2s 4ms/sample - loss: 3.6404e-04\n",
            "Epoch 60/200\n",
            "449/449 [==============================] - 2s 4ms/sample - loss: 3.6378e-04\n",
            "Epoch 61/200\n",
            "449/449 [==============================] - 2s 4ms/sample - loss: 3.6394e-04\n",
            "Epoch 62/200\n",
            "449/449 [==============================] - 2s 4ms/sample - loss: 3.6335e-04\n",
            "Epoch 63/200\n",
            "449/449 [==============================] - 2s 4ms/sample - loss: 3.6302e-04\n",
            "Epoch 64/200\n",
            "449/449 [==============================] - 2s 4ms/sample - loss: 3.6319e-04\n",
            "Epoch 65/200\n",
            "449/449 [==============================] - 2s 4ms/sample - loss: 3.6272e-04\n",
            "Epoch 66/200\n",
            "449/449 [==============================] - 2s 5ms/sample - loss: 3.6251e-04\n",
            "Epoch 67/200\n",
            "449/449 [==============================] - 2s 5ms/sample - loss: 3.6268e-04\n",
            "Epoch 68/200\n",
            "449/449 [==============================] - 2s 5ms/sample - loss: 3.6219e-04\n",
            "Epoch 69/200\n",
            "449/449 [==============================] - 2s 5ms/sample - loss: 3.6232e-04\n",
            "Epoch 70/200\n",
            "449/449 [==============================] - 2s 5ms/sample - loss: 3.6184e-04\n",
            "Epoch 71/200\n",
            "449/449 [==============================] - 2s 4ms/sample - loss: 3.6195e-04\n",
            "Epoch 72/200\n",
            "449/449 [==============================] - 2s 4ms/sample - loss: 3.6153e-04\n",
            "Epoch 73/200\n",
            "449/449 [==============================] - 2s 4ms/sample - loss: 3.6165e-04\n",
            "Epoch 74/200\n",
            "449/449 [==============================] - 2s 4ms/sample - loss: 3.6130e-04\n",
            "Epoch 75/200\n",
            "449/449 [==============================] - 2s 4ms/sample - loss: 3.6144e-04\n",
            "Epoch 76/200\n",
            "449/449 [==============================] - 2s 4ms/sample - loss: 3.6113e-04\n",
            "Epoch 77/200\n",
            "449/449 [==============================] - 2s 4ms/sample - loss: 3.6127e-04\n",
            "Epoch 78/200\n",
            "449/449 [==============================] - 2s 4ms/sample - loss: 3.6099e-04\n",
            "Epoch 79/200\n",
            "449/449 [==============================] - 2s 4ms/sample - loss: 3.6108e-04\n",
            "Epoch 80/200\n",
            "449/449 [==============================] - 2s 4ms/sample - loss: 3.6081e-04\n",
            "Epoch 81/200\n",
            "449/449 [==============================] - 2s 4ms/sample - loss: 3.6089e-04\n",
            "Epoch 82/200\n",
            "449/449 [==============================] - 2s 4ms/sample - loss: 3.6065e-04\n",
            "Epoch 83/200\n",
            "449/449 [==============================] - 2s 4ms/sample - loss: 3.6072e-04\n",
            "Epoch 84/200\n",
            "449/449 [==============================] - 2s 4ms/sample - loss: 3.6056e-04\n",
            "Epoch 85/200\n",
            "449/449 [==============================] - 2s 4ms/sample - loss: 3.6060e-04\n",
            "Epoch 86/200\n",
            "449/449 [==============================] - 2s 4ms/sample - loss: 3.6028e-04\n",
            "Epoch 87/200\n",
            "449/449 [==============================] - 2s 4ms/sample - loss: 3.6036e-04\n",
            "Epoch 88/200\n",
            "449/449 [==============================] - 2s 4ms/sample - loss: 3.6012e-04\n",
            "Epoch 89/200\n",
            "449/449 [==============================] - 2s 4ms/sample - loss: 3.6021e-04\n",
            "Epoch 90/200\n",
            "449/449 [==============================] - 2s 5ms/sample - loss: 3.6003e-04\n",
            "Epoch 91/200\n",
            "449/449 [==============================] - 2s 5ms/sample - loss: 3.6008e-04\n",
            "Epoch 92/200\n",
            "449/449 [==============================] - 2s 5ms/sample - loss: 3.5982e-04\n",
            "Epoch 93/200\n",
            "449/449 [==============================] - 2s 5ms/sample - loss: 3.5983e-04\n",
            "Epoch 94/200\n",
            "449/449 [==============================] - 2s 5ms/sample - loss: 3.5968e-04\n",
            "Epoch 95/200\n",
            "449/449 [==============================] - 2s 4ms/sample - loss: 3.5966e-04\n",
            "Epoch 96/200\n",
            "449/449 [==============================] - 2s 4ms/sample - loss: 3.5945e-04\n",
            "Epoch 97/200\n",
            "449/449 [==============================] - 2s 4ms/sample - loss: 3.5947e-04\n",
            "Epoch 98/200\n",
            "449/449 [==============================] - 2s 4ms/sample - loss: 3.5935e-04\n",
            "Epoch 99/200\n",
            "449/449 [==============================] - 2s 4ms/sample - loss: 3.5933e-04\n",
            "Epoch 100/200\n",
            "449/449 [==============================] - 2s 4ms/sample - loss: 3.5914e-04\n",
            "Epoch 101/200\n",
            "449/449 [==============================] - 2s 4ms/sample - loss: 3.5916e-04\n",
            "Epoch 102/200\n",
            "449/449 [==============================] - 2s 4ms/sample - loss: 3.5904e-04\n",
            "Epoch 103/200\n",
            "449/449 [==============================] - 2s 4ms/sample - loss: 3.5911e-04\n",
            "Epoch 104/200\n",
            "449/449 [==============================] - 2s 4ms/sample - loss: 3.5894e-04\n",
            "Epoch 105/200\n",
            "449/449 [==============================] - 2s 4ms/sample - loss: 3.5888e-04\n",
            "Epoch 106/200\n",
            "449/449 [==============================] - 2s 4ms/sample - loss: 3.5863e-04\n",
            "Epoch 107/200\n",
            "449/449 [==============================] - 2s 4ms/sample - loss: 3.5862e-04\n",
            "Epoch 108/200\n",
            "449/449 [==============================] - 2s 4ms/sample - loss: 3.5852e-04\n",
            "Epoch 109/200\n",
            "449/449 [==============================] - 2s 4ms/sample - loss: 3.5845e-04\n",
            "Epoch 110/200\n",
            "449/449 [==============================] - 2s 4ms/sample - loss: 3.5837e-04\n",
            "Epoch 111/200\n",
            "449/449 [==============================] - 2s 4ms/sample - loss: 3.5825e-04\n",
            "Epoch 112/200\n",
            "449/449 [==============================] - 2s 4ms/sample - loss: 3.5811e-04\n",
            "Epoch 113/200\n",
            "449/449 [==============================] - 2s 4ms/sample - loss: 3.5806e-04\n",
            "Epoch 114/200\n",
            "449/449 [==============================] - 2s 4ms/sample - loss: 3.5795e-04\n",
            "Epoch 115/200\n",
            "449/449 [==============================] - 2s 4ms/sample - loss: 3.5789e-04\n",
            "Epoch 116/200\n",
            "449/449 [==============================] - 2s 4ms/sample - loss: 3.5779e-04\n",
            "Epoch 117/200\n",
            "449/449 [==============================] - 2s 4ms/sample - loss: 3.5776e-04\n",
            "Epoch 118/200\n",
            "449/449 [==============================] - 2s 4ms/sample - loss: 3.5755e-04\n",
            "Epoch 119/200\n",
            "449/449 [==============================] - 2s 4ms/sample - loss: 3.5756e-04\n",
            "Epoch 120/200\n",
            "449/449 [==============================] - 2s 4ms/sample - loss: 3.5742e-04\n",
            "Epoch 121/200\n",
            "449/449 [==============================] - 2s 4ms/sample - loss: 3.5733e-04\n",
            "Epoch 122/200\n",
            "449/449 [==============================] - 2s 4ms/sample - loss: 3.5723e-04\n",
            "Epoch 123/200\n",
            "449/449 [==============================] - 2s 4ms/sample - loss: 3.5721e-04\n",
            "Epoch 124/200\n",
            "449/449 [==============================] - 2s 4ms/sample - loss: 3.5703e-04\n",
            "Epoch 125/200\n",
            "449/449 [==============================] - 2s 4ms/sample - loss: 3.5697e-04\n",
            "Epoch 126/200\n",
            "449/449 [==============================] - 2s 4ms/sample - loss: 3.5678e-04\n",
            "Epoch 127/200\n",
            "449/449 [==============================] - 2s 4ms/sample - loss: 3.5680e-04\n",
            "Epoch 128/200\n",
            "449/449 [==============================] - 2s 4ms/sample - loss: 3.5668e-04\n",
            "Epoch 129/200\n",
            "449/449 [==============================] - 2s 4ms/sample - loss: 3.5663e-04\n",
            "Epoch 130/200\n",
            "449/449 [==============================] - 2s 4ms/sample - loss: 3.5646e-04\n",
            "Epoch 131/200\n",
            "449/449 [==============================] - 2s 4ms/sample - loss: 3.5642e-04\n",
            "Epoch 132/200\n",
            "449/449 [==============================] - 2s 5ms/sample - loss: 3.5625e-04\n",
            "Epoch 133/200\n",
            "449/449 [==============================] - 2s 5ms/sample - loss: 3.5622e-04\n",
            "Epoch 134/200\n",
            "449/449 [==============================] - 2s 5ms/sample - loss: 3.5606e-04\n",
            "Epoch 135/200\n",
            "449/449 [==============================] - 2s 5ms/sample - loss: 3.5604e-04\n",
            "Epoch 136/200\n",
            "449/449 [==============================] - 2s 5ms/sample - loss: 3.5587e-04\n",
            "Epoch 137/200\n",
            "449/449 [==============================] - 2s 4ms/sample - loss: 3.5586e-04\n",
            "Epoch 138/200\n",
            "449/449 [==============================] - 2s 4ms/sample - loss: 3.5569e-04\n",
            "Epoch 139/200\n",
            "449/449 [==============================] - 2s 4ms/sample - loss: 3.5568e-04\n",
            "Epoch 140/200\n",
            "449/449 [==============================] - 2s 4ms/sample - loss: 3.5552e-04\n",
            "Epoch 141/200\n",
            "449/449 [==============================] - 2s 4ms/sample - loss: 3.5551e-04\n",
            "Epoch 142/200\n",
            "449/449 [==============================] - 2s 4ms/sample - loss: 3.5534e-04\n",
            "Epoch 143/200\n",
            "449/449 [==============================] - 2s 4ms/sample - loss: 3.5534e-04\n",
            "Epoch 144/200\n",
            "449/449 [==============================] - 2s 4ms/sample - loss: 3.5517e-04\n",
            "Epoch 145/200\n",
            "449/449 [==============================] - 2s 4ms/sample - loss: 3.5518e-04\n",
            "Epoch 146/200\n",
            "449/449 [==============================] - 2s 4ms/sample - loss: 3.5500e-04\n",
            "Epoch 147/200\n",
            "449/449 [==============================] - 2s 4ms/sample - loss: 3.5501e-04\n",
            "Epoch 148/200\n",
            "449/449 [==============================] - 2s 4ms/sample - loss: 3.5483e-04\n",
            "Epoch 149/200\n",
            "449/449 [==============================] - 2s 4ms/sample - loss: 3.5485e-04\n",
            "Epoch 150/200\n",
            "449/449 [==============================] - 2s 4ms/sample - loss: 3.5480e-04\n",
            "Epoch 151/200\n",
            "449/449 [==============================] - 2s 4ms/sample - loss: 3.5469e-04\n",
            "Epoch 152/200\n",
            "449/449 [==============================] - 2s 4ms/sample - loss: 3.5467e-04\n",
            "Epoch 153/200\n",
            "449/449 [==============================] - 2s 4ms/sample - loss: 3.5462e-04\n",
            "Epoch 154/200\n",
            "449/449 [==============================] - 2s 4ms/sample - loss: 3.5471e-04\n",
            "Epoch 155/200\n",
            "449/449 [==============================] - 2s 4ms/sample - loss: 3.5457e-04\n",
            "Epoch 156/200\n",
            "449/449 [==============================] - 2s 4ms/sample - loss: 3.5462e-04\n",
            "Epoch 157/200\n",
            "449/449 [==============================] - 2s 4ms/sample - loss: 3.5448e-04\n",
            "Epoch 158/200\n",
            "449/449 [==============================] - 2s 4ms/sample - loss: 3.5451e-04\n",
            "Epoch 159/200\n",
            "449/449 [==============================] - 2s 4ms/sample - loss: 3.5444e-04\n",
            "Epoch 160/200\n",
            "449/449 [==============================] - 2s 4ms/sample - loss: 3.5430e-04\n",
            "Epoch 161/200\n",
            "449/449 [==============================] - 2s 4ms/sample - loss: 3.5437e-04\n",
            "Epoch 162/200\n",
            "449/449 [==============================] - 2s 4ms/sample - loss: 3.5412e-04\n",
            "Epoch 163/200\n",
            "449/449 [==============================] - 2s 4ms/sample - loss: 3.5411e-04\n",
            "Epoch 164/200\n",
            "449/449 [==============================] - 2s 4ms/sample - loss: 3.5406e-04\n",
            "Epoch 165/200\n",
            "449/449 [==============================] - 2s 4ms/sample - loss: 3.5389e-04\n",
            "Epoch 166/200\n",
            "449/449 [==============================] - 2s 4ms/sample - loss: 3.5383e-04\n",
            "Epoch 167/200\n",
            "449/449 [==============================] - 2s 4ms/sample - loss: 3.5369e-04\n",
            "Epoch 168/200\n",
            "449/449 [==============================] - 2s 4ms/sample - loss: 3.5376e-04\n",
            "Epoch 169/200\n",
            "449/449 [==============================] - 2s 4ms/sample - loss: 3.5350e-04\n",
            "Epoch 170/200\n",
            "449/449 [==============================] - 2s 4ms/sample - loss: 3.5360e-04\n",
            "Epoch 171/200\n",
            "449/449 [==============================] - 2s 4ms/sample - loss: 3.5328e-04\n",
            "Epoch 172/200\n",
            "449/449 [==============================] - 2s 4ms/sample - loss: 3.5341e-04\n",
            "Epoch 173/200\n",
            "449/449 [==============================] - 2s 4ms/sample - loss: 3.5322e-04\n",
            "Epoch 174/200\n",
            "449/449 [==============================] - 2s 5ms/sample - loss: 3.5322e-04\n",
            "Epoch 175/200\n",
            "449/449 [==============================] - 2s 5ms/sample - loss: 3.5306e-04\n",
            "Epoch 176/200\n",
            "449/449 [==============================] - 2s 5ms/sample - loss: 3.5314e-04\n",
            "Epoch 177/200\n",
            "449/449 [==============================] - 2s 5ms/sample - loss: 3.5287e-04\n",
            "Epoch 178/200\n",
            "449/449 [==============================] - 2s 5ms/sample - loss: 3.5297e-04\n",
            "Epoch 179/200\n",
            "449/449 [==============================] - 2s 4ms/sample - loss: 3.5278e-04\n",
            "Epoch 180/200\n",
            "449/449 [==============================] - 2s 4ms/sample - loss: 3.5278e-04\n",
            "Epoch 181/200\n",
            "449/449 [==============================] - 2s 4ms/sample - loss: 3.5270e-04\n",
            "Epoch 182/200\n",
            "449/449 [==============================] - 2s 4ms/sample - loss: 3.5252e-04\n",
            "Epoch 183/200\n",
            "449/449 [==============================] - 2s 4ms/sample - loss: 3.5252e-04\n",
            "Epoch 184/200\n",
            "449/449 [==============================] - 2s 4ms/sample - loss: 3.5245e-04\n",
            "Epoch 185/200\n",
            "449/449 [==============================] - 2s 4ms/sample - loss: 3.5229e-04\n",
            "Epoch 186/200\n",
            "449/449 [==============================] - 2s 4ms/sample - loss: 3.5228e-04\n",
            "Epoch 187/200\n",
            "449/449 [==============================] - 2s 4ms/sample - loss: 3.5223e-04\n",
            "Epoch 188/200\n",
            "449/449 [==============================] - 2s 4ms/sample - loss: 3.5206e-04\n",
            "Epoch 189/200\n",
            "449/449 [==============================] - 2s 5ms/sample - loss: 3.5205e-04\n",
            "Epoch 190/200\n",
            "449/449 [==============================] - 2s 5ms/sample - loss: 3.5201e-04\n",
            "Epoch 191/200\n",
            "449/449 [==============================] - 2s 5ms/sample - loss: 3.5185e-04\n",
            "Epoch 192/200\n",
            "449/449 [==============================] - 2s 4ms/sample - loss: 3.5184e-04\n",
            "Epoch 193/200\n",
            "449/449 [==============================] - 2s 4ms/sample - loss: 3.5180e-04\n",
            "Epoch 194/200\n",
            "449/449 [==============================] - 2s 4ms/sample - loss: 3.5173e-04\n",
            "Epoch 195/200\n",
            "449/449 [==============================] - 2s 4ms/sample - loss: 3.5159e-04\n",
            "Epoch 196/200\n",
            "449/449 [==============================] - 2s 4ms/sample - loss: 3.5160e-04\n",
            "Epoch 197/200\n",
            "449/449 [==============================] - 2s 4ms/sample - loss: 3.5155e-04\n",
            "Epoch 198/200\n",
            "449/449 [==============================] - 2s 4ms/sample - loss: 3.5148e-04\n",
            "Epoch 199/200\n",
            "449/449 [==============================] - 2s 4ms/sample - loss: 3.5120e-04\n",
            "Epoch 200/200\n",
            "449/449 [==============================] - 2s 4ms/sample - loss: 3.5136e-04\n"
          ],
          "name": "stdout"
        }
      ]
    },
    {
      "cell_type": "code",
      "metadata": {
        "id": "fvnWhdM50mcB",
        "colab_type": "code",
        "colab": {}
      },
      "source": [
        "def adj_r2_score(r2, n, k):\n",
        "    return 1-((1-r2)*((n-1)/(n-k-1)))"
      ],
      "execution_count": 0,
      "outputs": []
    },
    {
      "cell_type": "markdown",
      "metadata": {
        "id": "54oitCjpWGRG",
        "colab_type": "text"
      },
      "source": [
        "R2, Anpassungsgüte der Regession: 0 = kein Linearer Zusammenhang, 1 perfekter linearer Zusammenhang"
      ]
    },
    {
      "cell_type": "code",
      "metadata": {
        "id": "RIPTkxI60imj",
        "colab_type": "code",
        "colab": {
          "base_uri": "https://localhost:8080/",
          "height": 105
        },
        "outputId": "b2515e59-c2eb-425f-f567-6dad444ae67a"
      },
      "source": [
        "y_pred_test_lstm = model_lstm.predict(X_tst_t)\n",
        "y_train_pred_lstm = model_lstm.predict(X_tr_t)\n",
        "print(\"The R2 score on the Train set is:\\t{:0.3f}\".format(r2_score(y_train, y_train_pred_lstm)))\n",
        "r2_train = r2_score(y_train, y_train_pred_lstm)\n",
        "print(\"The Adjusted R2 score on the Train set is:\\t{:0.3f}\\n\".format(adj_r2_score(r2_train, X_train.shape[0], X_train.shape[1])))\n",
        "print(\"The R2 score on the Test set is:\\t{:0.3f}\".format(r2_score(y_test, y_pred_test_lstm)))\n",
        "r2_test = r2_score(y_test, y_pred_test_lstm)\n",
        "print(\"The Adjusted R2 score on the Test set is:\\t{:0.3f}\".format(adj_r2_score(r2_test, X_test.shape[0], X_test.shape[1])))"
      ],
      "execution_count": 47,
      "outputs": [
        {
          "output_type": "stream",
          "text": [
            "The R2 score on the Train set is:\t0.974\n",
            "The Adjusted R2 score on the Train set is:\t0.974\n",
            "\n",
            "The R2 score on the Test set is:\t0.953\n",
            "The Adjusted R2 score on the Test set is:\t0.953\n"
          ],
          "name": "stdout"
        }
      ]
    },
    {
      "cell_type": "code",
      "metadata": {
        "id": "BrKTiWp91Apz",
        "colab_type": "code",
        "colab": {}
      },
      "source": [
        "model_lstm.save('LSTM_NonShift_v2.h5')"
      ],
      "execution_count": 0,
      "outputs": []
    },
    {
      "cell_type": "code",
      "metadata": {
        "id": "KXpWFiR_DIkr",
        "colab_type": "code",
        "colab": {}
      },
      "source": [
        "model_lstm = tf.keras.models.load_model('LSTM_NonShift_v2.h5')"
      ],
      "execution_count": 0,
      "outputs": []
    },
    {
      "cell_type": "code",
      "metadata": {
        "id": "5EbO2lDSDWjT",
        "colab_type": "code",
        "colab": {
          "base_uri": "https://localhost:8080/",
          "height": 34
        },
        "outputId": "64561b5c-7cd6-492b-b1e5-d6c876a75521"
      },
      "source": [
        "score_lstm= model_lstm.evaluate(X_tst_t, y_test, batch_size=1)"
      ],
      "execution_count": 50,
      "outputs": [
        {
          "output_type": "stream",
          "text": [
            "155/155 [==============================] - 1s 5ms/sample - loss: 0.0018\n"
          ],
          "name": "stdout"
        }
      ]
    },
    {
      "cell_type": "code",
      "metadata": {
        "id": "lPmdcY4YDbJA",
        "colab_type": "code",
        "colab": {
          "base_uri": "https://localhost:8080/",
          "height": 34
        },
        "outputId": "eb4d06a0-fdbf-49c9-e87e-3ef2bc269b36"
      },
      "source": [
        "print('LSTM: %f'%score_lstm)"
      ],
      "execution_count": 51,
      "outputs": [
        {
          "output_type": "stream",
          "text": [
            "LSTM: 0.001847\n"
          ],
          "name": "stdout"
        }
      ]
    },
    {
      "cell_type": "code",
      "metadata": {
        "id": "MqGkf5QJDef_",
        "colab_type": "code",
        "colab": {}
      },
      "source": [
        "y_pred_test_LSTM = model_lstm.predict(X_tst_t)"
      ],
      "execution_count": 0,
      "outputs": []
    },
    {
      "cell_type": "code",
      "metadata": {
        "id": "lWKY56aKDlLs",
        "colab_type": "code",
        "colab": {
          "base_uri": "https://localhost:8080/",
          "height": 294
        },
        "outputId": "29b1eb34-3f8e-49b9-a313-ce13d00f7ac6"
      },
      "source": [
        "plt.plot(y_test, label='True')\n",
        "plt.plot(y_pred_test_LSTM, label='LSTM')\n",
        "plt.title(\"LSTM's_Prediction\")\n",
        "plt.xlabel('Observation')\n",
        "plt.ylabel('INR_Scaled')\n",
        "plt.legend()\n",
        "plt.show()"
      ],
      "execution_count": 53,
      "outputs": [
        {
          "output_type": "display_data",
          "data": {
            "image/png": "[encoded data removed]",
            "text/plain": [
              "<Figure size 432x288 with 1 Axes>"
            ]
          },
          "metadata": {
            "tags": []
          }
        }
      ]
    }
  ]
}