{
  "nbformat": 4,
  "nbformat_minor": 0,
  "metadata": {
    "colab": {
      "name": "m3-time-series-prediction1.ipynb",
      "version": "0.3.2",
      "provenance": [],
      "include_colab_link": true
    },
    "kernelspec": {
      "name": "python3",
      "display_name": "Python 3"
    },
    "accelerator": "GPU"
  },
  "cells": [
    {
      "cell_type": "markdown",
      "metadata": {
        "id": "view-in-github",
        "colab_type": "text"
      },
      "source": [
        "<a href=\"https://colab.research.google.com/github/rawar/tensorflow-notebooks/blob/master/m3_time_series_prediction1.ipynb\" target=\"_parent\"><img src=\"https://colab.research.google.com/assets/colab-badge.svg\" alt=\"Open In Colab\"/></a>"
      ]
    },
    {
      "cell_type": "code",
      "metadata": {
        "id": "wvds9XOHxRUp",
        "colab_type": "code",
        "colab": {}
      },
      "source": [
        "#!pip uninstall tensorflow-gpu==2.0.0-alpha0"
      ],
      "execution_count": 0,
      "outputs": []
    },
    {
      "cell_type": "code",
      "metadata": {
        "id": "1w2RbZZbqOAV",
        "colab_type": "code",
        "colab": {
          "base_uri": "https://localhost:8080/",
          "height": 377
        },
        "outputId": "431805c1-ba03-4500-8373-5a45cdd7dc70"
      },
      "source": [
        "#!pip install tensorflow-gpu==2.0.0-alpha0\n",
        "pip install tf-nightly-gpu"
      ],
      "execution_count": 1,
      "outputs": [
        {
          "output_type": "stream",
          "text": [
            "Requirement already satisfied: tf-nightly-gpu in /usr/local/lib/python3.6/dist-packages (1.14.1.dev20190510)\n",
            "Requirement already satisfied: keras-preprocessing>=1.0.5 in /usr/local/lib/python3.6/dist-packages (from tf-nightly-gpu) (1.0.9)\n",
            "Requirement already satisfied: numpy<2.0,>=1.14.5 in /usr/local/lib/python3.6/dist-packages (from tf-nightly-gpu) (1.16.3)\n",
            "Requirement already satisfied: astor>=0.6.0 in /usr/local/lib/python3.6/dist-packages (from tf-nightly-gpu) (0.7.1)\n",
            "Requirement already satisfied: wheel>=0.26 in /usr/local/lib/python3.6/dist-packages (from tf-nightly-gpu) (0.33.1)\n",
            "Requirement already satisfied: termcolor>=1.1.0 in /usr/local/lib/python3.6/dist-packages (from tf-nightly-gpu) (1.1.0)\n",
            "Requirement already satisfied: google-pasta>=0.1.6 in /usr/local/lib/python3.6/dist-packages (from tf-nightly-gpu) (0.1.6)\n",
            "Requirement already satisfied: protobuf>=3.6.1 in /usr/local/lib/python3.6/dist-packages (from tf-nightly-gpu) (3.7.1)\n",
            "Requirement already satisfied: six>=1.10.0 in /usr/local/lib/python3.6/dist-packages (from tf-nightly-gpu) (1.12.0)\n",
            "Requirement already satisfied: tb-nightly<1.15.0a0,>=1.14.0a0 in /usr/local/lib/python3.6/dist-packages (from tf-nightly-gpu) (1.14.0a20190510)\n",
            "Requirement already satisfied: grpcio>=1.8.6 in /usr/local/lib/python3.6/dist-packages (from tf-nightly-gpu) (1.15.0)\n",
            "Requirement already satisfied: wrapt>=1.11.1 in /usr/local/lib/python3.6/dist-packages (from tf-nightly-gpu) (1.11.1)\n",
            "Requirement already satisfied: keras-applications>=1.0.6 in /usr/local/lib/python3.6/dist-packages (from tf-nightly-gpu) (1.0.7)\n",
            "Requirement already satisfied: gast>=0.2.0 in /usr/local/lib/python3.6/dist-packages (from tf-nightly-gpu) (0.2.2)\n",
            "Requirement already satisfied: tf-estimator-nightly in /usr/local/lib/python3.6/dist-packages (from tf-nightly-gpu) (1.14.0.dev2019030115)\n",
            "Requirement already satisfied: absl-py>=0.7.0 in /usr/local/lib/python3.6/dist-packages (from tf-nightly-gpu) (0.7.1)\n",
            "Requirement already satisfied: setuptools in /usr/local/lib/python3.6/dist-packages (from protobuf>=3.6.1->tf-nightly-gpu) (41.0.1)\n",
            "Requirement already satisfied: markdown>=2.6.8 in /usr/local/lib/python3.6/dist-packages (from tb-nightly<1.15.0a0,>=1.14.0a0->tf-nightly-gpu) (3.1)\n",
            "Requirement already satisfied: werkzeug>=0.11.15 in /usr/local/lib/python3.6/dist-packages (from tb-nightly<1.15.0a0,>=1.14.0a0->tf-nightly-gpu) (0.15.2)\n",
            "Requirement already satisfied: h5py in /usr/local/lib/python3.6/dist-packages (from keras-applications>=1.0.6->tf-nightly-gpu) (2.8.0)\n"
          ],
          "name": "stdout"
        }
      ]
    },
    {
      "cell_type": "code",
      "metadata": {
        "id": "W4Z55fx7rLCa",
        "colab_type": "code",
        "colab": {}
      },
      "source": [
        "import pandas as pd\n",
        "import numpy as np\n",
        "%matplotlib inline\n",
        "import matplotlib.pyplot as plt\n",
        "\n",
        "from sklearn.preprocessing import MinMaxScaler\n",
        "from sklearn.metrics import r2_score"
      ],
      "execution_count": 0,
      "outputs": []
    },
    {
      "cell_type": "code",
      "metadata": {
        "id": "bPFEgO89rPH5",
        "colab_type": "code",
        "colab": {}
      },
      "source": [
        "from pandas_datareader import data"
      ],
      "execution_count": 0,
      "outputs": []
    },
    {
      "cell_type": "code",
      "metadata": {
        "id": "5Qap2yPEr9Di",
        "colab_type": "code",
        "colab": {}
      },
      "source": [
        "tickers = 'AAPL'\n",
        "\n",
        "start_date = '1980-12-01'\n",
        "end_date = '2018-12-31'\n",
        "\n",
        "stock_data = data.get_data_yahoo(tickers, start_date, end_date)"
      ],
      "execution_count": 0,
      "outputs": []
    },
    {
      "cell_type": "code",
      "metadata": {
        "id": "3bGXK4XPsAHo",
        "colab_type": "code",
        "colab": {
          "base_uri": "https://localhost:8080/",
          "height": 235
        },
        "outputId": "8b76888c-2f0b-4a78-fb3f-c6b9c7c38f19"
      },
      "source": [
        "stock_data.head()"
      ],
      "execution_count": 5,
      "outputs": [
        {
          "output_type": "execute_result",
          "data": {
            "text/html": [
              "<div>\n",
              "<style scoped>\n",
              "    .dataframe tbody tr th:only-of-type {\n",
              "        vertical-align: middle;\n",
              "    }\n",
              "\n",
              "    .dataframe tbody tr th {\n",
              "        vertical-align: top;\n",
              "    }\n",
              "\n",
              "    .dataframe thead th {\n",
              "        text-align: right;\n",
              "    }\n",
              "</style>\n",
              "<table border=\"1\" class=\"dataframe\">\n",
              "  <thead>\n",
              "    <tr style=\"text-align: right;\">\n",
              "      <th></th>\n",
              "      <th>High</th>\n",
              "      <th>Low</th>\n",
              "      <th>Open</th>\n",
              "      <th>Close</th>\n",
              "      <th>Volume</th>\n",
              "      <th>Adj Close</th>\n",
              "    </tr>\n",
              "    <tr>\n",
              "      <th>Date</th>\n",
              "      <th></th>\n",
              "      <th></th>\n",
              "      <th></th>\n",
              "      <th></th>\n",
              "      <th></th>\n",
              "      <th></th>\n",
              "    </tr>\n",
              "  </thead>\n",
              "  <tbody>\n",
              "    <tr>\n",
              "      <th>1980-12-12</th>\n",
              "      <td>0.515625</td>\n",
              "      <td>0.513393</td>\n",
              "      <td>0.513393</td>\n",
              "      <td>0.513393</td>\n",
              "      <td>117258400.0</td>\n",
              "      <td>0.023007</td>\n",
              "    </tr>\n",
              "    <tr>\n",
              "      <th>1980-12-15</th>\n",
              "      <td>0.488839</td>\n",
              "      <td>0.486607</td>\n",
              "      <td>0.488839</td>\n",
              "      <td>0.486607</td>\n",
              "      <td>43971200.0</td>\n",
              "      <td>0.021807</td>\n",
              "    </tr>\n",
              "    <tr>\n",
              "      <th>1980-12-16</th>\n",
              "      <td>0.453125</td>\n",
              "      <td>0.450893</td>\n",
              "      <td>0.453125</td>\n",
              "      <td>0.450893</td>\n",
              "      <td>26432000.0</td>\n",
              "      <td>0.020206</td>\n",
              "    </tr>\n",
              "    <tr>\n",
              "      <th>1980-12-17</th>\n",
              "      <td>0.464286</td>\n",
              "      <td>0.462054</td>\n",
              "      <td>0.462054</td>\n",
              "      <td>0.462054</td>\n",
              "      <td>21610400.0</td>\n",
              "      <td>0.020706</td>\n",
              "    </tr>\n",
              "    <tr>\n",
              "      <th>1980-12-18</th>\n",
              "      <td>0.477679</td>\n",
              "      <td>0.475446</td>\n",
              "      <td>0.475446</td>\n",
              "      <td>0.475446</td>\n",
              "      <td>18362400.0</td>\n",
              "      <td>0.021307</td>\n",
              "    </tr>\n",
              "  </tbody>\n",
              "</table>\n",
              "</div>"
            ],
            "text/plain": [
              "                High       Low      Open     Close       Volume  Adj Close\n",
              "Date                                                                      \n",
              "1980-12-12  0.515625  0.513393  0.513393  0.513393  117258400.0   0.023007\n",
              "1980-12-15  0.488839  0.486607  0.488839  0.486607   43971200.0   0.021807\n",
              "1980-12-16  0.453125  0.450893  0.453125  0.450893   26432000.0   0.020206\n",
              "1980-12-17  0.464286  0.462054  0.462054  0.462054   21610400.0   0.020706\n",
              "1980-12-18  0.477679  0.475446  0.475446  0.475446   18362400.0   0.021307"
            ]
          },
          "metadata": {
            "tags": []
          },
          "execution_count": 5
        }
      ]
    },
    {
      "cell_type": "code",
      "metadata": {
        "id": "yb8qhsrvtOac",
        "colab_type": "code",
        "colab": {
          "base_uri": "https://localhost:8080/",
          "height": 290
        },
        "outputId": "d0c08d82-7f62-4e7f-f057-5dddb93a3cf4"
      },
      "source": [
        "stock_data_frame = stock_data[[\"Close\"]]\n",
        "stock_data_frame.plot()"
      ],
      "execution_count": 6,
      "outputs": [
        {
          "output_type": "execute_result",
          "data": {
            "text/plain": [
              "<matplotlib.axes._subplots.AxesSubplot at 0x7f904dcac128>"
            ]
          },
          "metadata": {
            "tags": []
          },
          "execution_count": 6
        },
        {
          "output_type": "display_data",
          "data": {
            "image/png": "[encoded data removed]",
            "text/plain": [
              "<Figure size 432x288 with 1 Axes>"
            ]
          },
          "metadata": {
            "tags": []
          }
        }
      ]
    },
    {
      "cell_type": "code",
      "metadata": {
        "id": "5E4SpbFCteIJ",
        "colab_type": "code",
        "colab": {
          "base_uri": "https://localhost:8080/",
          "height": 290
        },
        "outputId": "1494ad71-b555-459a-865c-4edd098797ad"
      },
      "source": [
        "split_date = pd.Timestamp('01-01-2017')\n",
        "train = stock_data_frame.loc[:split_date]\n",
        "test = stock_data_frame.loc[split_date:]\n",
        "ax = train.plot()\n",
        "test.plot(ax=ax)\n",
        "plt.legend(['train', 'test'])\n"
      ],
      "execution_count": 7,
      "outputs": [
        {
          "output_type": "execute_result",
          "data": {
            "text/plain": [
              "<matplotlib.legend.Legend at 0x7f902c73f6a0>"
            ]
          },
          "metadata": {
            "tags": []
          },
          "execution_count": 7
        },
        {
          "output_type": "display_data",
          "data": {
            "image/png": "[encoded data removed]",
            "text/plain": [
              "<Figure size 432x288 with 1 Axes>"
            ]
          },
          "metadata": {
            "tags": []
          }
        }
      ]
    },
    {
      "cell_type": "code",
      "metadata": {
        "id": "Vvi98W5nt2VV",
        "colab_type": "code",
        "colab": {}
      },
      "source": [
        "sc = MinMaxScaler()\n",
        "train_sc = sc.fit_transform(train)\n",
        "test_sc = sc.transform(test)"
      ],
      "execution_count": 0,
      "outputs": []
    },
    {
      "cell_type": "code",
      "metadata": {
        "id": "sJK73kjKt9cB",
        "colab_type": "code",
        "colab": {}
      },
      "source": [
        "\n",
        "X_train = train_sc[:-1]\n",
        "y_train = train_sc[1:]\n",
        "\n",
        "X_test = test_sc[:-1]\n",
        "y_test = test_sc[1:]"
      ],
      "execution_count": 0,
      "outputs": []
    },
    {
      "cell_type": "code",
      "metadata": {
        "id": "nr_9rO6Ft-jR",
        "colab_type": "code",
        "colab": {}
      },
      "source": [
        "\n",
        "X_tr_t = X_train.reshape(X_train.shape[0], 1, X_train.shape[1])\n",
        "X_tst_t = X_test.reshape(X_test.shape[0], 1, X_test.shape[1])"
      ],
      "execution_count": 0,
      "outputs": []
    },
    {
      "cell_type": "code",
      "metadata": {
        "id": "FV2u32pnuDTz",
        "colab_type": "code",
        "colab": {}
      },
      "source": [
        "import tensorflow as tf"
      ],
      "execution_count": 0,
      "outputs": []
    },
    {
      "cell_type": "code",
      "metadata": {
        "id": "scD947_ruS9E",
        "colab_type": "code",
        "colab": {
          "base_uri": "https://localhost:8080/",
          "height": 1210
        },
        "outputId": "86de9e98-1f13-48d4-cbe9-1a213a439b0d"
      },
      "source": [
        "model_lstm = tf.keras.Sequential()\n",
        "model_lstm.add(tf.keras.layers.LSTM(7, input_shape=(1, X_train.shape[1]), activation='relu', kernel_initializer='lecun_uniform', return_sequences=False))\n",
        "model_lstm.add(tf.keras.layers.Dense(1))\n",
        "model_lstm.compile(loss='mean_squared_error', optimizer='adam')\n",
        "early_stop = tf.keras.callbacks.EarlyStopping(monitor='loss', patience=5, verbose=1)\n",
        "history_model_lstm = model_lstm.fit(X_tr_t, y_train, epochs=200, batch_size=1, verbose=1, shuffle=False, callbacks=[early_stop])"
      ],
      "execution_count": 12,
      "outputs": [
        {
          "output_type": "stream",
          "text": [
            "WARNING: Logging before flag parsing goes to stderr.\n",
            "W0510 12:56:40.933606 140257868326784 deprecation.py:506] From /usr/local/lib/python3.6/dist-packages/tensorflow/python/ops/init_ops.py:1251: calling VarianceScaling.__init__ (from tensorflow.python.ops.init_ops) with dtype is deprecated and will be removed in a future version.\n",
            "Instructions for updating:\n",
            "Call initializer instance with the dtype argument instead of passing it to the constructor\n"
          ],
          "name": "stderr"
        },
        {
          "output_type": "stream",
          "text": [
            "Epoch 1/200\n",
            "9091/9091 [==============================] - 40s 4ms/sample - loss: 5.2537e-05\n",
            "Epoch 2/200\n",
            "9091/9091 [==============================] - 39s 4ms/sample - loss: 5.3693e-04\n",
            "Epoch 3/200\n",
            "9091/9091 [==============================] - 38s 4ms/sample - loss: 1.0988e-04\n",
            "Epoch 4/200\n",
            "9091/9091 [==============================] - 39s 4ms/sample - loss: 6.4580e-05\n",
            "Epoch 5/200\n",
            "9091/9091 [==============================] - 37s 4ms/sample - loss: 5.3046e-05\n",
            "Epoch 6/200\n",
            "9091/9091 [==============================] - 39s 4ms/sample - loss: 4.8637e-05\n",
            "Epoch 7/200\n",
            "9091/9091 [==============================] - 37s 4ms/sample - loss: 4.6627e-05\n",
            "Epoch 8/200\n",
            "9091/9091 [==============================] - 39s 4ms/sample - loss: 4.5539e-05\n",
            "Epoch 9/200\n",
            "9091/9091 [==============================] - 38s 4ms/sample - loss: 4.5307e-05\n",
            "Epoch 10/200\n",
            "9091/9091 [==============================] - 40s 4ms/sample - loss: 4.3494e-05\n",
            "Epoch 11/200\n",
            "9091/9091 [==============================] - 38s 4ms/sample - loss: 4.2959e-05\n",
            "Epoch 12/200\n",
            "9091/9091 [==============================] - 40s 4ms/sample - loss: 4.2509e-05\n",
            "Epoch 13/200\n",
            "9091/9091 [==============================] - 38s 4ms/sample - loss: 4.1276e-05\n",
            "Epoch 14/200\n",
            "9091/9091 [==============================] - 40s 4ms/sample - loss: 4.0861e-05\n",
            "Epoch 15/200\n",
            "9091/9091 [==============================] - 39s 4ms/sample - loss: 4.2444e-05\n",
            "Epoch 16/200\n",
            "9091/9091 [==============================] - 41s 5ms/sample - loss: 3.9803e-05\n",
            "Epoch 17/200\n",
            "9091/9091 [==============================] - 39s 4ms/sample - loss: 4.1327e-05\n",
            "Epoch 18/200\n",
            "9091/9091 [==============================] - 39s 4ms/sample - loss: 3.9437e-05\n",
            "Epoch 19/200\n",
            "9091/9091 [==============================] - 39s 4ms/sample - loss: 3.8516e-05\n",
            "Epoch 20/200\n",
            "9091/9091 [==============================] - 38s 4ms/sample - loss: 3.8263e-05\n",
            "Epoch 21/200\n",
            "9091/9091 [==============================] - 39s 4ms/sample - loss: 3.7838e-05\n",
            "Epoch 22/200\n",
            "9091/9091 [==============================] - 38s 4ms/sample - loss: 3.7531e-05\n",
            "Epoch 23/200\n",
            "9091/9091 [==============================] - 40s 4ms/sample - loss: 3.7251e-05\n",
            "Epoch 24/200\n",
            "9091/9091 [==============================] - 40s 4ms/sample - loss: 3.7040e-05\n",
            "Epoch 25/200\n",
            "9091/9091 [==============================] - 41s 4ms/sample - loss: 3.6822e-05\n",
            "Epoch 26/200\n",
            "9091/9091 [==============================] - 38s 4ms/sample - loss: 3.6417e-05\n",
            "Epoch 27/200\n",
            "9091/9091 [==============================] - 40s 4ms/sample - loss: 3.5675e-05\n",
            "Epoch 28/200\n",
            "9091/9091 [==============================] - 38s 4ms/sample - loss: 3.8571e-05\n",
            "Epoch 29/200\n",
            "9091/9091 [==============================] - 40s 4ms/sample - loss: 3.8307e-05\n",
            "Epoch 30/200\n",
            "9091/9091 [==============================] - 38s 4ms/sample - loss: 3.8592e-05\n",
            "Epoch 31/200\n",
            "9091/9091 [==============================] - 39s 4ms/sample - loss: 3.8655e-05\n",
            "Epoch 32/200\n",
            "9091/9091 [==============================] - 40s 4ms/sample - loss: 3.8353e-05\n",
            "Epoch 00032: early stopping\n"
          ],
          "name": "stdout"
        }
      ]
    },
    {
      "cell_type": "code",
      "metadata": {
        "id": "fvnWhdM50mcB",
        "colab_type": "code",
        "colab": {}
      },
      "source": [
        "def adj_r2_score(r2, n, k):\n",
        "    return 1-((1-r2)*((n-1)/(n-k-1)))"
      ],
      "execution_count": 0,
      "outputs": []
    },
    {
      "cell_type": "code",
      "metadata": {
        "id": "RIPTkxI60imj",
        "colab_type": "code",
        "colab": {
          "base_uri": "https://localhost:8080/",
          "height": 102
        },
        "outputId": "bd8c8bc8-507c-48b6-821d-74dfbc3d1fe6"
      },
      "source": [
        "y_pred_test_lstm = model_lstm.predict(X_tst_t)\n",
        "y_train_pred_lstm = model_lstm.predict(X_tr_t)\n",
        "print(\"The R2 score on the Train set is:\\t{:0.3f}\".format(r2_score(y_train, y_train_pred_lstm)))\n",
        "r2_train = r2_score(y_train, y_train_pred_lstm)\n",
        "print(\"The Adjusted R2 score on the Train set is:\\t{:0.3f}\\n\".format(adj_r2_score(r2_train, X_train.shape[0], X_train.shape[1])))\n",
        "print(\"The R2 score on the Test set is:\\t{:0.3f}\".format(r2_score(y_test, y_pred_test_lstm)))\n",
        "r2_test = r2_score(y_test, y_pred_test_lstm)\n",
        "print(\"The Adjusted R2 score on the Test set is:\\t{:0.3f}\".format(adj_r2_score(r2_test, X_test.shape[0], X_test.shape[1])))"
      ],
      "execution_count": 14,
      "outputs": [
        {
          "output_type": "stream",
          "text": [
            "The R2 score on the Train set is:\t0.862\n",
            "The Adjusted R2 score on the Train set is:\t0.862\n",
            "\n",
            "The R2 score on the Test set is:\t0.349\n",
            "The Adjusted R2 score on the Test set is:\t0.347\n"
          ],
          "name": "stdout"
        }
      ]
    },
    {
      "cell_type": "code",
      "metadata": {
        "id": "BrKTiWp91Apz",
        "colab_type": "code",
        "colab": {}
      },
      "source": [
        "model_lstm.save('LSTM_NonShift.h5')"
      ],
      "execution_count": 0,
      "outputs": []
    },
    {
      "cell_type": "code",
      "metadata": {
        "id": "KXpWFiR_DIkr",
        "colab_type": "code",
        "colab": {
          "base_uri": "https://localhost:8080/",
          "height": 190
        },
        "outputId": "63034d0a-7af0-4620-f676-888ea552875e"
      },
      "source": [
        "model_lstm = tf.keras.models.load_model('LSTM_NonShift.h5')"
      ],
      "execution_count": 17,
      "outputs": [
        {
          "output_type": "stream",
          "text": [
            "W0510 14:02:16.845632 140257868326784 deprecation.py:506] From /usr/local/lib/python3.6/dist-packages/tensorflow/python/ops/init_ops.py:97: calling Orthogonal.__init__ (from tensorflow.python.ops.init_ops) with dtype is deprecated and will be removed in a future version.\n",
            "Instructions for updating:\n",
            "Call initializer instance with the dtype argument instead of passing it to the constructor\n",
            "W0510 14:02:16.847959 140257868326784 deprecation.py:506] From /usr/local/lib/python3.6/dist-packages/tensorflow/python/ops/init_ops.py:97: calling Zeros.__init__ (from tensorflow.python.ops.init_ops) with dtype is deprecated and will be removed in a future version.\n",
            "Instructions for updating:\n",
            "Call initializer instance with the dtype argument instead of passing it to the constructor\n",
            "W0510 14:02:17.036863 140257868326784 deprecation.py:506] From /usr/local/lib/python3.6/dist-packages/tensorflow/python/ops/init_ops.py:97: calling GlorotUniform.__init__ (from tensorflow.python.ops.init_ops) with dtype is deprecated and will be removed in a future version.\n",
            "Instructions for updating:\n",
            "Call initializer instance with the dtype argument instead of passing it to the constructor\n"
          ],
          "name": "stderr"
        }
      ]
    },
    {
      "cell_type": "code",
      "metadata": {
        "id": "5EbO2lDSDWjT",
        "colab_type": "code",
        "colab": {
          "base_uri": "https://localhost:8080/",
          "height": 34
        },
        "outputId": "bd7e8bd7-badf-4b15-d163-aa61358461bf"
      },
      "source": [
        "score_lstm= model_lstm.evaluate(X_tst_t, y_test, batch_size=1)"
      ],
      "execution_count": 18,
      "outputs": [
        {
          "output_type": "stream",
          "text": [
            "501/501 [==============================] - 1s 2ms/sample - loss: 0.0253\n"
          ],
          "name": "stdout"
        }
      ]
    },
    {
      "cell_type": "code",
      "metadata": {
        "id": "lPmdcY4YDbJA",
        "colab_type": "code",
        "colab": {
          "base_uri": "https://localhost:8080/",
          "height": 34
        },
        "outputId": "3a0881b2-f84e-4e45-eb6f-5dc2fffb2e6e"
      },
      "source": [
        "print('LSTM: %f'%score_lstm)"
      ],
      "execution_count": 19,
      "outputs": [
        {
          "output_type": "stream",
          "text": [
            "LSTM: 0.025260\n"
          ],
          "name": "stdout"
        }
      ]
    },
    {
      "cell_type": "code",
      "metadata": {
        "id": "MqGkf5QJDef_",
        "colab_type": "code",
        "colab": {}
      },
      "source": [
        "y_pred_test_LSTM = model_lstm.predict(X_tst_t)"
      ],
      "execution_count": 0,
      "outputs": []
    },
    {
      "cell_type": "code",
      "metadata": {
        "id": "lWKY56aKDlLs",
        "colab_type": "code",
        "colab": {
          "base_uri": "https://localhost:8080/",
          "height": 295
        },
        "outputId": "80b00a33-8bda-41aa-ca2b-7e18c3af46f1"
      },
      "source": [
        "plt.plot(y_test, label='True')\n",
        "plt.plot(y_pred_test_LSTM, label='LSTM')\n",
        "plt.title(\"LSTM's_Prediction\")\n",
        "plt.xlabel('Observation')\n",
        "plt.ylabel('INR_Scaled')\n",
        "plt.legend()\n",
        "plt.show()"
      ],
      "execution_count": 21,
      "outputs": [
        {
          "output_type": "display_data",
          "data": {
            "image/png": "[encoded data removed]",
            "text/plain": [
              "<Figure size 432x288 with 1 Axes>"
            ]
          },
          "metadata": {
            "tags": []
          }
        }
      ]
    }
  ]
}